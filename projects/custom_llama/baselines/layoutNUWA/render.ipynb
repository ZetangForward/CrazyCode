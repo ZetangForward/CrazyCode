{
 "cells": [
  {
   "cell_type": "code",
   "execution_count": 39,
   "metadata": {},
   "outputs": [
    {
     "name": "stdout",
     "output_type": "stream",
     "text": [
      "begin to read data from /zecheng2/svg/icon-shop/meta_data/test_generation_results/checkpoint-2360_offline_750_valid_v2_sampled_1000_all.jsonl ...\n"
     ]
    },
    {
     "name": "stdout",
     "output_type": "stream",
     "text": [
      "1000\n"
     ]
    }
   ],
   "source": [
    "import numpy as np\n",
    "import os\n",
    "import glob\n",
    "import logging\n",
    "import json\n",
    "import sys\n",
    "sys.path.append(\"/workspace/zecheng/modelzipper/projects\")\n",
    "from tqdm import tqdm\n",
    "from concurrent import futures\n",
    "from argparse import ArgumentParser\n",
    "from change_deepsvg.svglib.svg import SVG\n",
    "from change_deepsvg.svglib.geom import Bbox, Angle, Point\n",
    "from change_deepsvg.difflib.tensor import SVGTensor\n",
    "from modelzipper.tutils import *\n",
    "import torch\n",
    "from tqdm import trange\n",
    "from PIL import Image\n",
    "\n",
    "\n",
    "FILE = \"/zecheng2/svg/icon-shop/meta_data/test_generation_results/checkpoint-2360_offline_750_valid_v2_sampled_1000_all.jsonl\"\n",
    "SAVE_DIR = \"/zecheng2/vqllama/baselines/test_baselines/layoutnuwa\"\n",
    "\n",
    "data = auto_read_data(FILE)\n",
    "\n",
    "print(len(data))"
   ]
  },
  {
   "cell_type": "code",
   "execution_count": 43,
   "metadata": {},
   "outputs": [
    {
     "name": "stderr",
     "output_type": "stream",
     "text": [
      "100%|██████████| 1000/1000 [00:55<00:00, 17.95it/s]\n"
     ]
    },
    {
     "name": "stdout",
     "output_type": "stream",
     "text": [
      "jsonl file saved successfully!\n",
      "Save file to /zecheng2/vqllama/baselines/test_baselines/layoutnuwa/meta_data.jsonl | len: 939\n"
     ]
    }
   ],
   "source": [
    "meta_data = []\n",
    "\n",
    "for i in trange(len(data)):\n",
    "    keywords = data[i][\"prompt\"].split('Keywords:')[-1].split('#Begin:')[0].strip()\n",
    "    processed_svg_path = data[i]['processed_res']\n",
    "    file_path = data[i]['file_path'].replace('zecheng', 'zecheng2')\n",
    "    golden_svg = data[i]['golden_svg']\n",
    "    \n",
    "    svg = SVG.from_str(processed_svg_path[0])\n",
    "    svg_tensor = svg.to_tensor()[7:]\n",
    "    if len(svg_tensor) == 0:\n",
    "        continue\n",
    "    svg = SVGTensor.from_data(svg_tensor)\n",
    "    svg_ = SVG.from_tensor(svg.data, viewbox=Bbox(200))\n",
    "    svg_ = svg_.normalize().split_paths().set_color(\"random\")\n",
    "    save_path = os.path.join(SAVE_DIR, f\"images/{i}.png\")\n",
    "    svg_.save_png(save_path)\n",
    "    \n",
    "    cur_meta = {\n",
    "        \"keywords\": keywords,\n",
    "        \"file_path\": file_path,\n",
    "        \"golden_svg\": golden_svg,\n",
    "        \"processed_png\": save_path,\n",
    "        \"processed_svg_path\": processed_svg_path,\n",
    "    }\n",
    "    \n",
    "    meta_data.append(cur_meta)\n",
    "    \n",
    "\n",
    "auto_save_data(meta_data, os.path.join(SAVE_DIR, \"meta_data.jsonl\"))\n",
    "    \n",
    "    "
   ]
  },
  {
   "cell_type": "code",
   "execution_count": 46,
   "metadata": {},
   "outputs": [
    {
     "name": "stdout",
     "output_type": "stream",
     "text": [
      "/zecheng2/vqllama/baselines/test_baselines/layoutnuwa/big_images not exist! --> Create dir /zecheng2/vqllama/baselines/test_baselines/layoutnuwa/big_images\n"
     ]
    }
   ],
   "source": [
    "def merge_images(\n",
    "        image_path_lst, raw_image_size_w=None, raw_image_size_h=None, image_row=10, image_col=10,\n",
    "    ):\n",
    "    image_list = []\n",
    "    for image_path in image_path_lst:\n",
    "        image = Image.open(image_path)\n",
    "        image_list.append(image)\n",
    "\n",
    "    sub_image_w = raw_image_size_w if raw_image_size_w is not None else image_list[0].size[0]\n",
    "    sub_image_h = raw_image_size_h if raw_image_size_h is not None else image_list[0].size[1]\n",
    "\n",
    "    big_image_size = (sub_image_w * image_row, sub_image_h * image_col)\n",
    "    big_image = Image.new('RGB', big_image_size)\n",
    "    big_images = []\n",
    "\n",
    "    for i, image in enumerate(image_list):\n",
    "        i = i % (image_row * image_col)\n",
    "        row = i // image_row\n",
    "        col = i % image_col\n",
    "        big_image.paste(image, (col * image.size[0], row * image.size[1]))\n",
    "        \n",
    "        if (i + 1) % (image_row * image_col) == 0:\n",
    "            big_images.append(big_image)\n",
    "            big_image = Image.new('RGB', big_image_size)\n",
    "\n",
    "    return big_images\n",
    "\n",
    "\n",
    "image_paths = [x[\"processed_png\"] for x in meta_data]\n",
    "\n",
    "big_images = merge_images(image_paths)\n",
    "\n",
    "BIG_IMAGE_DIR = os.path.join(SAVE_DIR, \"big_images\")\n",
    "auto_mkdir(BIG_IMAGE_DIR)\n",
    "\n",
    "for i, big_image in enumerate(big_images):\n",
    "    big_image.save(os.path.join(BIG_IMAGE_DIR, f\"{i}.png\"))"
   ]
  },
  {
   "cell_type": "code",
   "execution_count": 48,
   "metadata": {},
   "outputs": [
    {
     "data": {
      "text/plain": [
       "939"
      ]
     },
     "execution_count": 48,
     "metadata": {},
     "output_type": "execute_result"
    }
   ],
   "source": [
    "keywords = [x[\"keywords\"] for x in meta_data]\n",
    "len(keywords)"
   ]
  },
  {
   "cell_type": "code",
   "execution_count": 50,
   "metadata": {},
   "outputs": [
    {
     "data": {
      "text/plain": [
       "'Lightning, sun, sky, Sun Lightning, weather, outdoors'"
      ]
     },
     "execution_count": 50,
     "metadata": {},
     "output_type": "execute_result"
    }
   ],
   "source": [
    "keywords[29]"
   ]
  }
 ],
 "metadata": {
  "kernelspec": {
   "display_name": "llama",
   "language": "python",
   "name": "python3"
  },
  "language_info": {
   "codemirror_mode": {
    "name": "ipython",
    "version": 3
   },
   "file_extension": ".py",
   "mimetype": "text/x-python",
   "name": "python",
   "nbconvert_exporter": "python",
   "pygments_lexer": "ipython3",
   "version": "3.10.13"
  }
 },
 "nbformat": 4,
 "nbformat_minor": 2
}
