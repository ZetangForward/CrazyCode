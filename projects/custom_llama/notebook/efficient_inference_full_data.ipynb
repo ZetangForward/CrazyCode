{
 "cells": [
  {
   "cell_type": "markdown",
   "metadata": {},
   "source": [
    "# Process the full data for efficient inference"
   ]
  },
  {
   "cell_type": "code",
   "execution_count": 1,
   "metadata": {},
   "outputs": [
    {
     "name": "stderr",
     "output_type": "stream",
     "text": [
      "/opt/conda/envs/llama/lib/python3.10/site-packages/tqdm/auto.py:21: TqdmWarning: IProgress not found. Please update jupyter and ipywidgets. See https://ipywidgets.readthedocs.io/en/stable/user_install.html\n",
      "  from .autonotebook import tqdm as notebook_tqdm\n"
     ]
    },
    {
     "name": "stdout",
     "output_type": "stream",
     "text": [
      "ModelZipper is ready for launch🚀 | Current Version🦄 >>> 0.2.6 <<< | AOE Time🕒 2024-01-08 02:08:04\n"
     ]
    }
   ],
   "source": [
    "from modelzipper.tutils import *\n",
    "\n",
    "FILE_PATH = \"/zecheng2/svg/icon-shop/pkl_data/full_data.pkl\"\n",
    "\n",
    "content = auto_read_data(FILE_PATH)\n",
    "\n",
    "length_ = len(content)"
   ]
  },
  {
   "cell_type": "code",
   "execution_count": 2,
   "metadata": {},
   "outputs": [
    {
     "name": "stdout",
     "output_type": "stream",
     "text": [
      "begin 0th split, start: 0, end: 181439\n"
     ]
    },
    {
     "name": "stdout",
     "output_type": "stream",
     "text": [
      "pkl file saved successfully!\n",
      "Save file to /zecheng2/svg/icon-shop/pkl_data/full_data_snaps/sub_full_data_0.pkl | len: 181439\n",
      "begin 1th split, start: 181439, end: 362878\n"
     ]
    }
   ],
   "source": [
    "SAVE_DIR = \"/zecheng2/svg/icon-shop/pkl_data/full_data_snaps\"\n",
    "\n",
    "NUM_OF_SPLITS = 8\n",
    "\n",
    "sub_length = length_ // NUM_OF_SPLITS + 1\n",
    "\n",
    "for i in range(NUM_OF_SPLITS):\n",
    "    start = i * sub_length\n",
    "    end = (i + 1) * sub_length\n",
    "    if end > length_:\n",
    "        end = length_\n",
    "    print_c(f\"begin {i}th split, start: {start}, end: {end}\", \"green\")\n",
    "    sub_content = content[start:end]\n",
    "    save_path = os.path.join(SAVE_DIR, \"sub_full_data_{}.pkl\".format(i))\n",
    "    auto_save_data(sub_content, save_path)"
   ]
  }
 ],
 "metadata": {
  "kernelspec": {
   "display_name": "llama",
   "language": "python",
   "name": "python3"
  },
  "language_info": {
   "codemirror_mode": {
    "name": "ipython",
    "version": 3
   },
   "file_extension": ".py",
   "mimetype": "text/x-python",
   "name": "python",
   "nbconvert_exporter": "python",
   "pygments_lexer": "ipython3",
   "version": "3.10.13"
  }
 },
 "nbformat": 4,
 "nbformat_minor": 2
}
