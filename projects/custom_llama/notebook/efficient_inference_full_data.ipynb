{
 "cells": [
  {
   "cell_type": "markdown",
   "metadata": {},
   "source": [
    "# Process the full data for efficient inference"
   ]
  },
  {
   "cell_type": "code",
   "execution_count": 2,
   "metadata": {},
   "outputs": [
    {
     "name": "stderr",
     "output_type": "stream",
     "text": [
      "/opt/conda/envs/llama/lib/python3.10/site-packages/tqdm/auto.py:21: TqdmWarning: IProgress not found. Please update jupyter and ipywidgets. See https://ipywidgets.readthedocs.io/en/stable/user_install.html\n",
      "  from .autonotebook import tqdm as notebook_tqdm\n"
     ]
    },
    {
     "name": "stdout",
     "output_type": "stream",
     "text": [
      "ModelZipper is ready for launch🚀 | Current Version🦄 >>> 0.2.6 <<< | AOE Time🕒 2024-01-18 16:05:25\n",
      "begin to read data from /zecheng2/svg/icon-shop/pkl_data/efficient_inference_full_data/test_vqllama_quantizer_testset/version_12/epoch_37/inference_full_data_compress_1_snaps_merged.pkl ...\n"
     ]
    }
   ],
   "source": [
    "from modelzipper.tutils import *\n",
    "\n",
    "# FILE_PATH = \"/zecheng2/svg/icon-shop/pkl_data/full_data.pkl\"\n",
    "FILE_PATH = \"/zecheng2/svg/icon-shop/pkl_data/efficient_inference_full_data/test_vqllama_quantizer_testset/version_12/epoch_37/inference_full_data_compress_1_snaps_merged.pkl\"\n",
    "content = auto_read_data(FILE_PATH)\n",
    "\n",
    "length_ = len(content)"
   ]
  },
  {
   "cell_type": "code",
   "execution_count": null,
   "metadata": {},
   "outputs": [],
   "source": [
    "SAVE_DIR = \"/zecheng2/svg/icon-shop/pkl_data/full_data_snaps_24\"\n",
    "\n",
    "NUM_OF_SPLITS = 24\n",
    "\n",
    "sub_length = length_ // NUM_OF_SPLITS + 1\n",
    "\n",
    "for i in range(NUM_OF_SPLITS):\n",
    "    start = i * sub_length\n",
    "    end = (i + 1) * sub_length\n",
    "    if end > length_:\n",
    "        end = length_\n",
    "    print_c(f\"begin {i}th split, start: {start}, end: {end}\", \"green\")\n",
    "    sub_content = content[start:end]\n",
    "    save_path = os.path.join(SAVE_DIR, \"sub_full_data_{}.pkl\".format(i))\n",
    "    auto_save_data(sub_content, save_path)"
   ]
  },
  {
   "cell_type": "markdown",
   "metadata": {},
   "source": [
    "# Build Padding Data"
   ]
  },
  {
   "cell_type": "code",
   "execution_count": null,
   "metadata": {},
   "outputs": [],
   "source": [
    "from modelzipper.tutils import *\n",
    "\n",
    "FILE_PATH = \"/zecheng2/svg/icon-shop/test_data_snaps/test_mesh_data_svg_convert_p.pkl\"\n",
    "\n",
    "test_data = auto_read_data(FILE_PATH)\n",
    "\n",
    "print(test_data[0])\n",
    "\n",
    "print(test_data[0].keys())\n",
    "\n",
    "fake_tensor = torch.empty(4, 9).fill_(0)\n",
    "\n",
    "tmp = {\n",
    "    'keywords': ['svg_padding'],\n",
    "    'mesh_data': fake_tensor,\n",
    "}\n",
    "\n",
    "auto_save_data(tmp, \"/zecheng2/svg/icon-shop/test_data_snaps/pad_fake_data.pkl\")"
   ]
  },
  {
   "cell_type": "markdown",
   "metadata": {},
   "source": [
    "# Show Testing Data Structure"
   ]
  },
  {
   "cell_type": "code",
   "execution_count": 2,
   "metadata": {},
   "outputs": [
    {
     "name": "stderr",
     "output_type": "stream",
     "text": [
      "/opt/conda/envs/llama/lib/python3.10/site-packages/tqdm/auto.py:21: TqdmWarning: IProgress not found. Please update jupyter and ipywidgets. See https://ipywidgets.readthedocs.io/en/stable/user_install.html\n",
      "  from .autonotebook import tqdm as notebook_tqdm\n"
     ]
    },
    {
     "name": "stdout",
     "output_type": "stream",
     "text": [
      "ModelZipper is ready for launch🚀 | Current Version🦄 >>> 0.2.6 <<< | AOE Time🕒 2024-01-12 17:41:04\n",
      "begin to read data from /zecheng2/svg/icon-shop/test_data_snaps/test_mesh_data_svg_convert_p.pkl ...\n"
     ]
    }
   ],
   "source": [
    "from modelzipper.tutils import *\n",
    "\n",
    "FILE_PATH = \"/zecheng2/svg/icon-shop/test_data_snaps/test_mesh_data_svg_convert_p.pkl\"\n",
    "\n",
    "test_data = auto_read_data(FILE_PATH)\n"
   ]
  },
  {
   "cell_type": "code",
   "execution_count": 2,
   "metadata": {},
   "outputs": [
    {
     "name": "stdout",
     "output_type": "stream",
     "text": [
      "{'keys': ['Margarita', 'alcohol', 'wine glass', 'Cocktail', 'Drink'], 'zs': tensor([2898, 1544, 4000, 1311, 3626, 2224, 1311, 3989, 2254, 1994,  917,  502,\n",
      "        1910, 3540, 3668, 2931])}\n"
     ]
    }
   ],
   "source": [
    "print(content[0])"
   ]
  },
  {
   "cell_type": "markdown",
   "metadata": {},
   "source": [
    "## Build Testing Data with More Instruction Data"
   ]
  },
  {
   "cell_type": "code",
   "execution_count": 4,
   "metadata": {},
   "outputs": [
    {
     "name": "stderr",
     "output_type": "stream",
     "text": [
      "  4%|▍         | 64835/1449774 [00:00<00:02, 648345.98it/s]"
     ]
    },
    {
     "name": "stderr",
     "output_type": "stream",
     "text": [
      "100%|██████████| 1449774/1449774 [00:01<00:00, 752528.77it/s]\n"
     ]
    },
    {
     "name": "stdout",
     "output_type": "stream",
     "text": [
      "length of data_with_5_kwds: 854385\n",
      "length of data_with_10_kwds: 127490\n",
      "length of data_with_15_kwds: 17242\n",
      "length of data_with_20_kwds: 9038\n",
      "length of data_with_25_kwds: 4227\n",
      "length of data_with_30_kwds: 4623\n"
     ]
    },
    {
     "name": "stderr",
     "output_type": "stream",
     "text": [
      "100%|██████████| 1449774/1449774 [00:07<00:00, 187175.40it/s]"
     ]
    },
    {
     "name": "stdout",
     "output_type": "stream",
     "text": [
      "length of data_with_50_paths: 346731\n",
      "length of data_with_100_paths: 66687\n",
      "length of data_with_150_paths: 20202\n",
      "length of data_with_200_paths: 8329\n",
      "length of data_with_250_paths: 13294\n",
      "length of data_with_300_paths: 0\n"
     ]
    },
    {
     "name": "stderr",
     "output_type": "stream",
     "text": [
      "\n"
     ]
    }
   ],
   "source": [
    "data_with_5_kwds = []\n",
    "data_with_10_kwds = []\n",
    "data_with_15_kwds = []\n",
    "data_with_20_kwds = []\n",
    "data_with_25_kwds = []\n",
    "data_with_30_kwds = []\n",
    "\n",
    "with tqdm(total=len(content)) as pbar:\n",
    "    for i, sample in enumerate(content):\n",
    "        if len(sample['keys']) >= 30:\n",
    "            data_with_30_kwds.append(sample)\n",
    "        elif len(sample['keys']) >= 25:\n",
    "            data_with_25_kwds.append(sample)\n",
    "        elif len(sample['keys']) >= 20:\n",
    "            data_with_20_kwds.append(sample)\n",
    "        elif len(sample['keys']) >= 15:\n",
    "            data_with_15_kwds.append(sample)\n",
    "        elif len(sample['keys']) >= 10:\n",
    "            data_with_10_kwds.append(sample)\n",
    "        elif len(sample['keys']) >= 5:\n",
    "            data_with_5_kwds.append(sample)\n",
    "        pbar.update(1)\n",
    "        \n",
    "print(f\"length of data_with_5_kwds: {len(data_with_5_kwds)}\")\n",
    "print(f\"length of data_with_10_kwds: {len(data_with_10_kwds)}\")\n",
    "print(f\"length of data_with_15_kwds: {len(data_with_15_kwds)}\")\n",
    "print(f\"length of data_with_20_kwds: {len(data_with_20_kwds)}\")\n",
    "print(f\"length of data_with_25_kwds: {len(data_with_25_kwds)}\")\n",
    "print(f\"length of data_with_30_kwds: {len(data_with_30_kwds)}\")\n",
    "\n",
    "\n",
    "\n",
    "data_with_50_paths = []\n",
    "data_with_100_paths = []\n",
    "data_with_150_paths = []\n",
    "data_with_200_paths = []\n",
    "data_with_250_paths = []\n",
    "data_with_300_paths = []\n",
    "\n",
    "with tqdm(total=len(content)) as pbar:\n",
    "    for i, sample in enumerate(content):\n",
    "        if len(sample['zs']) >= 300:\n",
    "            data_with_300_paths.append(sample)\n",
    "        elif len(sample['zs']) >= 250:\n",
    "            data_with_250_paths.append(sample)\n",
    "        elif len(sample['zs']) >= 200:\n",
    "            data_with_200_paths.append(sample)\n",
    "        elif len(sample['zs']) >= 150:\n",
    "            data_with_150_paths.append(sample)\n",
    "        elif len(sample['zs']) >= 100:\n",
    "            data_with_100_paths.append(sample)\n",
    "        elif len(sample['zs']) >= 50:\n",
    "            data_with_50_paths.append(sample)\n",
    "        pbar.update(1)\n",
    "        \n",
    "print(f\"length of data_with_50_paths: {len(data_with_50_paths)}\")\n",
    "print(f\"length of data_with_100_paths: {len(data_with_100_paths)}\")\n",
    "print(f\"length of data_with_150_paths: {len(data_with_150_paths)}\")\n",
    "print(f\"length of data_with_200_paths: {len(data_with_200_paths)}\")\n",
    "print(f\"length of data_with_250_paths: {len(data_with_250_paths)}\")\n",
    "print(f\"length of data_with_300_paths: {len(data_with_300_paths)}\")\n"
   ]
  },
  {
   "cell_type": "code",
   "execution_count": 6,
   "metadata": {},
   "outputs": [
    {
     "data": {
      "text/plain": [
       "{'keys': ['tall',\n",
       "  'Christmas tree decorations',\n",
       "  'Plus',\n",
       "  'Christmas Bauble',\n",
       "  'indicate',\n",
       "  'signal',\n",
       "  'Christmas',\n",
       "  'christmas ornament',\n",
       "  'Christmas tree',\n",
       "  'union'],\n",
       " 'zs': tensor([ 570, 2818, 3801, 2389, 3239, 2959, 2446, 2870, 1544, 3447, 3672, 2536,\n",
       "         3605, 1982, 2302, 3130, 2271, 2526, 4037,  491, 2271,  929, 1939, 1939,\n",
       "         4037, 1939, 4045, 1939, 1561, 2873,  929, 3215, 4037, 1939, 3238, 3000,\n",
       "         3382, 3238, 2603,  713,  420, 3765, 2603, 3541, 3541, 2603, 1896, 1634,\n",
       "         1708, 3765, 3382, 3000, 2567, 3983, 3075, 2881,  436, 3574, 2916, 3238,\n",
       "         2074, 2663, 3114,  860, 2881,  860, 3494,  491,  491,  860,  860, 2082,\n",
       "          860, 2441, 2082, 2480, 2441, 1236, 1236, 2208, 3871, 2977, 3023, 2023,\n",
       "         1375, 1257, 3230, 2916, 3117, 3230, 3050, 3117, 3937, 2446, 3367, 3144,\n",
       "         3908, 3144, 3144, 3230, 1532,  441, 2448, 3481, 4031, 3173, 2428, 2134,\n",
       "         1641, 2023, 3983, 3075, 2977, 4031, 3983, 1749, 3765, 4066, 3983, 3103,\n",
       "         3075, 3983, 3617, 2038, 3172, 3548, 1062, 2448, 2870, 3784, 3350,  880,\n",
       "         1186, 1641, 3770, 2293, 2626, 3934,  305, 3117, 3114, 2538, 1588, 3663,\n",
       "         2293, 3644, 3114, 2538, 1588,  880, 3173, 2134, 2293,  646, 1664, 2538,\n",
       "         3934, 1588, 2796, 3114, 3019,  570, 3665, 1588, 3236, 3617, 3215, 3236,\n",
       "         3254, 4054, 1588, 3729, 3644, 2994,  582, 2783,  619, 1892,  570, 3172,\n",
       "         2134, 2038, 3172, 1708, 2737, 3019,  657, 2007,  713, 3184, 1770, 3236,\n",
       "         2293,  854, 3931, 2885, 2007, 3230, 3050,  436, 3644, 2074, 2107, 3019,\n",
       "         2736, 1062, 1424, 3349, 4045,  475, 3564, 3804,  475, 3142, 3011, 2418,\n",
       "         3940, 3790, 1358,  305, 3026, 1395, 1023, 4045,  656, 1023, 2508, 2029,\n",
       "         2538, 2415, 3075, 3617, 2415, 3711, 3832, 3832, 3989, 2796, 3711, 2561,\n",
       "         1818, 3928, 2029,  701, 2913, 3238, 2099, 1023, 2000, 2265, 2783, 2265,\n",
       "         2696,  646, 2029])}"
      ]
     },
     "execution_count": 6,
     "metadata": {},
     "output_type": "execute_result"
    }
   ],
   "source": [
    "data_with_300_paths[0]"
   ]
  },
  {
   "cell_type": "code",
   "execution_count": 5,
   "metadata": {},
   "outputs": [
    {
     "name": "stdout",
     "output_type": "stream",
     "text": [
      "pkl file saved successfully!\n",
      "Save file to /zecheng2/svg/icon-shop/pkl_data/efficient_inference_full_data/test_vqllama_quantizer_testset/version_12/epoch_37/stage2_training_data.pkl | len: 162620\n"
     ]
    }
   ],
   "source": [
    "stage2_training_data = data_with_10_kwds + data_with_15_kwds + data_with_20_kwds + data_with_25_kwds + data_with_30_kwds\n",
    "auto_save_data(stage2_training_data, \"/zecheng2/svg/icon-shop/pkl_data/efficient_inference_full_data/test_vqllama_quantizer_testset/version_12/epoch_37/stage2_training_data.pkl\")"
   ]
  },
  {
   "cell_type": "code",
   "execution_count": 18,
   "metadata": {},
   "outputs": [
    {
     "name": "stdout",
     "output_type": "stream",
     "text": [
      "pkl file saved successfully!\n",
      "Save file to /zecheng2/svg/icon-shop/test_data_snaps/test_15_kwds_2000_samples.pkl | len: 2000\n"
     ]
    }
   ],
   "source": [
    "tesing_set = data_with_15_kwds[:2000]\n",
    "auto_save_data(tesing_set, \"/zecheng2/svg/icon-shop/test_data_snaps/test_15_kwds_2000_samples.pkl\")"
   ]
  },
  {
   "cell_type": "code",
   "execution_count": 12,
   "metadata": {},
   "outputs": [
    {
     "data": {
      "text/plain": [
       "{'padding_mask': tensor([True, True, True, True, True, True, True, True, True, True, True, True,\n",
       "         True, True, True, True, True, True, True, True, True, True, True, True,\n",
       "         True, True, True, True, True, True, True, True, True, True, True, True,\n",
       "         True, True, True, True, True, True, True, True, True, True, True, True,\n",
       "         True, True, True, True, True, True, True, True, True, True, True, True,\n",
       "         True, True, True, True, True, True, True, True, True, True, True, True,\n",
       "         True, True, True, True, True, True, True, True, True, True, True, True,\n",
       "         True, True, True, True, True, True, True, True, True, True, True, True,\n",
       "         True, True, True, True, True, True, True, True, True, True, True, True,\n",
       "         True, True, True, True, True, True, True, True, True, True, True, True]),\n",
       " 'keys': ['nature',\n",
       "  'scenery',\n",
       "  'landscape',\n",
       "  'outdoors',\n",
       "  'forest',\n",
       "  'Moon',\n",
       "  'Natural',\n",
       "  'Mountains',\n",
       "  'Tree',\n",
       "  'wild',\n",
       "  'Night',\n",
       "  'Camping',\n",
       "  'the great outdoors',\n",
       "  'wilderness',\n",
       "  'Mountain',\n",
       "  'highlander',\n",
       "  'nature landscape',\n",
       "  'Ski',\n",
       "  'Winter'],\n",
       " 'zs': tensor([2398, 1161, 6348, 1676,  643, 7302,  810, 5814, 4920, 2765, 2039, 5581,\n",
       "         7369, 6807,  357, 6487, 7980, 1582, 3843, 7651,  158, 3511, 5896, 4328,\n",
       "         6507, 5476, 3235, 6452, 6650, 1577, 2039,  722, 5333, 2064,   82, 7365,\n",
       "         2017, 2064, 3446, 7736, 3605, 6553,  618, 7302, 5115,  418, 6021, 1021,\n",
       "         7710, 6898, 5212, 1278,  380, 3108, 6940, 4013, 6369, 2150, 7999, 3001])}"
      ]
     },
     "execution_count": 12,
     "metadata": {},
     "output_type": "execute_result"
    }
   ],
   "source": [
    "tesing_set[0]"
   ]
  },
  {
   "cell_type": "code",
   "execution_count": null,
   "metadata": {},
   "outputs": [],
   "source": []
  },
  {
   "cell_type": "code",
   "execution_count": 9,
   "metadata": {},
   "outputs": [
    {
     "data": {
      "text/plain": [
       "{'padding_mask': tensor([True, True, True, True, True, True, True, True, True, True, True, True,\n",
       "         True, True, True, True, True, True, True, True, True, True, True, True,\n",
       "         True, True, True, True, True, True, True, True, True, True, True, True,\n",
       "         True, True, True, True, True, True, True, True, True, True, True, True,\n",
       "         True, True, True, True, True, True, True, True, True, True, True, True,\n",
       "         True, True, True, True, True, True, True, True, True, True, True, True,\n",
       "         True, True, True, True, True, True, True, True, True, True, True, True,\n",
       "         True, True, True, True, True, True, True, True, True, True, True, True]),\n",
       " 'keys': ['Traveler',\n",
       "  'programmer',\n",
       "  'customer',\n",
       "  'support',\n",
       "  'Meeting',\n",
       "  'adults',\n",
       "  'Partner',\n",
       "  'Family',\n",
       "  'users',\n",
       "  'Man',\n",
       "  'Human',\n",
       "  'politician',\n",
       "  'Employee',\n",
       "  'Woman',\n",
       "  'teamwork',\n",
       "  'manager',\n",
       "  'administrator',\n",
       "  'Designer',\n",
       "  'Worker',\n",
       "  'women',\n",
       "  'advocate',\n",
       "  'businessmen',\n",
       "  'admin',\n",
       "  'Society',\n",
       "  'Social',\n",
       "  'engineer',\n",
       "  'User',\n",
       "  'president',\n",
       "  'account',\n",
       "  'group',\n",
       "  'people',\n",
       "  'friends',\n",
       "  'team',\n",
       "  'men',\n",
       "  'management',\n",
       "  'Community',\n",
       "  'developer',\n",
       "  'officer',\n",
       "  'Businessman',\n",
       "  'Businesswoman',\n",
       "  'Network',\n",
       "  'boy',\n",
       "  'supervisor',\n",
       "  'person',\n",
       "  'Employer',\n",
       "  'Architect',\n",
       "  'profile',\n",
       "  'businesswomen',\n",
       "  'HR',\n",
       "  'Human Resource',\n",
       "  'leader',\n",
       "  'reader',\n",
       "  'reporter',\n",
       "  'Caucasians'],\n",
       " 'zs': tensor([4554, 3962, 2466, 8032, 3296, 3259, 7026, 3378, 2818, 6732,  533, 7807,\n",
       "         3723, 7684, 3237, 2340, 3266, 2300, 7385, 5626, 6348, 2953, 5737, 3961,\n",
       "         3410, 4894, 5440, 7374, 7158, 7652, 4252, 7932, 7974, 4524, 3777, 3930,\n",
       "         2856, 1614, 6573, 1776,  643,  899, 1327, 7553, 6838, 4810, 2707, 1529])}"
      ]
     },
     "execution_count": 9,
     "metadata": {},
     "output_type": "execute_result"
    }
   ],
   "source": [
    "data_with_30_kwds[0]"
   ]
  }
 ],
 "metadata": {
  "kernelspec": {
   "display_name": "llama",
   "language": "python",
   "name": "python3"
  },
  "language_info": {
   "codemirror_mode": {
    "name": "ipython",
    "version": 3
   },
   "file_extension": ".py",
   "mimetype": "text/x-python",
   "name": "python",
   "nbconvert_exporter": "python",
   "pygments_lexer": "ipython3",
   "version": "3.10.13"
  }
 },
 "nbformat": 4,
 "nbformat_minor": 2
}
