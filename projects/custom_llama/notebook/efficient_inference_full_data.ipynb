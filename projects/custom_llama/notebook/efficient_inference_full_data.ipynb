{
 "cells": [
  {
   "cell_type": "markdown",
   "metadata": {},
   "source": [
    "# Process the full data for efficient inference"
   ]
  },
  {
   "cell_type": "code",
   "execution_count": 1,
   "metadata": {},
   "outputs": [],
   "source": [
    "from modelzipper.tutils import *\n",
    "\n",
    "FILE_PATH = \"/zecheng2/svg/icon-shop/pkl_data/full_data.pkl\"\n",
    "\n",
    "content = auto_read_data(FILE_PATH)\n",
    "\n",
    "length_ = len(content)"
   ]
  },
  {
   "cell_type": "code",
   "execution_count": 5,
   "metadata": {},
   "outputs": [
    {
     "name": "stdout",
     "output_type": "stream",
     "text": [
      "begin 0th split, start: 0, end: 60480\n",
      "pkl file saved successfully!\n",
      "Save file to /zecheng2/svg/icon-shop/pkl_data/inference_results/sub_full_data_0.pkl | len: 60480\n",
      "begin 1th split, start: 60480, end: 120960\n",
      "pkl file saved successfully!\n",
      "Save file to /zecheng2/svg/icon-shop/pkl_data/inference_results/sub_full_data_1.pkl | len: 60480\n",
      "begin 2th split, start: 120960, end: 181440\n",
      "pkl file saved successfully!\n",
      "Save file to /zecheng2/svg/icon-shop/pkl_data/inference_results/sub_full_data_2.pkl | len: 60480\n",
      "begin 3th split, start: 181440, end: 241920\n",
      "pkl file saved successfully!\n",
      "Save file to /zecheng2/svg/icon-shop/pkl_data/inference_results/sub_full_data_3.pkl | len: 60480\n",
      "begin 4th split, start: 241920, end: 302400\n",
      "pkl file saved successfully!\n",
      "Save file to /zecheng2/svg/icon-shop/pkl_data/inference_results/sub_full_data_4.pkl | len: 60480\n",
      "begin 5th split, start: 302400, end: 362880\n",
      "pkl file saved successfully!\n",
      "Save file to /zecheng2/svg/icon-shop/pkl_data/inference_results/sub_full_data_5.pkl | len: 60480\n",
      "begin 6th split, start: 362880, end: 423360\n",
      "pkl file saved successfully!\n",
      "Save file to /zecheng2/svg/icon-shop/pkl_data/inference_results/sub_full_data_6.pkl | len: 60480\n",
      "begin 7th split, start: 423360, end: 483840\n",
      "pkl file saved successfully!\n",
      "Save file to /zecheng2/svg/icon-shop/pkl_data/inference_results/sub_full_data_7.pkl | len: 60480\n",
      "begin 8th split, start: 483840, end: 544320\n",
      "pkl file saved successfully!\n",
      "Save file to /zecheng2/svg/icon-shop/pkl_data/inference_results/sub_full_data_8.pkl | len: 60480\n",
      "begin 9th split, start: 544320, end: 604800\n",
      "pkl file saved successfully!\n",
      "Save file to /zecheng2/svg/icon-shop/pkl_data/inference_results/sub_full_data_9.pkl | len: 60480\n",
      "begin 10th split, start: 604800, end: 665280\n",
      "pkl file saved successfully!\n",
      "Save file to /zecheng2/svg/icon-shop/pkl_data/inference_results/sub_full_data_10.pkl | len: 60480\n",
      "begin 11th split, start: 665280, end: 725760\n",
      "pkl file saved successfully!\n",
      "Save file to /zecheng2/svg/icon-shop/pkl_data/inference_results/sub_full_data_11.pkl | len: 60480\n",
      "begin 12th split, start: 725760, end: 786240\n",
      "pkl file saved successfully!\n",
      "Save file to /zecheng2/svg/icon-shop/pkl_data/inference_results/sub_full_data_12.pkl | len: 60480\n",
      "begin 13th split, start: 786240, end: 846720\n",
      "pkl file saved successfully!\n",
      "Save file to /zecheng2/svg/icon-shop/pkl_data/inference_results/sub_full_data_13.pkl | len: 60480\n",
      "begin 14th split, start: 846720, end: 907200\n",
      "pkl file saved successfully!\n",
      "Save file to /zecheng2/svg/icon-shop/pkl_data/inference_results/sub_full_data_14.pkl | len: 60480\n",
      "begin 15th split, start: 907200, end: 967680\n",
      "pkl file saved successfully!\n",
      "Save file to /zecheng2/svg/icon-shop/pkl_data/inference_results/sub_full_data_15.pkl | len: 60480\n",
      "begin 16th split, start: 967680, end: 1028160\n",
      "pkl file saved successfully!\n",
      "Save file to /zecheng2/svg/icon-shop/pkl_data/inference_results/sub_full_data_16.pkl | len: 60480\n",
      "begin 17th split, start: 1028160, end: 1088640\n",
      "pkl file saved successfully!\n",
      "Save file to /zecheng2/svg/icon-shop/pkl_data/inference_results/sub_full_data_17.pkl | len: 60480\n",
      "begin 18th split, start: 1088640, end: 1149120\n",
      "pkl file saved successfully!\n",
      "Save file to /zecheng2/svg/icon-shop/pkl_data/inference_results/sub_full_data_18.pkl | len: 60480\n",
      "begin 19th split, start: 1149120, end: 1209600\n",
      "pkl file saved successfully!\n",
      "Save file to /zecheng2/svg/icon-shop/pkl_data/inference_results/sub_full_data_19.pkl | len: 60480\n",
      "begin 20th split, start: 1209600, end: 1270080\n",
      "pkl file saved successfully!\n",
      "Save file to /zecheng2/svg/icon-shop/pkl_data/inference_results/sub_full_data_20.pkl | len: 60480\n",
      "begin 21th split, start: 1270080, end: 1330560\n",
      "pkl file saved successfully!\n",
      "Save file to /zecheng2/svg/icon-shop/pkl_data/inference_results/sub_full_data_21.pkl | len: 60480\n",
      "begin 22th split, start: 1330560, end: 1391040\n",
      "pkl file saved successfully!\n",
      "Save file to /zecheng2/svg/icon-shop/pkl_data/inference_results/sub_full_data_22.pkl | len: 60480\n",
      "begin 23th split, start: 1391040, end: 1451504\n",
      "pkl file saved successfully!\n",
      "Save file to /zecheng2/svg/icon-shop/pkl_data/inference_results/sub_full_data_23.pkl | len: 60464\n"
     ]
    }
   ],
   "source": [
    "SAVE_DIR = \"/zecheng2/svg/icon-shop/pkl_data/inference_results\"\n",
    "\n",
    "NUM_OF_SPLITS = 24\n",
    "\n",
    "sub_length = length_ // NUM_OF_SPLITS + 1\n",
    "\n",
    "for i in range(NUM_OF_SPLITS):\n",
    "    start = i * sub_length\n",
    "    end = (i + 1) * sub_length\n",
    "    if end > length_:\n",
    "        end = length_\n",
    "    print_c(f\"begin {i}th split, start: {start}, end: {end}\", \"green\")\n",
    "    sub_content = content[start:end]\n",
    "    save_path = os.path.join(SAVE_DIR, \"sub_full_data_{}.pkl\".format(i))\n",
    "    auto_save_data(sub_content, save_path)"
   ]
  }
 ],
 "metadata": {
  "kernelspec": {
   "display_name": "llama",
   "language": "python",
   "name": "python3"
  },
  "language_info": {
   "codemirror_mode": {
    "name": "ipython",
    "version": 3
   },
   "file_extension": ".py",
   "mimetype": "text/x-python",
   "name": "python",
   "nbconvert_exporter": "python",
   "pygments_lexer": "ipython3",
   "version": "3.10.13"
  }
 },
 "nbformat": 4,
 "nbformat_minor": 2
}
