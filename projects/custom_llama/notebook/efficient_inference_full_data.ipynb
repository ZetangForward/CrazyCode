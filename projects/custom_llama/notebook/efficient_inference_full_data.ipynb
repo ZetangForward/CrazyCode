{
 "cells": [
  {
   "cell_type": "markdown",
   "metadata": {},
   "source": [
    "# Process the full data for efficient inference"
   ]
  },
  {
   "cell_type": "code",
   "execution_count": 2,
   "metadata": {},
   "outputs": [
    {
     "name": "stdout",
     "output_type": "stream",
     "text": [
      "begin to read data from /zecheng2/svg/icon-shop/pkl_data/efficient_inference_full_data/test_vqllama_quantizer/version_8/epoch_84/inference_full_data_compress_1_snaps_merged.pkl ...\n"
     ]
    }
   ],
   "source": [
    "from modelzipper.tutils import *\n",
    "\n",
    "FILE_PATH = \"/zecheng2/svg/icon-shop/pkl_data/efficient_inference_full_data/test_vqllama_quantizer/version_8/epoch_84/inference_full_data_compress_1_snaps_merged.pkl\"\n",
    "\n",
    "content = auto_read_data(FILE_PATH)\n",
    "\n",
    "length_ = len(content)"
   ]
  },
  {
   "cell_type": "code",
   "execution_count": null,
   "metadata": {},
   "outputs": [],
   "source": [
    "SAVE_DIR = \"/zecheng2/svg/icon-shop/pkl_data/full_data_snaps_24\"\n",
    "\n",
    "NUM_OF_SPLITS = 24\n",
    "\n",
    "sub_length = length_ // NUM_OF_SPLITS + 1\n",
    "\n",
    "for i in range(NUM_OF_SPLITS):\n",
    "    start = i * sub_length\n",
    "    end = (i + 1) * sub_length\n",
    "    if end > length_:\n",
    "        end = length_\n",
    "    print_c(f\"begin {i}th split, start: {start}, end: {end}\", \"green\")\n",
    "    sub_content = content[start:end]\n",
    "    save_path = os.path.join(SAVE_DIR, \"sub_full_data_{}.pkl\".format(i))\n",
    "    auto_save_data(sub_content, save_path)"
   ]
  },
  {
   "cell_type": "markdown",
   "metadata": {},
   "source": [
    "# Build Padding Data"
   ]
  },
  {
   "cell_type": "code",
   "execution_count": null,
   "metadata": {},
   "outputs": [],
   "source": [
    "from modelzipper.tutils import *\n",
    "\n",
    "FILE_PATH = \"/zecheng2/svg/icon-shop/test_data_snaps/test_mesh_data_svg_convert_p.pkl\"\n",
    "\n",
    "test_data = auto_read_data(FILE_PATH)\n",
    "\n",
    "print(test_data[0])\n",
    "\n",
    "print(test_data[0].keys())\n",
    "\n",
    "fake_tensor = torch.empty(4, 9).fill_(0)\n",
    "\n",
    "tmp = {\n",
    "    'keywords': ['svg_padding'],\n",
    "    'mesh_data': fake_tensor,\n",
    "}\n",
    "\n",
    "auto_save_data(tmp, \"/zecheng2/svg/icon-shop/test_data_snaps/pad_fake_data.pkl\")"
   ]
  },
  {
   "cell_type": "markdown",
   "metadata": {},
   "source": [
    "# Show Testing Data Structure"
   ]
  },
  {
   "cell_type": "code",
   "execution_count": 2,
   "metadata": {},
   "outputs": [
    {
     "name": "stderr",
     "output_type": "stream",
     "text": [
      "/opt/conda/envs/llama/lib/python3.10/site-packages/tqdm/auto.py:21: TqdmWarning: IProgress not found. Please update jupyter and ipywidgets. See https://ipywidgets.readthedocs.io/en/stable/user_install.html\n",
      "  from .autonotebook import tqdm as notebook_tqdm\n"
     ]
    },
    {
     "name": "stdout",
     "output_type": "stream",
     "text": [
      "ModelZipper is ready for launch🚀 | Current Version🦄 >>> 0.2.6 <<< | AOE Time🕒 2024-01-12 17:41:04\n",
      "begin to read data from /zecheng2/svg/icon-shop/test_data_snaps/test_mesh_data_svg_convert_p.pkl ...\n"
     ]
    }
   ],
   "source": [
    "from modelzipper.tutils import *\n",
    "\n",
    "FILE_PATH = \"/zecheng2/svg/icon-shop/test_data_snaps/test_mesh_data_svg_convert_p.pkl\"\n",
    "\n",
    "test_data = auto_read_data(FILE_PATH)\n"
   ]
  },
  {
   "cell_type": "code",
   "execution_count": 3,
   "metadata": {},
   "outputs": [
    {
     "data": {
      "text/plain": [
       "{'keywords': ['speaker'],\n",
       " 'mesh_data': tensor([[  0.,   0.,   0.,  ...,   0.,   4., 104.],\n",
       "         [  1.,   4., 104.,  ...,   0.,   4., 199.],\n",
       "         [  1.,   4., 199.,  ...,   0., 199., 199.],\n",
       "         ...,\n",
       "         [  2., 113., 140.,  ..., 140., 113., 140.],\n",
       "         [  2., 113., 140.,  ..., 140., 105., 140.],\n",
       "         [  1., 105., 140.,  ...,   0., 105., 140.]])}"
      ]
     },
     "execution_count": 3,
     "metadata": {},
     "output_type": "execute_result"
    }
   ],
   "source": [
    "test_data[0]"
   ]
  },
  {
   "cell_type": "markdown",
   "metadata": {},
   "source": [
    "## Build Testing Data with More Instruction Data"
   ]
  },
  {
   "cell_type": "code",
   "execution_count": 7,
   "metadata": {},
   "outputs": [
    {
     "name": "stderr",
     "output_type": "stream",
     "text": [
      "  3%|▎         | 50570/1451504 [00:00<00:02, 505692.04it/s]"
     ]
    },
    {
     "name": "stderr",
     "output_type": "stream",
     "text": [
      "100%|██████████| 1451504/1451504 [00:02<00:00, 678174.49it/s]\n"
     ]
    },
    {
     "name": "stdout",
     "output_type": "stream",
     "text": [
      "length of data_with_5_kwds: 855346\n",
      "length of data_with_10_kwds: 127582\n",
      "length of data_with_15_kwds: 17253\n",
      "length of data_with_20_kwds: 9044\n",
      "length of data_with_25_kwds: 4229\n",
      "length of data_with_30_kwds: 4624\n"
     ]
    },
    {
     "data": {
      "text/plain": [
       "{'keywords': ['Margarita', 'alcohol', 'wine glass', 'Cocktail', 'Drink'],\n",
       " 'mesh_data': tensor([[  0.,   4., 104.,   0.,   0.,   0.,   0., 159.,   7.],\n",
       "         [  2., 159.,   7., 160.,   8., 162.,   9., 162.,  10.],\n",
       "         [  2., 162.,  10., 164.,  13., 173.,  80., 173.,  88.],\n",
       "         [  2., 173.,  88., 172., 117., 149., 145., 121., 151.],\n",
       "         [  1., 121., 151.,   0.,   0.,   0.,   0., 115., 153.],\n",
       "         [  1., 115., 153.,   0.,   0.,   0.,   0., 115., 168.],\n",
       "         [  1., 115., 168.,   0.,   0.,   0.,   0., 114., 183.],\n",
       "         [  1., 114., 183.,   0.,   0.,   0.,   0., 121., 183.],\n",
       "         [  2., 121., 183., 131., 184., 136., 189., 133., 196.],\n",
       "         [  2., 133., 196., 131., 199., 130., 199., 104., 199.],\n",
       "         [  2., 104., 199.,  78., 199.,  77., 199.,  75., 196.],\n",
       "         [  2.,  75., 196.,  72., 189.,  77., 184.,  87., 183.],\n",
       "         [  1.,  87., 183.,   0.,   0.,   0.,   0.,  94., 183.],\n",
       "         [  1.,  94., 183.,   0.,   0.,   0.,   0.,  93., 168.],\n",
       "         [  1.,  93., 168.,   0.,   0.,   0.,   0.,  93., 153.],\n",
       "         [  1.,  93., 153.,   0.,   0.,   0.,   0.,  87., 151.],\n",
       "         [  2.,  87., 151.,  64., 146.,  44., 126.,  37., 103.],\n",
       "         [  2.,  37., 103.,  34.,  91.,  34.,  87.,  40.,  49.],\n",
       "         [  2.,  40.,  49.,  42.,  29.,  45.,  11.,  46.,  10.],\n",
       "         [  2.,  46.,  10.,  48.,   5.,  48.,   5., 104.,   5.],\n",
       "         [  2., 104.,   5., 150.,   5., 157.,   5., 159.,   7.],\n",
       "         [  1., 159.,   7.,   0.,   0.,   0.,   0., 159.,   7.],\n",
       "         [  0., 159.,   7.,   0.,   0.,   0.,   0.,  63.,  26.],\n",
       "         [  2.,  63.,  26.,  62.,  28.,  59.,  51.,  59.,  53.],\n",
       "         [  2.,  59.,  53.,  59.,  54.,  69.,  54., 104.,  54.],\n",
       "         [  1., 104.,  54.,   0.,   0.,   0.,   0., 149.,  54.],\n",
       "         [  1., 149.,  54.,   0.,   0.,   0.,   0., 149.,  52.],\n",
       "         [  2., 149.,  52., 149.,  50., 148.,  44., 147.,  37.],\n",
       "         [  1., 147.,  37.,   0.,   0.,   0.,   0., 145.,  25.],\n",
       "         [  1., 145.,  25.,   0.,   0.,   0.,   0., 104.,  25.],\n",
       "         [  2., 104.,  25.,  72.,  25.,  63.,  25.,  63.,  26.],\n",
       "         [  1.,  63.,  26.,   0.,   0.,   0.,   0.,  63.,  26.]]),\n",
       " 'category_name': 'wine glass'}"
      ]
     },
     "execution_count": 7,
     "metadata": {},
     "output_type": "execute_result"
    }
   ],
   "source": [
    "data_with_5_kwds = []\n",
    "data_with_10_kwds = []\n",
    "data_with_15_kwds = []\n",
    "data_with_20_kwds = []\n",
    "data_with_25_kwds = []\n",
    "data_with_30_kwds = []\n",
    "\n",
    "with tqdm(total=len(content)) as pbar:\n",
    "    for i, sample in enumerate(content):\n",
    "        if len(sample['keywords']) >= 30:\n",
    "            data_with_30_kwds.append(sample)\n",
    "        elif len(sample['keywords']) >= 25:\n",
    "            data_with_25_kwds.append(sample)\n",
    "        elif len(sample['keywords']) >= 20:\n",
    "            data_with_20_kwds.append(sample)\n",
    "        elif len(sample['keywords']) >= 15:\n",
    "            data_with_15_kwds.append(sample)\n",
    "        elif len(sample['keywords']) >= 10:\n",
    "            data_with_10_kwds.append(sample)\n",
    "        elif len(sample['keywords']) >= 5:\n",
    "            data_with_5_kwds.append(sample)\n",
    "        pbar.update(1)\n",
    "        \n",
    "\n",
    "print(f\"length of data_with_5_kwds: {len(data_with_5_kwds)}\")\n",
    "print(f\"length of data_with_10_kwds: {len(data_with_10_kwds)}\")\n",
    "print(f\"length of data_with_15_kwds: {len(data_with_15_kwds)}\")\n",
    "print(f\"length of data_with_20_kwds: {len(data_with_20_kwds)}\")\n",
    "print(f\"length of data_with_25_kwds: {len(data_with_25_kwds)}\")\n",
    "print(f\"length of data_with_30_kwds: {len(data_with_30_kwds)}\")"
   ]
  }
 ],
 "metadata": {
  "kernelspec": {
   "display_name": "llama",
   "language": "python",
   "name": "python3"
  },
  "language_info": {
   "codemirror_mode": {
    "name": "ipython",
    "version": 3
   },
   "file_extension": ".py",
   "mimetype": "text/x-python",
   "name": "python",
   "nbconvert_exporter": "python",
   "pygments_lexer": "ipython3",
   "version": "3.10.13"
  }
 },
 "nbformat": 4,
 "nbformat_minor": 2
}
