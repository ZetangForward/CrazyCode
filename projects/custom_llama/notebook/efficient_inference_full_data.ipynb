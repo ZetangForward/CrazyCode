{
 "cells": [
  {
   "cell_type": "markdown",
   "metadata": {},
   "source": [
    "# Process the full data for efficient inference"
   ]
  },
  {
   "cell_type": "code",
   "execution_count": 1,
   "metadata": {},
   "outputs": [
    {
     "name": "stderr",
     "output_type": "stream",
     "text": [
      "/opt/conda/envs/llama/lib/python3.10/site-packages/tqdm/auto.py:21: TqdmWarning: IProgress not found. Please update jupyter and ipywidgets. See https://ipywidgets.readthedocs.io/en/stable/user_install.html\n",
      "  from .autonotebook import tqdm as notebook_tqdm\n"
     ]
    },
    {
     "name": "stdout",
     "output_type": "stream",
     "text": [
      "ModelZipper is ready for launch🚀 | Current Version🦄 >>> 0.2.6 <<< | AOE Time🕒 2024-01-11 17:40:35\n",
      "begin to read data from /zecheng2/svg/icon-shop/pkl_data/full_data.pkl ...\n"
     ]
    }
   ],
   "source": [
    "from modelzipper.tutils import *\n",
    "\n",
    "FILE_PATH = \"/zecheng2/svg/icon-shop/pkl_data/full_data.pkl\"\n",
    "\n",
    "content = auto_read_data(FILE_PATH)\n",
    "\n",
    "length_ = len(content)"
   ]
  },
  {
   "cell_type": "code",
   "execution_count": null,
   "metadata": {},
   "outputs": [],
   "source": [
    "SAVE_DIR = \"/zecheng2/svg/icon-shop/pkl_data/full_data_snaps_24\"\n",
    "\n",
    "NUM_OF_SPLITS = 24\n",
    "\n",
    "sub_length = length_ // NUM_OF_SPLITS + 1\n",
    "\n",
    "for i in range(NUM_OF_SPLITS):\n",
    "    start = i * sub_length\n",
    "    end = (i + 1) * sub_length\n",
    "    if end > length_:\n",
    "        end = length_\n",
    "    print_c(f\"begin {i}th split, start: {start}, end: {end}\", \"green\")\n",
    "    sub_content = content[start:end]\n",
    "    save_path = os.path.join(SAVE_DIR, \"sub_full_data_{}.pkl\".format(i))\n",
    "    auto_save_data(sub_content, save_path)"
   ]
  },
  {
   "cell_type": "markdown",
   "metadata": {},
   "source": [
    "# Build Padding Data"
   ]
  },
  {
   "cell_type": "code",
   "execution_count": null,
   "metadata": {},
   "outputs": [],
   "source": [
    "from modelzipper.tutils import *\n",
    "\n",
    "FILE_PATH = \"/zecheng2/svg/icon-shop/test_data_snaps/test_mesh_data_svg_convert_p.pkl\"\n",
    "\n",
    "test_data = auto_read_data(FILE_PATH)\n",
    "\n",
    "print(test_data[0])\n",
    "\n",
    "print(test_data[0].keys())\n",
    "\n",
    "fake_tensor = torch.empty(4, 9).fill_(0)\n",
    "\n",
    "tmp = {\n",
    "    'keywords': ['svg_padding'],\n",
    "    'mesh_data': fake_tensor,\n",
    "}\n",
    "\n",
    "auto_save_data(tmp, \"/zecheng2/svg/icon-shop/test_data_snaps/pad_fake_data.pkl\")"
   ]
  },
  {
   "cell_type": "markdown",
   "metadata": {},
   "source": [
    "# Show Testing Data Structure"
   ]
  },
  {
   "cell_type": "code",
   "execution_count": 2,
   "metadata": {},
   "outputs": [
    {
     "name": "stderr",
     "output_type": "stream",
     "text": [
      "/opt/conda/envs/llama/lib/python3.10/site-packages/tqdm/auto.py:21: TqdmWarning: IProgress not found. Please update jupyter and ipywidgets. See https://ipywidgets.readthedocs.io/en/stable/user_install.html\n",
      "  from .autonotebook import tqdm as notebook_tqdm\n"
     ]
    },
    {
     "name": "stdout",
     "output_type": "stream",
     "text": [
      "ModelZipper is ready for launch🚀 | Current Version🦄 >>> 0.2.6 <<< | AOE Time🕒 2024-01-12 17:41:04\n",
      "begin to read data from /zecheng2/svg/icon-shop/test_data_snaps/test_mesh_data_svg_convert_p.pkl ...\n"
     ]
    }
   ],
   "source": [
    "from modelzipper.tutils import *\n",
    "\n",
    "FILE_PATH = \"/zecheng2/svg/icon-shop/test_data_snaps/test_mesh_data_svg_convert_p.pkl\"\n",
    "\n",
    "test_data = auto_read_data(FILE_PATH)\n"
   ]
  },
  {
   "cell_type": "code",
   "execution_count": 3,
   "metadata": {},
   "outputs": [
    {
     "data": {
      "text/plain": [
       "{'keywords': ['speaker'],\n",
       " 'mesh_data': tensor([[  0.,   0.,   0.,  ...,   0.,   4., 104.],\n",
       "         [  1.,   4., 104.,  ...,   0.,   4., 199.],\n",
       "         [  1.,   4., 199.,  ...,   0., 199., 199.],\n",
       "         ...,\n",
       "         [  2., 113., 140.,  ..., 140., 113., 140.],\n",
       "         [  2., 113., 140.,  ..., 140., 105., 140.],\n",
       "         [  1., 105., 140.,  ...,   0., 105., 140.]])}"
      ]
     },
     "execution_count": 3,
     "metadata": {},
     "output_type": "execute_result"
    }
   ],
   "source": [
    "test_data[0]"
   ]
  }
 ],
 "metadata": {
  "kernelspec": {
   "display_name": "llama",
   "language": "python",
   "name": "python3"
  },
  "language_info": {
   "codemirror_mode": {
    "name": "ipython",
    "version": 3
   },
   "file_extension": ".py",
   "mimetype": "text/x-python",
   "name": "python",
   "nbconvert_exporter": "python",
   "pygments_lexer": "ipython3",
   "version": "3.10.13"
  }
 },
 "nbformat": 4,
 "nbformat_minor": 2
}
