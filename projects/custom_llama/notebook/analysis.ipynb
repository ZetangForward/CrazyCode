{
 "cells": [
  {
   "cell_type": "markdown",
   "metadata": {},
   "source": [
    "## 计算压缩率及统计"
   ]
  },
  {
   "cell_type": "code",
   "execution_count": 1,
   "metadata": {},
   "outputs": [
    {
     "name": "stderr",
     "output_type": "stream",
     "text": [
      "/opt/conda/envs/llama/lib/python3.10/site-packages/tqdm/auto.py:21: TqdmWarning: IProgress not found. Please update jupyter and ipywidgets. See https://ipywidgets.readthedocs.io/en/stable/user_install.html\n",
      "  from .autonotebook import tqdm as notebook_tqdm\n"
     ]
    },
    {
     "name": "stdout",
     "output_type": "stream",
     "text": [
      "ModelZipper is ready for launch🚀 | Current Version🦄 >>> 0.2.6 <<< | AOE Time🕒 2024-01-05 15:37:11\n"
     ]
    },
    {
     "name": "stderr",
     "output_type": "stream",
     "text": [
      "100%|██████████| 2000/2000 [00:01<00:00, 1668.19it/s]\n",
      "100%|██████████| 2000/2000 [00:01<00:00, 1270.35it/s]\n"
     ]
    },
    {
     "name": "stdout",
     "output_type": "stream",
     "text": [
      "golden_svg_tokens:  811.4895\n",
      "p_predict_svg_tokens:  4608.0\n"
     ]
    },
    {
     "name": "stderr",
     "output_type": "stream",
     "text": [
      "100%|██████████| 2000/2000 [00:44<00:00, 45.07it/s]\n",
      "100%|██████████| 2000/2000 [00:10<00:00, 183.02it/s]"
     ]
    },
    {
     "name": "stdout",
     "output_type": "stream",
     "text": [
      "p_str_tokens:  22720.927\n",
      "golden_str_tokens:  7261.193\n",
      "compress_codebook_tokens:  256\n",
      "压缩率 (codebook V.S. str): 28.36403515625 倍\n",
      "压缩率 (codebook V.S. numerical matrix): 3.169880859375 倍\n"
     ]
    },
    {
     "name": "stderr",
     "output_type": "stream",
     "text": [
      "\n"
     ]
    }
   ],
   "source": [
    "from modelzipper.tutils import *\n",
    "from tqdm import trange\n",
    "\n",
    "\n",
    "CodeLLaMA_PATH = \"/zecheng2/model_hub/CodeLlama-7b-hf\"\n",
    "FILE_PATH = \"/zecheng2/vqllama/test_vqllama_quantizer/test_1/visualized_compress_level_1/svg_paths.jsonl\"\n",
    "COMPRESSED_PATH = \"/zecheng2/vqllama/test_vqllama_quantizer/test_1/compress_level_1_predictions.pkl\"\n",
    "\n",
    "llama_tokenizer = AutoTokenizer.from_pretrained(CodeLLaMA_PATH)\n",
    "str_cotent = auto_read_data(FILE_PATH)\n",
    "compress_content = auto_read_data(COMPRESSED_PATH)\n",
    "\n",
    "# count compress svg tokens\n",
    "p_predict = compress_content['p_predict']\n",
    "golden = compress_content['golden']\n",
    "\n",
    "def count_non_pad_rows(x):\n",
    "    non_pad_rows = 0\n",
    "    for row in x:\n",
    "        row_list = row.tolist()\n",
    "        if row_list[0] == 0:\n",
    "            if any(row_list[1:]):\n",
    "                non_pad_rows += 1\n",
    "            else:\n",
    "                break\n",
    "        else:\n",
    "            non_pad_rows += 1\n",
    "    \n",
    "    return non_pad_rows\n",
    "\n",
    "\n",
    "def count_svg_tokens(batch_x):\n",
    "    \"\"\"\n",
    "    batch_x: [b, l, 9]\n",
    "    \"\"\"\n",
    "    total_tokens = 0\n",
    "    for i in trange(len(batch_x)):\n",
    "        item = batch_x[i]\n",
    "        non_pad_rows = count_non_pad_rows(item)\n",
    "        total_tokens += non_pad_rows * 9\n",
    "    avg_tokens = total_tokens / len(batch_x) \n",
    "    return avg_tokens\n",
    "\n",
    "golden_svg_tokens = count_svg_tokens(golden)\n",
    "p_predict_svg_tokens = count_svg_tokens(p_predict)\n",
    "\n",
    "print(\"golden_svg_tokens: \", golden_svg_tokens)\n",
    "print(\"p_predict_svg_tokens: \", p_predict_svg_tokens)\n",
    "\n",
    "\n",
    "def count_str_tokens(batch_x, tokenizer: AutoTokenizer):\n",
    "    \"\"\"\n",
    "    batch_x: List[str]\n",
    "    \"\"\"\n",
    "    total_tokens = 0\n",
    "    for i in trange(len(batch_x)):\n",
    "        item = batch_x[i]\n",
    "        tokens = tokenizer(item)['input_ids']\n",
    "        total_tokens += len(tokens)\n",
    "    avg_tokens = total_tokens / len(batch_x) \n",
    "    return avg_tokens\n",
    "\n",
    "\n",
    "p_svg_str = [item['p_svg_str'] for item in str_cotent]\n",
    "g_svg_str = [item['g_svg_str'] for item in str_cotent]\n",
    "\n",
    "p_svg_str_tokens = count_str_tokens(p_svg_str, llama_tokenizer)\n",
    "g_svg_str_tokens = count_str_tokens(g_svg_str, llama_tokenizer)\n",
    "\n",
    "print(\"p_str_tokens: \", p_svg_str_tokens)\n",
    "print(\"golden_str_tokens: \", g_svg_str_tokens)\n",
    "\n",
    "\n",
    "compress_codebook_tokens = compress_content['zs'].shape[-1]\n",
    "print(\"compress_codebook_tokens: \", compress_codebook_tokens)\n",
    "\n",
    "print(f\"压缩率 (codebook V.S. str): {g_svg_str_tokens / compress_codebook_tokens} 倍\")\n",
    "print(f\"压缩率 (codebook V.S. numerical matrix): {golden_svg_tokens / compress_codebook_tokens} 倍\")\n",
    "\n"
   ]
  },
  {
   "cell_type": "markdown",
   "metadata": {},
   "source": [
    "## 打印输出结果"
   ]
  },
  {
   "cell_type": "code",
   "execution_count": 27,
   "metadata": {},
   "outputs": [
    {
     "name": "stdout",
     "output_type": "stream",
     "text": [
      "[0, 0, 0, 0, 0, 0, 0, 4, 105]\n",
      "[1, 4, 105, 0, 0, 0, 0, 4, 200]\n",
      "[1, 4, 200, 0, 0, 0, 0, 199, 199]\n",
      "[1, 199, 199, 0, 0, 0, 0, 200, 4]\n",
      "[1, 200, 4, 0, 0, 0, 0, 5, 4]\n",
      "[1, 5, 4, 0, 0, 0, 0, 4, 101]\n",
      "[1, 4, 101, 0, 0, 0, 0, 1, 103]\n",
      "[0, 1, 103, 0, 0, 0, 0, 148, 89]\n",
      "[1, 148, 89, 0, 0, 0, 0, 152, 161]\n",
      "[1, 152, 161, 0, 0, 0, 0, 52, 170]\n"
     ]
    }
   ],
   "source": [
    "raw = compress_content.get('raw_predict')[0][: 10]\n",
    "golden = compress_content.get('golden')[0][: 10]\n",
    "p_predict = compress_content.get('p_predict')[0][: 10]\n",
    "\n",
    "\n",
    "def q_p(x):\n",
    "    for line in x:\n",
    "        print(line.tolist())\n",
    "\n",
    "\n",
    "q_p(p_predict)"
   ]
  },
  {
   "cell_type": "markdown",
   "metadata": {},
   "source": [
    "## 找到对应的SVG Path"
   ]
  },
  {
   "cell_type": "code",
   "execution_count": 5,
   "metadata": {},
   "outputs": [
    {
     "name": "stdout",
     "output_type": "stream",
     "text": [
      "/zecheng2/vqllama/test_vqllama_quantizer/test_1/epoch_65/analysis not exist! --> Create data dir /zecheng2/vqllama/test_vqllama_quantizer/test_1/epoch_65/analysis\n",
      "txt file saved successfully!\n",
      "Save file to /zecheng2/vqllama/test_vqllama_quantizer/test_1/epoch_65/analysis/analysis_36_raw_predict.txt | len: 1\n",
      "txt file saved successfully!\n",
      "Save file to /zecheng2/vqllama/test_vqllama_quantizer/test_1/epoch_65/analysis/analysis_36_p_predict.txt | len: 1\n",
      "txt file saved successfully!\n",
      "Save file to /zecheng2/vqllama/test_vqllama_quantizer/test_1/epoch_65/analysis/analysis_36_golden.txt | len: 1\n",
      "txt file saved successfully!\n",
      "Save file to /zecheng2/vqllama/test_vqllama_quantizer/test_1/epoch_65/analysis/analysis_66_raw_predict.txt | len: 1\n",
      "txt file saved successfully!\n",
      "Save file to /zecheng2/vqllama/test_vqllama_quantizer/test_1/epoch_65/analysis/analysis_66_p_predict.txt | len: 1\n",
      "txt file saved successfully!\n",
      "Save file to /zecheng2/vqllama/test_vqllama_quantizer/test_1/epoch_65/analysis/analysis_66_golden.txt | len: 1\n",
      "txt file saved successfully!\n",
      "Save file to /zecheng2/vqllama/test_vqllama_quantizer/test_1/epoch_65/analysis/analysis_72_raw_predict.txt | len: 1\n",
      "txt file saved successfully!\n",
      "Save file to /zecheng2/vqllama/test_vqllama_quantizer/test_1/epoch_65/analysis/analysis_72_p_predict.txt | len: 1\n",
      "txt file saved successfully!\n",
      "Save file to /zecheng2/vqllama/test_vqllama_quantizer/test_1/epoch_65/analysis/analysis_72_golden.txt | len: 1\n",
      "txt file saved successfully!\n",
      "Save file to /zecheng2/vqllama/test_vqllama_quantizer/test_1/epoch_65/analysis/analysis_80_raw_predict.txt | len: 1\n",
      "txt file saved successfully!\n",
      "Save file to /zecheng2/vqllama/test_vqllama_quantizer/test_1/epoch_65/analysis/analysis_80_p_predict.txt | len: 1\n",
      "txt file saved successfully!\n",
      "Save file to /zecheng2/vqllama/test_vqllama_quantizer/test_1/epoch_65/analysis/analysis_80_golden.txt | len: 1\n"
     ]
    }
   ],
   "source": [
    "from modelzipper.tutils import *\n",
    "from tqdm import trange\n",
    "\n",
    "ANALYSIS_DIR = \"/zecheng2/vqllama/test_vqllama_quantizer/test_1/epoch_65/analysis\"\n",
    "\n",
    "CodeLLaMA_PATH = \"/zecheng2/model_hub/CodeLlama-7b-hf\"\n",
    "FILE_PATH = \"/zecheng2/vqllama/test_vqllama_quantizer/test_1/epoch_65/visualized_compress_level_1/svg_paths.jsonl\"\n",
    "COMPRESSED_PATH = \"/zecheng2/vqllama/test_vqllama_quantizer/test_1/epoch_65/compress_level_1_predictions.pkl\"\n",
    "\n",
    "llama_tokenizer = AutoTokenizer.from_pretrained(CodeLLaMA_PATH)\n",
    "str_content = auto_read_data(FILE_PATH)\n",
    "compress_content = auto_read_data(COMPRESSED_PATH)\n",
    "\n",
    "raw_predict = compress_content['raw_predict']\n",
    "p_predict = compress_content['p_predict']\n",
    "golden = compress_content['golden']\n",
    "\n",
    "FILE_ID = [36, 66, 72, 80]\n",
    "\n",
    "\n",
    "def convert_tensor_to_str(x):\n",
    "    res = \"\"\n",
    "    for i in range(len(x)):\n",
    "        item = \"[\" + \",\".join([format(j, '5d') for j in x[i].tolist()]) + \"]\"\n",
    "        res += item + \"\\n\"\n",
    "    return res\n",
    "\n",
    "\n",
    "\n",
    "# TEMPLATE = \"raw predict:\\n{raw_predict}\\n\\np predict:\\n{p_predict}\\n\\ngolden:\\n{golden}\\n\\n\"\n",
    "\n",
    "for i in FILE_ID:\n",
    "    s_raw_predict = convert_tensor_to_str(raw_predict[i])\n",
    "    s_p_predict = convert_tensor_to_str(p_predict[i])\n",
    "    s_golden = convert_tensor_to_str(golden[i])\n",
    "    auto_save_data([s_raw_predict], os.path.join(ANALYSIS_DIR, f\"analysis_{i}_raw_predict.txt\"))\n",
    "    auto_save_data([s_p_predict], os.path.join(ANALYSIS_DIR, f\"analysis_{i}_p_predict.txt\"))\n",
    "    auto_save_data([s_golden], os.path.join(ANALYSIS_DIR, f\"analysis_{i}_golden.txt\"))\n",
    "    # s = TEMPLATE.format(raw_predict=s_raw_predict, p_predict=s_p_predict, golden=s_golden)\n",
    "    # auto_save_data([s], os.path.join(ANALYSIS_DIR, f\"analysis_{i}.txt\"))"
   ]
  },
  {
   "cell_type": "markdown",
   "metadata": {},
   "source": [
    "## 统计数据集平均长度，最长长度和最短长度"
   ]
  },
  {
   "cell_type": "code",
   "execution_count": 3,
   "metadata": {},
   "outputs": [
    {
     "name": "stderr",
     "output_type": "stream",
     "text": [
      "100%|██████████| 347000/347000 [00:00<00:00, 438812.38it/s]"
     ]
    },
    {
     "name": "stdout",
     "output_type": "stream",
     "text": [
      "avg_length: 98.70044380403458\n",
      "max_length: 750\n",
      "min_length: 7\n",
      "区间 0 到 99 的条数: 228294\n",
      "区间 100 到 199 的条数: 92352\n",
      "区间 200 到 299 的条数: 17245\n",
      "区间 300 到 399 的条数: 5117\n",
      "区间 400 到 499 的条数: 2114\n",
      "区间 500 到 599 的条数: 1054\n",
      "区间 600 到 699 的条数: 608\n",
      "区间 700 到 799 的条数: 216\n"
     ]
    },
    {
     "name": "stderr",
     "output_type": "stream",
     "text": [
      "\n"
     ]
    }
   ],
   "source": [
    "from modelzipper.tutils import *\n",
    "from tqdm import trange\n",
    "\n",
    "FILE_PATH = \"/zecheng2/svg/icon-shop/mesh_data_svg_convert_p.pkl\"\n",
    "\n",
    "content = auto_read_data(FILE_PATH)\n",
    "\n",
    "\n",
    "total_length, max_length, min_length = 0, 0, 1000\n",
    "interval_counts = {}  # 新增一个字典来存储区间计数\n",
    "\n",
    "for i in trange(len(content)):\n",
    "    svg_data = content[i]['mesh_data']\n",
    "    length = len(svg_data)\n",
    "    total_length += length\n",
    "    max_length = max(max_length, length)\n",
    "    min_length = min(min_length, length)\n",
    "    \n",
    "    # 计算当前长度所在的区间，并更新对应区间的计数\n",
    "    interval = (length // 100) * 100\n",
    "    if interval not in interval_counts:\n",
    "        interval_counts[interval] = 0\n",
    "    interval_counts[interval] += 1\n",
    "\n",
    "avg_length = total_length / len(content)\n",
    "\n",
    "print(f\"avg_length: {avg_length}\")\n",
    "print(f\"max_length: {max_length}\")\n",
    "print(f\"min_length: {min_length}\")\n",
    "\n",
    "# 打印出每个区间的条数\n",
    "for k in sorted(interval_counts):\n",
    "    print(f\"区间 {k} 到 {k+99} 的条数: {interval_counts[k]}\")"
   ]
  },
  {
   "cell_type": "markdown",
   "metadata": {},
   "source": [
    "## 检查测试数据"
   ]
  },
  {
   "cell_type": "code",
   "execution_count": 36,
   "metadata": {},
   "outputs": [
    {
     "name": "stdout",
     "output_type": "stream",
     "text": [
      "begin to read data from /zecheng2/svg/icon-shop/test_data_snaps/test_data_all_seq_with_mesh.pkl ...\n",
      "load config files from /workspace/zecheng/modelzipper/projects/custom_llama/configs/deepspeed/vqvae_config.yaml\n",
      "config loaded successfully!\n",
      "config: namespace(ckpt_path='/zecheng2/vqllama/vqllama_quantizer/version_8/checkpoints/last.ckpt', vqvae=namespace(levels=2, downs_t=[1, 1], strides_t=[2, 2], emb_width=4096, l_bins=8192, l_mu=0.99, spectral=0.0, multispectral=1.0, hvqvae_multipliers=[2, 1, 1], loss_fn='l2', dilation_growth_rate=1, use_nonrelative_specloss=True, use_bottleneck=True, commit=1.0, recon=1.0, linf_k=2048, use_modified_block=False), vqvae_conv_block=namespace(depth=4, width=512, m_conv=1.0, dilation_growth_rate=1, dilation_cycle=None, vqvae_reverse_decoder_dilation=True), dataset=namespace(max_path_nums=512, min_path_nums=4, pad_token_id=0, train_batch_size=128, val_batch_size=32, nworkers=16, pin_memory=False, x_channels=9, inference_mode=False, vocab_size=200, return_all_token_mask=False, num_bins=9, remove_redundant_col=False))\n",
      "\n"
     ]
    },
    {
     "name": "stderr",
     "output_type": "stream",
     "text": [
      " 38%|███▊      | 750/2000 [03:28<08:36,  2.42it/s]"
     ]
    }
   ],
   "source": [
    "import random\n",
    "import os\n",
    "import transformers\n",
    "import sys\n",
    "sys.path.append(\"/workspace/zecheng/modelzipper/projects/custom_llama\")\n",
    "from dataclasses import dataclass, field\n",
    "from transformers import Trainer\n",
    "from modelzipper.tutils import *\n",
    "from data.vqseq2seq_dataset import OfflineBasicDataset\n",
    "from models.vqvae import VQVAE, postprocess\n",
    "from data.svg_data import *\n",
    "import pytorch_lightning as pl\n",
    "from utils.visualize_svg import convert_svg\n",
    "import transformers\n",
    "from tqdm import trange\n",
    "from PIL import Image\n",
    "\n",
    "FILE_PATH = \"/zecheng2/svg/icon-shop/test_data_snaps/test_data_all_seq_with_mesh.pkl\"\n",
    "\n",
    "VQVAE_CONFIG_PATH = \"/workspace/zecheng/modelzipper/projects/custom_llama/configs/deepspeed/vqvae_config.yaml\"\n",
    "DATA_PATH = \"/zecheng2/svg/icon-shop/test_data_snaps/test_data_all_seq_with_mesh.pkl\"\n",
    "\n",
    "tokenizer = transformers.AutoTokenizer.from_pretrained(\"/zecheng2/model_hub/flan-t5-xl\")\n",
    "\n",
    "content = auto_read_data(DATA_PATH)\n",
    "dataset = OfflineBasicDataset(content=content, tokenizer=tokenizer, mode='test')\n",
    "vqvae_config = load_yaml_config(VQVAE_CONFIG_PATH)\n",
    "\n",
    "block_kwargs = dict(\n",
    "        width=vqvae_config.vqvae_conv_block.width, \n",
    "        depth=vqvae_config.vqvae_conv_block.depth, \n",
    "        m_conv=vqvae_config.vqvae_conv_block.m_conv,\n",
    "        dilation_growth_rate=vqvae_config.vqvae_conv_block.dilation_growth_rate,\n",
    "        dilation_cycle=vqvae_config.vqvae_conv_block.dilation_cycle,\n",
    "        reverse_decoder_dilation=vqvae_config.vqvae_conv_block.vqvae_reverse_decoder_dilation\n",
    "    )\n",
    "\n",
    "def add_background(image_obj=None, save_suffix=\"b\", raw_image_size_w=None, raw_image_size_h=None):\n",
    "    image = image_obj\n",
    "   \n",
    "    sub_image_w = raw_image_size_w if raw_image_size_w is not None else image.size[0]\n",
    "    sub_image_h = raw_image_size_h if raw_image_size_h is not None else image.size[1]\n",
    "\n",
    "    new_image_size = (sub_image_w, sub_image_h)\n",
    "    background_image = Image.new('RGB', new_image_size)\n",
    "\n",
    "    background_image.paste(image, (0, 0))\n",
    "\n",
    "    return background_image\n",
    "\n",
    "class PluginVQVAE(nn.Module):\n",
    "    def __init__(self, model):\n",
    "        super().__init__()\n",
    "        self.model = model\n",
    "\n",
    "vqvae = VQVAE(vqvae_config, multipliers=None, **block_kwargs)\n",
    "plugin_vqvae = PluginVQVAE(vqvae)\n",
    "checkpoint = torch.load(vqvae_config.ckpt_path)  # load vqvae ckpt\n",
    "plugin_vqvae.load_state_dict(checkpoint['state_dict'])\n",
    "plugin_vqvae.eval()\n",
    "plugin_vqvae.cuda()\n",
    "plugin_vqvae.model.half()\n",
    "\n",
    "vq_test = []\n",
    "for i in trange(len(dataset)):\n",
    "    \n",
    "    keys = tokenizer.decode(dataset[i]['text_input_ids'], skip_special_tokens=True)\n",
    "    cur_save_case = {\"keys\": keys}\n",
    "    zs = dataset[i]['svg_tensors'][1:]\n",
    "    cur_save_case['zs_len'] = len(zs)\n",
    "    with torch.no_grad():\n",
    "        PI_RES = plugin_vqvae.model.decode(zs.unsqueeze(0).cuda(), 0, 1, padding_mask=None, path_interpolation=True, return_postprocess=True)[0]\n",
    "        PC_RES = plugin_vqvae.model.decode(zs.unsqueeze(0).cuda(), 0, 1, padding_mask=None, path_interpolation=False, return_postprocess=True)[0]\n",
    "        \n",
    "        cur_save_case['pi_res_len'] = PI_RES.size(0)\n",
    "        cur_save_case['pc_res_len'] = PC_RES.size(0)\n",
    "        cur_save_case['gt_res_len'] = dataset[i]['mesh_data'].size(0)\n",
    "        \n",
    "        PI_RES_image, PI_RES_str = convert_svg(PI_RES, True)\n",
    "        PC_RES_image, PC_RES_str = convert_svg(PC_RES, True)\n",
    "        GOLDEN_image, GT_str = convert_svg(dataset[i]['mesh_data'], True)\n",
    "        \n",
    "        cur_save_case['pi_res_str'] = PI_RES_image.numericalize(n=200).to_str()\n",
    "        cur_save_case['pc_res_str'] = PC_RES_image.numericalize(n=200).to_str()\n",
    "        cur_save_case['gt_str'] = GOLDEN_image.numericalize(n=200).to_str()\n",
    "        \n",
    "        PI_RES_IMAGE_PATH = os.path.join(\"/zecheng2/evaluation/test_vq/version_8/image\", f\"PI_{i}.png\")\n",
    "        PC_RES_IMAGE_PATH = os.path.join(\"/zecheng2/evaluation/test_vq/version_8/image\", f\"PC_{i}.png\")\n",
    "        GT_IMAGE_PATH = os.path.join(\"/zecheng2/evaluation/test_vq/version_8/image\", f\"GT_{i}.png\")\n",
    "        \n",
    "        # PI_RES_image_b = add_background(PI_RES_image)\n",
    "        # PC_RES_image_b = add_background(PC_RES_image)\n",
    "        # GT_RES_image_b = add_background(GT_IMAGE_PATH)\n",
    "        \n",
    "        PI_RES_image.save_png(PI_RES_IMAGE_PATH)\n",
    "        PC_RES_image.save_png(PC_RES_IMAGE_PATH)\n",
    "        GOLDEN_image.save_png(GT_IMAGE_PATH)\n",
    "        \n",
    "        cur_save_case['PI_RES_image_path'] = PI_RES_IMAGE_PATH\n",
    "        cur_save_case['PC_RES_image_path'] = PC_RES_IMAGE_PATH\n",
    "        cur_save_case['GT_image_path'] = GT_IMAGE_PATH\n",
    "        \n",
    "        vq_test.append(cur_save_case)\n",
    "    \n",
    "auto_save_data(vq_test, \"/zecheng2/evaluation/test_vq/version_8/vq_test.pkl\")\n",
    "        "
   ]
  },
  {
   "cell_type": "code",
   "execution_count": 32,
   "metadata": {},
   "outputs": [
    {
     "data": {
      "text/plain": [
       "{'keys': 'Money, note, cash, bill, currency',\n",
       " 'zs_len': 62,\n",
       " 'pi_res_len': 189,\n",
       " 'pc_res_len': 124,\n",
       " 'pi_res_str': '<svg xmlns=\"http://www.w3.org/2000/svg\" viewBox=\"0.0 0.0 200.0 200.0\" height=\"200px\" width=\"200px\"><path fill=\"none\" stroke=\"deepskyblue\" stroke-width=\".3\" stroke-opacity=\"1.0\"  filling=\"0\" d=\"M94.0 46.0 L98.0 54.0\"></path>\\n<path fill=\"none\" stroke=\"lime\" stroke-width=\".3\" stroke-opacity=\"1.0\"  filling=\"0\" d=\"M82.0 89.0 L85.0 98.0\"></path>\\n<path fill=\"none\" stroke=\"deeppink\" stroke-width=\".3\" stroke-opacity=\"1.0\"  filling=\"0\" d=\"M86.0 97.0 L95.0 104.0 L97.0 110.0\"></path>\\n<path fill=\"none\" stroke=\"gold\" stroke-width=\".3\" stroke-opacity=\"1.0\"  filling=\"0\" d=\"M97.0 111.0 L87.0 118.0 L82.0 133.0\"></path>\\n<path fill=\"none\" stroke=\"coral\" stroke-width=\".3\" stroke-opacity=\"1.0\"  filling=\"0\" d=\"M81.0 133.0 C65.0 138.0 55.0 141.0 58.0 146.0 C49.0 134.0 52.0 127.0 74.0 116.0 L92.0 89.0 C62.0 55.0 65.0 52.0 107.0 73.0 C110.0 66.0 111.0 67.0 110.0 74.0 L109.0 80.0 L98.0 83.0 L96.0 82.0 C55.0 59.0 53.0 58.0 95.0 71.0 L100.0 62.0\"></path>\\n<path fill=\"none\" stroke=\"darkviolet\" stroke-width=\".3\" stroke-opacity=\"1.0\"  filling=\"0\" d=\"M100.0 63.0 L99.0 65.0\"></path>\\n<path fill=\"none\" stroke=\"royalblue\" stroke-width=\".3\" stroke-opacity=\"1.0\"  filling=\"0\" d=\"M99.0 64.0 L97.0 62.0\"></path>\\n<path fill=\"none\" stroke=\"darkmagenta\" stroke-width=\".3\" stroke-opacity=\"1.0\"  filling=\"0\" d=\"M86.0 76.0 C76.0 66.0 75.0 67.0 91.0 82.0\"></path>\\n<path fill=\"none\" stroke=\"teal\" stroke-width=\".3\" stroke-opacity=\"1.0\"  filling=\"0\" d=\"M119.0 65.0 C121.0 54.0 118.0 52.0 112.0 68.0\"></path>\\n<path fill=\"none\" stroke=\"gold\" stroke-width=\".3\" stroke-opacity=\"1.0\"  filling=\"0\" d=\"M113.0 68.0 L100.0 87.0 L96.0 81.0\"></path>\\n<path fill=\"none\" stroke=\"green\" stroke-width=\".3\" stroke-opacity=\"1.0\"  filling=\"0\" d=\"M96.0 82.0 L89.0 70.0 L86.0 69.0\"></path>\\n<path fill=\"none\" stroke=\"maroon\" stroke-width=\".3\" stroke-opacity=\"1.0\"  filling=\"0\" d=\"M104.0 96.0 C102.0 99.0 97.0 99.0 95.0 100.0\"></path>\\n<path fill=\"none\" stroke=\"aqua\" stroke-width=\".3\" stroke-opacity=\"1.0\"  filling=\"0\" d=\"M95.0 98.0 L88.0 100.0\"></path>\\n<path fill=\"none\" stroke=\"grey\" stroke-width=\".3\" stroke-opacity=\"1.0\"  filling=\"0\" d=\"M89.0 100.0 C52.0 66.0 49.0 66.0 74.0 89.0\"></path>\\n<path fill=\"none\" stroke=\"steelblue\" stroke-width=\".3\" stroke-opacity=\"1.0\"  filling=\"0\" d=\"M73.0 91.0 C65.0 86.0 68.0 114.0 88.0 127.0\"></path>\\n<path fill=\"none\" stroke=\"lime\" stroke-width=\".3\" stroke-opacity=\"1.0\"  filling=\"0\" d=\"M88.0 126.0 L91.0 127.0\"></path>\\n<path fill=\"none\" stroke=\"orange\" stroke-width=\".3\" stroke-opacity=\"1.0\"  filling=\"0\" d=\"M91.0 126.0 L110.0 124.0 L113.0 107.0 L67.0 109.0 L37.0 133.0 L40.0 131.0 C41.0 127.0 49.0 118.0 68.0 109.0\"></path>\\n<path fill=\"none\" stroke=\"deepskyblue\" stroke-width=\".3\" stroke-opacity=\"1.0\"  filling=\"0\" d=\"M68.0 108.0 L85.0 96.0 L88.0 96.0\"></path>\\n<path fill=\"none\" stroke=\"lime\" stroke-width=\".3\" stroke-opacity=\"1.0\"  filling=\"0\" d=\"M87.0 96.0 L99.0 97.0\"></path>\\n<path fill=\"none\" stroke=\"deeppink\" stroke-width=\".3\" stroke-opacity=\"1.0\"  filling=\"0\" d=\"M99.0 96.0 L104.0 93.0\"></path>\\n<path fill=\"none\" stroke=\"gold\" stroke-width=\".3\" stroke-opacity=\"1.0\"  filling=\"0\" d=\"M103.0 93.0 C95.0 79.0 95.0 75.0 106.0 81.0 L104.0 68.0 C90.0 50.0 89.0 53.0 102.0 72.0\"></path>\\n<path fill=\"none\" stroke=\"coral\" stroke-width=\".3\" stroke-opacity=\"1.0\"  filling=\"0\" d=\"M101.0 72.0 C97.0 74.0 95.0 78.0 99.0 86.0 C70.0 67.0 69.0 65.0 94.0 82.0 L95.0 78.0\"></path>\\n<path fill=\"none\" stroke=\"darkviolet\" stroke-width=\".3\" stroke-opacity=\"1.0\"  filling=\"0\" d=\"M96.0 79.0 L95.0 76.0 L91.0 71.0\"></path>\\n<path fill=\"none\" stroke=\"royalblue\" stroke-width=\".3\" stroke-opacity=\"1.0\"  filling=\"0\" d=\"M90.0 72.0 L94.0 74.0\"></path>\\n<path fill=\"none\" stroke=\"darkmagenta\" stroke-width=\".3\" stroke-opacity=\"1.0\"  filling=\"0\" d=\"M94.0 73.0 L96.0 67.0\"></path>\\n<path fill=\"none\" stroke=\"teal\" stroke-width=\".3\" stroke-opacity=\"1.0\"  filling=\"0\" d=\"M114.0 65.0 C84.0 29.0 78.0 29.0 102.0 78.0\"></path>\\n<path fill=\"none\" stroke=\"gold\" stroke-width=\".3\" stroke-opacity=\"1.0\"  filling=\"0\" d=\"M89.0 124.0 C77.0 131.0 68.0 144.0 70.0 151.0\"></path>\\n<path fill=\"none\" stroke=\"green\" stroke-width=\".3\" stroke-opacity=\"1.0\"  filling=\"0\" d=\"M69.0 150.0 C72.0 156.0 74.0 162.0 77.0 168.0 C89.0 176.0 132.0 156.0 142.0 136.0\"></path>\\n<path fill=\"none\" stroke=\"maroon\" stroke-width=\".3\" stroke-opacity=\"1.0\"  filling=\"0\" d=\"M142.0 135.0 C140.0 124.0 135.0 115.0 133.0 114.0 C128.0 106.0 122.0 103.0 114.0 100.0\"></path>\\n<path fill=\"none\" stroke=\"aqua\" stroke-width=\".3\" stroke-opacity=\"1.0\"  filling=\"0\" d=\"M115.0 99.0 L96.0 91.0 C56.0 60.0 56.0 59.0 98.0 90.0\"></path>\\n<path fill=\"none\" stroke=\"grey\" stroke-width=\".3\" stroke-opacity=\"1.0\"  filling=\"0\" d=\"M99.0 91.0 L96.0 102.0\"></path>\\n<path fill=\"none\" stroke=\"steelblue\" stroke-width=\".3\" stroke-opacity=\"1.0\"  filling=\"0\" d=\"M96.0 103.0 L96.0 105.0\"></path>\\n<path fill=\"none\" stroke=\"lime\" stroke-width=\".3\" stroke-opacity=\"1.0\"  filling=\"0\" d=\"M96.0 106.0 C80.0 80.0 78.0 80.0 95.0 112.0 L82.0 130.0\"></path>\\n<path fill=\"none\" stroke=\"orange\" stroke-width=\".3\" stroke-opacity=\"1.0\"  filling=\"0\" d=\"M81.0 131.0 C67.0 137.0 62.0 142.0 71.0 150.0\"></path>\\n<path fill=\"none\" stroke=\"deepskyblue\" stroke-width=\".3\" stroke-opacity=\"1.0\"  filling=\"0\" d=\"M70.0 149.0 C63.0 138.0 70.0 118.0 81.0 111.0\"></path>\\n<path fill=\"none\" stroke=\"lime\" stroke-width=\".3\" stroke-opacity=\"1.0\"  filling=\"0\" d=\"M81.0 110.0 L88.0 96.0\"></path>\\n<path fill=\"none\" stroke=\"deeppink\" stroke-width=\".3\" stroke-opacity=\"1.0\"  filling=\"0\" d=\"M88.0 95.0 L89.0 96.0\"></path>\\n<path fill=\"none\" stroke=\"gold\" stroke-width=\".3\" stroke-opacity=\"1.0\"  filling=\"0\" d=\"M90.0 95.0 L104.0 82.0 L90.0 104.0 L93.0 114.0 C71.0 88.0 75.0 88.0 106.0 116.0 C95.0 96.0 96.0 90.0 116.0 96.0 C78.0 61.0 76.0 58.0 113.0 69.0\"></path>\\n<path fill=\"none\" stroke=\"coral\" stroke-width=\".3\" stroke-opacity=\"1.0\"  filling=\"0\" d=\"M113.0 70.0 C102.0 46.0 101.0 44.0 109.0 50.0 L107.0 49.0\"></path>\\n<path fill=\"none\" stroke=\"darkviolet\" stroke-width=\".3\" stroke-opacity=\"1.0\"  filling=\"0\" d=\"M106.0 48.0 L112.0 66.0 L110.0 69.0\"></path>\\n<path fill=\"none\" stroke=\"royalblue\" stroke-width=\".3\" stroke-opacity=\"1.0\"  filling=\"0\" d=\"M154.0 91.0 L154.0 100.0 L78.0 98.0 L71.0 88.0 C65.0 78.0 64.0 78.0 69.0 86.0 C65.0 79.0 68.0 81.0 82.0 88.0 L92.0 93.0\"></path>\\n<path fill=\"none\" stroke=\"darkmagenta\" stroke-width=\".3\" stroke-opacity=\"1.0\"  filling=\"0\" d=\"M92.0 92.0 L96.0 102.0\"></path>\\n<path fill=\"none\" stroke=\"teal\" stroke-width=\".3\" stroke-opacity=\"1.0\"  filling=\"0\" d=\"M97.0 104.0 C74.0 86.0 74.0 85.0 96.0 110.0 L92.0 104.0 L89.0 99.0 L86.0 98.0 L94.0 95.0\"></path>\\n<path fill=\"none\" stroke=\"gold\" stroke-width=\".3\" stroke-opacity=\"1.0\"  filling=\"0\" d=\"M94.0 94.0 L95.0 81.0\"></path>\\n<path fill=\"none\" stroke=\"green\" stroke-width=\".3\" stroke-opacity=\"1.0\"  filling=\"0\" d=\"M94.0 81.0 L73.0 66.0\"></path>\\n<path fill=\"none\" stroke=\"maroon\" stroke-width=\".3\" stroke-opacity=\"1.0\"  filling=\"0\" d=\"M73.0 65.0 L48.0 69.0\"></path>\\n<path fill=\"none\" stroke=\"aqua\" stroke-width=\".3\" stroke-opacity=\"1.0\"  filling=\"0\" d=\"M48.0 70.0 L46.0 70.0\"></path>\\n<path fill=\"none\" stroke=\"grey\" stroke-width=\".3\" stroke-opacity=\"1.0\"  filling=\"0\" d=\"M75.0 24.0 C79.0 25.0 87.0 31.0 93.0 40.0\"></path>\\n<path fill=\"none\" stroke=\"steelblue\" stroke-width=\".3\" stroke-opacity=\"1.0\"  filling=\"0\" d=\"M93.0 41.0 C92.0 47.0 89.0 64.0 88.0 84.0 L81.0 101.0 C48.0 80.0 38.0 85.0 41.0 127.0\"></path>\\n<path fill=\"none\" stroke=\"lime\" stroke-width=\".3\" stroke-opacity=\"1.0\"  filling=\"0\" d=\"M42.0 127.0 C28.0 132.0 24.0 134.0 28.0 132.0\"></path>\\n<path fill=\"none\" stroke=\"orange\" stroke-width=\".3\" stroke-opacity=\"1.0\"  filling=\"0\" d=\"M28.0 131.0 C22.0 123.0 31.0 109.0 54.0 101.0 C66.0 90.0 82.0 89.0 100.0 98.0 C116.0 105.0 129.0 120.0 132.0 136.0\"></path>\\n<path fill=\"none\" stroke=\"deepskyblue\" stroke-width=\".3\" stroke-opacity=\"1.0\"  filling=\"0\" d=\"M131.0 136.0 C132.0 140.0 132.0 143.0 134.0 142.0 C134.0 133.0 126.0 106.0 123.0 99.0\"></path>\\n<path fill=\"none\" stroke=\"lime\" stroke-width=\".3\" stroke-opacity=\"1.0\"  filling=\"0\" d=\"M124.0 100.0 L121.0 92.0 L113.0 98.0\"></path>\\n<path fill=\"none\" stroke=\"deeppink\" stroke-width=\".3\" stroke-opacity=\"1.0\"  filling=\"0\" d=\"M114.0 98.0 L108.0 101.0 C76.0 71.0 74.0 71.0 99.0 104.0\"></path>\\n<path fill=\"none\" stroke=\"gold\" stroke-width=\".3\" stroke-opacity=\"1.0\"  filling=\"0\" d=\"M98.0 103.0 L91.0 106.0 L50.0 129.0 C30.0 133.0 24.0 134.0 28.0 133.0\"></path>\\n<path fill=\"none\" stroke=\"coral\" stroke-width=\".3\" stroke-opacity=\"1.0\"  filling=\"0\" d=\"M28.0 132.0 C21.0 122.0 31.0 107.0 54.0 102.0 C65.0 91.0 81.0 91.0 100.0 99.0\"></path>\\n<path fill=\"none\" stroke=\"darkviolet\" stroke-width=\".3\" stroke-opacity=\"1.0\"  filling=\"0\" d=\"M100.0 100.0 C117.0 105.0 130.0 121.0 132.0 138.0 C132.0 144.0 131.0 148.0 130.0 144.0\"></path>\\n<path fill=\"none\" stroke=\"royalblue\" stroke-width=\".3\" stroke-opacity=\"1.0\"  filling=\"0\" d=\"M129.0 144.0 C128.0 140.0 121.0 126.0 113.0 114.0\"></path>\\n<path fill=\"none\" stroke=\"darkmagenta\" stroke-width=\".3\" stroke-opacity=\"1.0\"  filling=\"0\" d=\"M113.0 112.0 L98.0 92.0\"></path>\\n<path fill=\"none\" stroke=\"teal\" stroke-width=\".3\" stroke-opacity=\"1.0\"  filling=\"0\" d=\"M93.0 91.0 L94.0 92.0\"></path></svg>',\n",
       " 'pc_res_str': '<svg xmlns=\"http://www.w3.org/2000/svg\" viewBox=\"0.0 0.0 200.0 200.0\" height=\"200px\" width=\"200px\"><path fill=\"none\" stroke=\"deepskyblue\" stroke-width=\".3\" stroke-opacity=\"1.0\"  filling=\"0\" d=\"M96.0 46.0 L98.0 54.0\"></path>\\n<path fill=\"none\" stroke=\"lime\" stroke-width=\".3\" stroke-opacity=\"1.0\"  filling=\"0\" d=\"M82.0 90.0 L85.0 98.0 L95.0 104.0 L97.0 110.0 L87.0 118.0 L82.0 133.0 C65.0 138.0 55.0 141.0 58.0 146.0 C49.0 134.0 52.0 127.0 74.0 116.0 L92.0 89.0 C62.0 55.0 65.0 52.0 107.0 73.0 C110.0 66.0 111.0 67.0 110.0 74.0 L109.0 80.0 L98.0 83.0 L96.0 82.0 C55.0 59.0 53.0 58.0 95.0 71.0 L100.0 62.0 L99.0 65.0 L97.0 62.0\"></path>\\n<path fill=\"none\" stroke=\"deeppink\" stroke-width=\".3\" stroke-opacity=\"1.0\"  filling=\"0\" d=\"M86.0 77.0 C76.0 66.0 75.0 67.0 91.0 82.0\"></path>\\n<path fill=\"none\" stroke=\"gold\" stroke-width=\".3\" stroke-opacity=\"1.0\"  filling=\"0\" d=\"M118.0 66.0 C121.0 54.0 118.0 52.0 112.0 68.0 L100.0 87.0 L96.0 81.0 L89.0 70.0 L86.0 69.0\"></path>\\n<path fill=\"none\" stroke=\"coral\" stroke-width=\".3\" stroke-opacity=\"1.0\"  filling=\"0\" d=\"M104.0 97.0 C102.0 99.0 97.0 99.0 95.0 100.0 L88.0 100.0 C52.0 66.0 49.0 66.0 74.0 89.0 C65.0 86.0 68.0 114.0 88.0 127.0 L91.0 127.0 L110.0 124.0 L113.0 107.0 L67.0 109.0 L37.0 133.0 L40.0 131.0 C41.0 127.0 49.0 118.0 68.0 109.0 L85.0 96.0 L88.0 96.0 L99.0 97.0 L104.0 93.0 C95.0 79.0 95.0 75.0 106.0 81.0 L104.0 68.0 C90.0 50.0 89.0 53.0 102.0 72.0 C97.0 74.0 95.0 78.0 99.0 86.0 C70.0 67.0 69.0 65.0 94.0 82.0 L95.0 78.0 L95.0 76.0 L91.0 71.0 L94.0 74.0 L96.0 67.0\"></path>\\n<path fill=\"none\" stroke=\"darkviolet\" stroke-width=\".3\" stroke-opacity=\"1.0\"  filling=\"0\" d=\"M114.0 66.0 C84.0 29.0 78.0 29.0 102.0 78.0\"></path>\\n<path fill=\"none\" stroke=\"royalblue\" stroke-width=\".3\" stroke-opacity=\"1.0\"  filling=\"0\" d=\"M89.0 125.0 C77.0 131.0 68.0 144.0 70.0 151.0 C72.0 156.0 74.0 162.0 77.0 168.0 C89.0 176.0 132.0 156.0 142.0 136.0 C140.0 124.0 135.0 115.0 133.0 114.0 C128.0 106.0 122.0 103.0 114.0 100.0 L96.0 91.0 C56.0 60.0 56.0 59.0 98.0 90.0 L96.0 102.0 L96.0 105.0 C80.0 80.0 78.0 80.0 95.0 112.0 L82.0 130.0 C67.0 137.0 62.0 142.0 71.0 150.0 C63.0 138.0 70.0 118.0 81.0 111.0 L88.0 96.0 L89.0 96.0 L104.0 82.0 L90.0 104.0 L93.0 114.0 C71.0 88.0 75.0 88.0 106.0 116.0 C95.0 96.0 96.0 90.0 116.0 96.0 C78.0 61.0 76.0 58.0 113.0 69.0 C102.0 46.0 101.0 44.0 109.0 50.0 L107.0 49.0 L112.0 66.0 L110.0 69.0\"></path>\\n<path fill=\"none\" stroke=\"darkmagenta\" stroke-width=\".3\" stroke-opacity=\"1.0\"  filling=\"0\" d=\"M154.0 92.0 L154.0 100.0 L78.0 98.0 L71.0 88.0 C65.0 78.0 64.0 78.0 69.0 86.0 C65.0 79.0 68.0 81.0 82.0 88.0 L92.0 93.0 L96.0 102.0 C74.0 86.0 74.0 85.0 96.0 110.0 L92.0 104.0 L89.0 99.0 L86.0 98.0 L94.0 95.0 L95.0 81.0 L73.0 66.0 L48.0 69.0 L46.0 70.0\"></path>\\n<path fill=\"none\" stroke=\"teal\" stroke-width=\".3\" stroke-opacity=\"1.0\"  filling=\"0\" d=\"M75.0 24.0 C79.0 25.0 87.0 31.0 93.0 40.0 C92.0 47.0 89.0 64.0 88.0 84.0 L81.0 101.0 C48.0 80.0 38.0 85.0 41.0 127.0 C28.0 132.0 24.0 134.0 28.0 132.0 C22.0 123.0 31.0 109.0 54.0 101.0 C66.0 90.0 82.0 89.0 100.0 98.0 C116.0 105.0 129.0 120.0 132.0 136.0 C132.0 140.0 132.0 143.0 134.0 142.0 C134.0 133.0 126.0 106.0 123.0 99.0 L121.0 92.0 L113.0 98.0 L108.0 101.0 C76.0 71.0 74.0 71.0 99.0 104.0 L91.0 106.0 L50.0 129.0 C30.0 133.0 24.0 134.0 28.0 133.0 C21.0 122.0 31.0 107.0 54.0 102.0 C65.0 91.0 81.0 91.0 100.0 99.0 C117.0 105.0 130.0 121.0 132.0 138.0 C132.0 144.0 131.0 148.0 130.0 144.0 C128.0 140.0 121.0 126.0 113.0 114.0 L98.0 92.0 L94.0 92.0\"></path></svg>',\n",
       " 'PI_RES_image_path': '/zecheng2/evaluation/test_vq/version_8/image/PC_0.png',\n",
       " 'PC_RES_image_path': '/zecheng2/evaluation/test_vq/version_8/image/PC_0.png'}"
      ]
     },
     "execution_count": 32,
     "metadata": {},
     "output_type": "execute_result"
    }
   ],
   "source": [
    "vq_test[0]"
   ]
  },
  {
   "cell_type": "code",
   "execution_count": 19,
   "metadata": {},
   "outputs": [
    {
     "data": {
      "text/plain": [
       "{'keys': 'Money, note, cash, bill, currency',\n",
       " 'zs_len': 62,\n",
       " 'pi_res_len': 189,\n",
       " 'pc_res_len': 124,\n",
       " 'pi_res_str': '<svg xmlns=\"http://www.w3.org/2000/svg\" viewBox=\"0.0 0.0 24.0 24.0\" height=\"200px\" width=\"200px\"><path fill=\"none\" stroke=\"deepskyblue\" stroke-width=\".3\" stroke-opacity=\"1.0\"  filling=\"0\" d=\"M11.279999732971191 5.519999980926514 L11.760000228881836 6.480000019073486\"></path>\\n<path fill=\"none\" stroke=\"lime\" stroke-width=\".3\" stroke-opacity=\"1.0\"  filling=\"0\" d=\"M9.84000015258789 10.680000305175781 L10.199999809265137 11.760000228881836\"></path>\\n<path fill=\"none\" stroke=\"deeppink\" stroke-width=\".3\" stroke-opacity=\"1.0\"  filling=\"0\" d=\"M10.319999694824219 11.640000343322754 L11.399999618530273 12.479999542236328 L11.640000343322754 13.199999809265137\"></path>\\n<path fill=\"none\" stroke=\"gold\" stroke-width=\".3\" stroke-opacity=\"1.0\"  filling=\"0\" d=\"M11.640000343322754 13.319999694824219 L10.440000534057617 14.15999984741211 L9.84000015258789 15.960000038146973\"></path>\\n<path fill=\"none\" stroke=\"coral\" stroke-width=\".3\" stroke-opacity=\"1.0\"  filling=\"0\" d=\"M9.720000267028809 15.960000038146973 C7.800000190734863 16.559999465942383 6.599999904632568 16.920000076293945 6.960000038146973 17.520000457763672 C5.880000114440918 16.079999923706055 6.240000247955322 15.239999771118164 8.880000114440918 13.920000076293945 L11.039999961853027 10.680000305175781 C7.440000057220459 6.599999904632568 7.800000190734863 6.240000247955322 12.84000015258789 8.760000228881836 C13.199999809265137 7.920000076293945 13.319999694824219 8.039999961853027 13.199999809265137 8.880000114440918 L13.079999923706055 9.600000381469727 L11.760000228881836 9.960000038146973 L11.520000457763672 9.84000015258789 C6.599999904632568 7.079999923706055 6.360000133514404 6.960000038146973 11.399999618530273 8.520000457763672 L12.0 7.440000057220459\"></path>\\n<path fill=\"none\" stroke=\"darkviolet\" stroke-width=\".3\" stroke-opacity=\"1.0\"  filling=\"0\" d=\"M12.0 7.559999942779541 L11.880000114440918 7.800000190734863\"></path>\\n<path fill=\"none\" stroke=\"royalblue\" stroke-width=\".3\" stroke-opacity=\"1.0\"  filling=\"0\" d=\"M11.880000114440918 7.680000305175781 L11.640000343322754 7.440000057220459\"></path>\\n<path fill=\"none\" stroke=\"darkmagenta\" stroke-width=\".3\" stroke-opacity=\"1.0\"  filling=\"0\" d=\"M10.319999694824219 9.119999885559082 C9.119999885559082 7.920000076293945 9.0 8.039999961853027 10.920000076293945 9.84000015258789\"></path>\\n<path fill=\"none\" stroke=\"teal\" stroke-width=\".3\" stroke-opacity=\"1.0\"  filling=\"0\" d=\"M14.279999732971191 7.800000190734863 C14.520000457763672 6.480000019073486 14.15999984741211 6.240000247955322 13.4399995803833 8.15999984741211\"></path>\\n<path fill=\"none\" stroke=\"gold\" stroke-width=\".3\" stroke-opacity=\"1.0\"  filling=\"0\" d=\"M13.559999465942383 8.15999984741211 L12.0 10.440000534057617 L11.520000457763672 9.720000267028809\"></path>\\n<path fill=\"none\" stroke=\"green\" stroke-width=\".3\" stroke-opacity=\"1.0\"  filling=\"0\" d=\"M11.520000457763672 9.84000015258789 L10.680000305175781 8.399999618530273 L10.319999694824219 8.279999732971191\"></path>\\n<path fill=\"none\" stroke=\"maroon\" stroke-width=\".3\" stroke-opacity=\"1.0\"  filling=\"0\" d=\"M12.479999542236328 11.520000457763672 C12.239999771118164 11.880000114440918 11.640000343322754 11.880000114440918 11.399999618530273 12.0\"></path>\\n<path fill=\"none\" stroke=\"aqua\" stroke-width=\".3\" stroke-opacity=\"1.0\"  filling=\"0\" d=\"M11.399999618530273 11.760000228881836 L10.5600004196167 12.0\"></path>\\n<path fill=\"none\" stroke=\"grey\" stroke-width=\".3\" stroke-opacity=\"1.0\"  filling=\"0\" d=\"M10.680000305175781 12.0 C6.240000247955322 7.920000076293945 5.880000114440918 7.920000076293945 8.880000114440918 10.680000305175781\"></path>\\n<path fill=\"none\" stroke=\"steelblue\" stroke-width=\".3\" stroke-opacity=\"1.0\"  filling=\"0\" d=\"M8.760000228881836 10.920000076293945 C7.800000190734863 10.319999694824219 8.15999984741211 13.680000305175781 10.5600004196167 15.239999771118164\"></path>\\n<path fill=\"none\" stroke=\"lime\" stroke-width=\".3\" stroke-opacity=\"1.0\"  filling=\"0\" d=\"M10.5600004196167 15.119999885559082 L10.920000076293945 15.239999771118164\"></path>\\n<path fill=\"none\" stroke=\"orange\" stroke-width=\".3\" stroke-opacity=\"1.0\"  filling=\"0\" d=\"M10.920000076293945 15.119999885559082 L13.199999809265137 14.880000114440918 L13.559999465942383 12.84000015258789 L8.039999961853027 13.079999923706055 L4.440000057220459 15.960000038146973 L4.800000190734863 15.720000267028809 C4.920000076293945 15.239999771118164 5.880000114440918 14.15999984741211 8.15999984741211 13.079999923706055\"></path>\\n<path fill=\"none\" stroke=\"deepskyblue\" stroke-width=\".3\" stroke-opacity=\"1.0\"  filling=\"0\" d=\"M8.15999984741211 12.960000038146973 L10.199999809265137 11.520000457763672 L10.5600004196167 11.520000457763672\"></path>\\n<path fill=\"none\" stroke=\"lime\" stroke-width=\".3\" stroke-opacity=\"1.0\"  filling=\"0\" d=\"M10.440000534057617 11.520000457763672 L11.880000114440918 11.640000343322754\"></path>\\n<path fill=\"none\" stroke=\"deeppink\" stroke-width=\".3\" stroke-opacity=\"1.0\"  filling=\"0\" d=\"M11.880000114440918 11.520000457763672 L12.479999542236328 11.15999984741211\"></path>\\n<path fill=\"none\" stroke=\"gold\" stroke-width=\".3\" stroke-opacity=\"1.0\"  filling=\"0\" d=\"M12.359999656677246 11.15999984741211 C11.399999618530273 9.479999542236328 11.399999618530273 9.0 12.720000267028809 9.720000267028809 L12.479999542236328 8.15999984741211 C10.800000190734863 6.0 10.680000305175781 6.360000133514404 12.239999771118164 8.640000343322754\"></path>\\n<path fill=\"none\" stroke=\"coral\" stroke-width=\".3\" stroke-opacity=\"1.0\"  filling=\"0\" d=\"M12.119999885559082 8.640000343322754 C11.640000343322754 8.880000114440918 11.399999618530273 9.360000610351562 11.880000114440918 10.319999694824219 C8.399999618530273 8.039999961853027 8.279999732971191 7.800000190734863 11.279999732971191 9.84000015258789 L11.399999618530273 9.360000610351562\"></path>\\n<path fill=\"none\" stroke=\"darkviolet\" stroke-width=\".3\" stroke-opacity=\"1.0\"  filling=\"0\" d=\"M11.520000457763672 9.479999542236328 L11.399999618530273 9.119999885559082 L10.920000076293945 8.520000457763672\"></path>\\n<path fill=\"none\" stroke=\"royalblue\" stroke-width=\".3\" stroke-opacity=\"1.0\"  filling=\"0\" d=\"M10.800000190734863 8.640000343322754 L11.279999732971191 8.880000114440918\"></path>\\n<path fill=\"none\" stroke=\"darkmagenta\" stroke-width=\".3\" stroke-opacity=\"1.0\"  filling=\"0\" d=\"M11.279999732971191 8.760000228881836 L11.520000457763672 8.039999961853027\"></path>\\n<path fill=\"none\" stroke=\"teal\" stroke-width=\".3\" stroke-opacity=\"1.0\"  filling=\"0\" d=\"M13.680000305175781 7.800000190734863 C10.079999923706055 3.4800004959106445 9.360000610351562 3.4800004959106445 12.239999771118164 9.360000610351562\"></path>\\n<path fill=\"none\" stroke=\"gold\" stroke-width=\".3\" stroke-opacity=\"1.0\"  filling=\"0\" d=\"M10.680000305175781 14.880000114440918 C9.239999771118164 15.720000267028809 8.15999984741211 17.279998779296875 8.399999618530273 18.119998931884766\"></path>\\n<path fill=\"none\" stroke=\"green\" stroke-width=\".3\" stroke-opacity=\"1.0\"  filling=\"0\" d=\"M8.279999732971191 18.0 C8.640000343322754 18.719999313354492 8.880000114440918 19.440000534057617 9.239999771118164 20.15999984741211 C10.680000305175781 21.119998931884766 15.84000015258789 18.719999313354492 17.040000915527344 16.31999969482422\"></path>\\n<path fill=\"none\" stroke=\"maroon\" stroke-width=\".3\" stroke-opacity=\"1.0\"  filling=\"0\" d=\"M17.040000915527344 16.200000762939453 C16.799999237060547 14.880000114440918 16.200000762939453 13.800000190734863 15.960000038146973 13.680000305175781 C15.359999656677246 12.720000267028809 14.639999389648438 12.359999656677246 13.680000305175781 12.0\"></path>\\n<path fill=\"none\" stroke=\"aqua\" stroke-width=\".3\" stroke-opacity=\"1.0\"  filling=\"0\" d=\"M13.800000190734863 11.880000114440918 L11.520000457763672 10.920000076293945 C6.720000267028809 7.200000286102295 6.720000267028809 7.079999923706055 11.760000228881836 10.800000190734863\"></path>\\n<path fill=\"none\" stroke=\"grey\" stroke-width=\".3\" stroke-opacity=\"1.0\"  filling=\"0\" d=\"M11.880000114440918 10.920000076293945 L11.520000457763672 12.239999771118164\"></path>\\n<path fill=\"none\" stroke=\"steelblue\" stroke-width=\".3\" stroke-opacity=\"1.0\"  filling=\"0\" d=\"M11.520000457763672 12.359999656677246 L11.520000457763672 12.600000381469727\"></path>\\n<path fill=\"none\" stroke=\"lime\" stroke-width=\".3\" stroke-opacity=\"1.0\"  filling=\"0\" d=\"M11.520000457763672 12.720000267028809 C9.600000381469727 9.600000381469727 9.360000610351562 9.600000381469727 11.399999618530273 13.4399995803833 L9.84000015258789 15.600000381469727\"></path>\\n<path fill=\"none\" stroke=\"orange\" stroke-width=\".3\" stroke-opacity=\"1.0\"  filling=\"0\" d=\"M9.720000267028809 15.720000267028809 C8.039999961853027 16.440000534057617 7.440000057220459 17.040000915527344 8.520000457763672 18.0\"></path>\\n<path fill=\"none\" stroke=\"deepskyblue\" stroke-width=\".3\" stroke-opacity=\"1.0\"  filling=\"0\" d=\"M8.399999618530273 17.8799991607666 C7.559999942779541 16.559999465942383 8.399999618530273 14.15999984741211 9.720000267028809 13.319999694824219\"></path>\\n<path fill=\"none\" stroke=\"lime\" stroke-width=\".3\" stroke-opacity=\"1.0\"  filling=\"0\" d=\"M9.720000267028809 13.199999809265137 L10.5600004196167 11.520000457763672\"></path>\\n<path fill=\"none\" stroke=\"deeppink\" stroke-width=\".3\" stroke-opacity=\"1.0\"  filling=\"0\" d=\"M10.5600004196167 11.399999618530273 L10.680000305175781 11.520000457763672\"></path>\\n<path fill=\"none\" stroke=\"gold\" stroke-width=\".3\" stroke-opacity=\"1.0\"  filling=\"0\" d=\"M10.800000190734863 11.399999618530273 L12.479999542236328 9.84000015258789 L10.800000190734863 12.479999542236328 L11.15999984741211 13.680000305175781 C8.520000457763672 10.5600004196167 9.0 10.5600004196167 12.720000267028809 13.920000076293945 C11.399999618530273 11.520000457763672 11.520000457763672 10.800000190734863 13.920000076293945 11.520000457763672 C9.360000610351562 7.320000171661377 9.119999885559082 6.960000038146973 13.559999465942383 8.279999732971191\"></path>\\n<path fill=\"none\" stroke=\"coral\" stroke-width=\".3\" stroke-opacity=\"1.0\"  filling=\"0\" d=\"M13.559999465942383 8.399999618530273 C12.239999771118164 5.519999980926514 12.119999885559082 5.28000020980835 13.079999923706055 6.0 L12.84000015258789 5.880000114440918\"></path>\\n<path fill=\"none\" stroke=\"darkviolet\" stroke-width=\".3\" stroke-opacity=\"1.0\"  filling=\"0\" d=\"M12.720000267028809 5.760000228881836 L13.4399995803833 7.920000076293945 L13.199999809265137 8.279999732971191\"></path>\\n<path fill=\"none\" stroke=\"royalblue\" stroke-width=\".3\" stroke-opacity=\"1.0\"  filling=\"0\" d=\"M18.479999542236328 10.920000076293945 L18.479999542236328 12.0 L9.360000610351562 11.760000228881836 L8.520000457763672 10.5600004196167 C7.800000190734863 9.360000610351562 7.680000305175781 9.360000610351562 8.279999732971191 10.319999694824219 C7.800000190734863 9.479999542236328 8.15999984741211 9.720000267028809 9.84000015258789 10.5600004196167 L11.039999961853027 11.15999984741211\"></path>\\n<path fill=\"none\" stroke=\"darkmagenta\" stroke-width=\".3\" stroke-opacity=\"1.0\"  filling=\"0\" d=\"M11.039999961853027 11.039999961853027 L11.520000457763672 12.239999771118164\"></path>\\n<path fill=\"none\" stroke=\"teal\" stroke-width=\".3\" stroke-opacity=\"1.0\"  filling=\"0\" d=\"M11.640000343322754 12.479999542236328 C8.880000114440918 10.319999694824219 8.880000114440918 10.199999809265137 11.520000457763672 13.199999809265137 L11.039999961853027 12.479999542236328 L10.680000305175781 11.880000114440918 L10.319999694824219 11.760000228881836 L11.279999732971191 11.399999618530273\"></path>\\n<path fill=\"none\" stroke=\"gold\" stroke-width=\".3\" stroke-opacity=\"1.0\"  filling=\"0\" d=\"M11.279999732971191 11.279999732971191 L11.399999618530273 9.720000267028809\"></path>\\n<path fill=\"none\" stroke=\"green\" stroke-width=\".3\" stroke-opacity=\"1.0\"  filling=\"0\" d=\"M11.279999732971191 9.720000267028809 L8.760000228881836 7.920000076293945\"></path>\\n<path fill=\"none\" stroke=\"maroon\" stroke-width=\".3\" stroke-opacity=\"1.0\"  filling=\"0\" d=\"M8.760000228881836 7.800000190734863 L5.760000228881836 8.279999732971191\"></path>\\n<path fill=\"none\" stroke=\"aqua\" stroke-width=\".3\" stroke-opacity=\"1.0\"  filling=\"0\" d=\"M5.760000228881836 8.399999618530273 L5.519999980926514 8.399999618530273\"></path>\\n<path fill=\"none\" stroke=\"grey\" stroke-width=\".3\" stroke-opacity=\"1.0\"  filling=\"0\" d=\"M9.0 2.880000114440918 C9.479999542236328 3.0 10.440000534057617 3.7200002670288086 11.15999984741211 4.800000190734863\"></path>\\n<path fill=\"none\" stroke=\"steelblue\" stroke-width=\".3\" stroke-opacity=\"1.0\"  filling=\"0\" d=\"M11.15999984741211 4.920000076293945 C11.039999961853027 5.640000343322754 10.680000305175781 7.680000305175781 10.5600004196167 10.079999923706055 L9.720000267028809 12.119999885559082 C5.760000228881836 9.600000381469727 4.559999942779541 10.199999809265137 4.920000076293945 15.239999771118164\"></path>\\n<path fill=\"none\" stroke=\"lime\" stroke-width=\".3\" stroke-opacity=\"1.0\"  filling=\"0\" d=\"M5.039999961853027 15.239999771118164 C3.3600006103515625 15.84000015258789 2.880000114440918 16.079999923706055 3.3600006103515625 15.84000015258789\"></path>\\n<path fill=\"none\" stroke=\"orange\" stroke-width=\".3\" stroke-opacity=\"1.0\"  filling=\"0\" d=\"M3.3600006103515625 15.720000267028809 C2.640000343322754 14.760000228881836 3.7200002670288086 13.079999923706055 6.480000019073486 12.119999885559082 C7.920000076293945 10.800000190734863 9.84000015258789 10.680000305175781 12.0 11.760000228881836 C13.920000076293945 12.600000381469727 15.479999542236328 14.399999618530273 15.84000015258789 16.31999969482422\"></path>\\n<path fill=\"none\" stroke=\"deepskyblue\" stroke-width=\".3\" stroke-opacity=\"1.0\"  filling=\"0\" d=\"M15.720000267028809 16.31999969482422 C15.84000015258789 16.799999237060547 15.84000015258789 17.15999984741211 16.079999923706055 17.040000915527344 C16.079999923706055 15.960000038146973 15.119999885559082 12.720000267028809 14.760000228881836 11.880000114440918\"></path>\\n<path fill=\"none\" stroke=\"lime\" stroke-width=\".3\" stroke-opacity=\"1.0\"  filling=\"0\" d=\"M14.880000114440918 12.0 L14.520000457763672 11.039999961853027 L13.559999465942383 11.760000228881836\"></path>\\n<path fill=\"none\" stroke=\"deeppink\" stroke-width=\".3\" stroke-opacity=\"1.0\"  filling=\"0\" d=\"M13.680000305175781 11.760000228881836 L12.960000038146973 12.119999885559082 C9.119999885559082 8.520000457763672 8.880000114440918 8.520000457763672 11.880000114440918 12.479999542236328\"></path>\\n<path fill=\"none\" stroke=\"gold\" stroke-width=\".3\" stroke-opacity=\"1.0\"  filling=\"0\" d=\"M11.760000228881836 12.359999656677246 L10.920000076293945 12.720000267028809 L6.0 15.479999542236328 C3.6000003814697266 15.960000038146973 2.880000114440918 16.079999923706055 3.3600006103515625 15.960000038146973\"></path>\\n<path fill=\"none\" stroke=\"coral\" stroke-width=\".3\" stroke-opacity=\"1.0\"  filling=\"0\" d=\"M3.3600006103515625 15.84000015258789 C2.520000457763672 14.639999389648438 3.7200002670288086 12.84000015258789 6.480000019073486 12.239999771118164 C7.800000190734863 10.920000076293945 9.720000267028809 10.920000076293945 12.0 11.880000114440918\"></path>\\n<path fill=\"none\" stroke=\"darkviolet\" stroke-width=\".3\" stroke-opacity=\"1.0\"  filling=\"0\" d=\"M12.0 12.0 C14.039999961853027 12.600000381469727 15.600000381469727 14.520000457763672 15.84000015258789 16.559999465942383 C15.84000015258789 17.279998779296875 15.720000267028809 17.760000228881836 15.600000381469727 17.279998779296875\"></path>\\n<path fill=\"none\" stroke=\"royalblue\" stroke-width=\".3\" stroke-opacity=\"1.0\"  filling=\"0\" d=\"M15.479999542236328 17.279998779296875 C15.359999656677246 16.799999237060547 14.520000457763672 15.119999885559082 13.559999465942383 13.680000305175781\"></path>\\n<path fill=\"none\" stroke=\"darkmagenta\" stroke-width=\".3\" stroke-opacity=\"1.0\"  filling=\"0\" d=\"M13.559999465942383 13.4399995803833 L11.760000228881836 11.039999961853027\"></path>\\n<path fill=\"none\" stroke=\"teal\" stroke-width=\".3\" stroke-opacity=\"1.0\"  filling=\"0\" d=\"M11.15999984741211 10.920000076293945 L11.279999732971191 11.039999961853027\"></path></svg>',\n",
       " 'pc_res_str': '<svg xmlns=\"http://www.w3.org/2000/svg\" viewBox=\"0.0 0.0 24.0 24.0\" height=\"200px\" width=\"200px\"><path fill=\"none\" stroke=\"deepskyblue\" stroke-width=\".3\" stroke-opacity=\"1.0\"  filling=\"0\" d=\"M11.520000457763672 5.519999980926514 L11.760000228881836 6.480000019073486\"></path>\\n<path fill=\"none\" stroke=\"lime\" stroke-width=\".3\" stroke-opacity=\"1.0\"  filling=\"0\" d=\"M9.84000015258789 10.800000190734863 L10.199999809265137 11.760000228881836 L11.399999618530273 12.479999542236328 L11.640000343322754 13.199999809265137 L10.440000534057617 14.15999984741211 L9.84000015258789 15.960000038146973 C7.800000190734863 16.559999465942383 6.599999904632568 16.920000076293945 6.960000038146973 17.520000457763672 C5.880000114440918 16.079999923706055 6.240000247955322 15.239999771118164 8.880000114440918 13.920000076293945 L11.039999961853027 10.680000305175781 C7.440000057220459 6.599999904632568 7.800000190734863 6.240000247955322 12.84000015258789 8.760000228881836 C13.199999809265137 7.920000076293945 13.319999694824219 8.039999961853027 13.199999809265137 8.880000114440918 L13.079999923706055 9.600000381469727 L11.760000228881836 9.960000038146973 L11.520000457763672 9.84000015258789 C6.599999904632568 7.079999923706055 6.360000133514404 6.960000038146973 11.399999618530273 8.520000457763672 L12.0 7.440000057220459 L11.880000114440918 7.800000190734863 L11.640000343322754 7.440000057220459\"></path>\\n<path fill=\"none\" stroke=\"deeppink\" stroke-width=\".3\" stroke-opacity=\"1.0\"  filling=\"0\" d=\"M10.319999694824219 9.239999771118164 C9.119999885559082 7.920000076293945 9.0 8.039999961853027 10.920000076293945 9.84000015258789\"></path>\\n<path fill=\"none\" stroke=\"gold\" stroke-width=\".3\" stroke-opacity=\"1.0\"  filling=\"0\" d=\"M14.15999984741211 7.920000076293945 C14.520000457763672 6.480000019073486 14.15999984741211 6.240000247955322 13.4399995803833 8.15999984741211 L12.0 10.440000534057617 L11.520000457763672 9.720000267028809 L10.680000305175781 8.399999618530273 L10.319999694824219 8.279999732971191\"></path>\\n<path fill=\"none\" stroke=\"coral\" stroke-width=\".3\" stroke-opacity=\"1.0\"  filling=\"0\" d=\"M12.479999542236328 11.640000343322754 C12.239999771118164 11.880000114440918 11.640000343322754 11.880000114440918 11.399999618530273 12.0 L10.5600004196167 12.0 C6.240000247955322 7.920000076293945 5.880000114440918 7.920000076293945 8.880000114440918 10.680000305175781 C7.800000190734863 10.319999694824219 8.15999984741211 13.680000305175781 10.5600004196167 15.239999771118164 L10.920000076293945 15.239999771118164 L13.199999809265137 14.880000114440918 L13.559999465942383 12.84000015258789 L8.039999961853027 13.079999923706055 L4.440000057220459 15.960000038146973 L4.800000190734863 15.720000267028809 C4.920000076293945 15.239999771118164 5.880000114440918 14.15999984741211 8.15999984741211 13.079999923706055 L10.199999809265137 11.520000457763672 L10.5600004196167 11.520000457763672 L11.880000114440918 11.640000343322754 L12.479999542236328 11.15999984741211 C11.399999618530273 9.479999542236328 11.399999618530273 9.0 12.720000267028809 9.720000267028809 L12.479999542236328 8.15999984741211 C10.800000190734863 6.0 10.680000305175781 6.360000133514404 12.239999771118164 8.640000343322754 C11.640000343322754 8.880000114440918 11.399999618530273 9.360000610351562 11.880000114440918 10.319999694824219 C8.399999618530273 8.039999961853027 8.279999732971191 7.800000190734863 11.279999732971191 9.84000015258789 L11.399999618530273 9.360000610351562 L11.399999618530273 9.119999885559082 L10.920000076293945 8.520000457763672 L11.279999732971191 8.880000114440918 L11.520000457763672 8.039999961853027\"></path>\\n<path fill=\"none\" stroke=\"darkviolet\" stroke-width=\".3\" stroke-opacity=\"1.0\"  filling=\"0\" d=\"M13.680000305175781 7.920000076293945 C10.079999923706055 3.4800004959106445 9.360000610351562 3.4800004959106445 12.239999771118164 9.360000610351562\"></path>\\n<path fill=\"none\" stroke=\"royalblue\" stroke-width=\".3\" stroke-opacity=\"1.0\"  filling=\"0\" d=\"M10.680000305175781 15.0 C9.239999771118164 15.720000267028809 8.15999984741211 17.279998779296875 8.399999618530273 18.119998931884766 C8.640000343322754 18.719999313354492 8.880000114440918 19.440000534057617 9.239999771118164 20.15999984741211 C10.680000305175781 21.119998931884766 15.84000015258789 18.719999313354492 17.040000915527344 16.31999969482422 C16.799999237060547 14.880000114440918 16.200000762939453 13.800000190734863 15.960000038146973 13.680000305175781 C15.359999656677246 12.720000267028809 14.639999389648438 12.359999656677246 13.680000305175781 12.0 L11.520000457763672 10.920000076293945 C6.720000267028809 7.200000286102295 6.720000267028809 7.079999923706055 11.760000228881836 10.800000190734863 L11.520000457763672 12.239999771118164 L11.520000457763672 12.600000381469727 C9.600000381469727 9.600000381469727 9.360000610351562 9.600000381469727 11.399999618530273 13.4399995803833 L9.84000015258789 15.600000381469727 C8.039999961853027 16.440000534057617 7.440000057220459 17.040000915527344 8.520000457763672 18.0 C7.559999942779541 16.559999465942383 8.399999618530273 14.15999984741211 9.720000267028809 13.319999694824219 L10.5600004196167 11.520000457763672 L10.680000305175781 11.520000457763672 L12.479999542236328 9.84000015258789 L10.800000190734863 12.479999542236328 L11.15999984741211 13.680000305175781 C8.520000457763672 10.5600004196167 9.0 10.5600004196167 12.720000267028809 13.920000076293945 C11.399999618530273 11.520000457763672 11.520000457763672 10.800000190734863 13.920000076293945 11.520000457763672 C9.360000610351562 7.320000171661377 9.119999885559082 6.960000038146973 13.559999465942383 8.279999732971191 C12.239999771118164 5.519999980926514 12.119999885559082 5.28000020980835 13.079999923706055 6.0 L12.84000015258789 5.880000114440918 L13.4399995803833 7.920000076293945 L13.199999809265137 8.279999732971191\"></path>\\n<path fill=\"none\" stroke=\"darkmagenta\" stroke-width=\".3\" stroke-opacity=\"1.0\"  filling=\"0\" d=\"M18.479999542236328 11.039999961853027 L18.479999542236328 12.0 L9.360000610351562 11.760000228881836 L8.520000457763672 10.5600004196167 C7.800000190734863 9.360000610351562 7.680000305175781 9.360000610351562 8.279999732971191 10.319999694824219 C7.800000190734863 9.479999542236328 8.15999984741211 9.720000267028809 9.84000015258789 10.5600004196167 L11.039999961853027 11.15999984741211 L11.520000457763672 12.239999771118164 C8.880000114440918 10.319999694824219 8.880000114440918 10.199999809265137 11.520000457763672 13.199999809265137 L11.039999961853027 12.479999542236328 L10.680000305175781 11.880000114440918 L10.319999694824219 11.760000228881836 L11.279999732971191 11.399999618530273 L11.399999618530273 9.720000267028809 L8.760000228881836 7.920000076293945 L5.760000228881836 8.279999732971191 L5.519999980926514 8.399999618530273\"></path>\\n<path fill=\"none\" stroke=\"teal\" stroke-width=\".3\" stroke-opacity=\"1.0\"  filling=\"0\" d=\"M9.0 2.880000114440918 C9.479999542236328 3.0 10.440000534057617 3.7200002670288086 11.15999984741211 4.800000190734863 C11.039999961853027 5.640000343322754 10.680000305175781 7.680000305175781 10.5600004196167 10.079999923706055 L9.720000267028809 12.119999885559082 C5.760000228881836 9.600000381469727 4.559999942779541 10.199999809265137 4.920000076293945 15.239999771118164 C3.3600006103515625 15.84000015258789 2.880000114440918 16.079999923706055 3.3600006103515625 15.84000015258789 C2.640000343322754 14.760000228881836 3.7200002670288086 13.079999923706055 6.480000019073486 12.119999885559082 C7.920000076293945 10.800000190734863 9.84000015258789 10.680000305175781 12.0 11.760000228881836 C13.920000076293945 12.600000381469727 15.479999542236328 14.399999618530273 15.84000015258789 16.31999969482422 C15.84000015258789 16.799999237060547 15.84000015258789 17.15999984741211 16.079999923706055 17.040000915527344 C16.079999923706055 15.960000038146973 15.119999885559082 12.720000267028809 14.760000228881836 11.880000114440918 L14.520000457763672 11.039999961853027 L13.559999465942383 11.760000228881836 L12.960000038146973 12.119999885559082 C9.119999885559082 8.520000457763672 8.880000114440918 8.520000457763672 11.880000114440918 12.479999542236328 L10.920000076293945 12.720000267028809 L6.0 15.479999542236328 C3.6000003814697266 15.960000038146973 2.880000114440918 16.079999923706055 3.3600006103515625 15.960000038146973 C2.520000457763672 14.639999389648438 3.7200002670288086 12.84000015258789 6.480000019073486 12.239999771118164 C7.800000190734863 10.920000076293945 9.720000267028809 10.920000076293945 12.0 11.880000114440918 C14.039999961853027 12.600000381469727 15.600000381469727 14.520000457763672 15.84000015258789 16.559999465942383 C15.84000015258789 17.279998779296875 15.720000267028809 17.760000228881836 15.600000381469727 17.279998779296875 C15.359999656677246 16.799999237060547 14.520000457763672 15.119999885559082 13.559999465942383 13.680000305175781 L11.760000228881836 11.039999961853027 L11.279999732971191 11.039999961853027\"></path></svg>',\n",
       " 'PI_RES_image': SVG[Bbox(0.0 0.0 24.0 24.0)](\n",
       " \tSVGPathGroup(SVGPath(M[P(11.520000457763672, 5.519999980926514), P(11.279999732971191, 5.519999980926514)] L[P(11.279999732971191, 5.519999980926514), P(11.760000228881836, 6.480000019073486)])),\n",
       " \tSVGPathGroup(SVGPath(M[P(9.84000015258789, 10.800000190734863), P(9.84000015258789, 10.680000305175781)] L[P(9.84000015258789, 10.680000305175781), P(10.199999809265137, 11.760000228881836)])),\n",
       " \tSVGPathGroup(SVGPath(M[P(10.199999809265137, 11.760000228881836), P(10.319999694824219, 11.640000343322754)] L[P(10.319999694824219, 11.640000343322754), P(11.399999618530273, 12.479999542236328)] L[P(11.399999618530273, 12.479999542236328), P(11.640000343322754, 13.199999809265137)])),\n",
       " \tSVGPathGroup(SVGPath(M[P(11.640000343322754, 13.199999809265137), P(11.640000343322754, 13.319999694824219)] L[P(11.640000343322754, 13.319999694824219), P(10.440000534057617, 14.15999984741211)] L[P(10.440000534057617, 14.15999984741211), P(9.84000015258789, 15.960000038146973)])),\n",
       " \tSVGPathGroup(SVGPath(M[P(9.84000015258789, 15.960000038146973), P(9.720000267028809, 15.960000038146973)] C[P(9.720000267028809, 15.960000038146973), P(7.800000190734863, 16.559999465942383), P(6.599999904632568, 16.920000076293945), P(6.960000038146973, 17.520000457763672)] C[P(6.960000038146973, 17.520000457763672), P(5.880000114440918, 16.079999923706055), P(6.240000247955322, 15.239999771118164), P(8.880000114440918, 13.920000076293945)] L[P(8.880000114440918, 13.920000076293945), P(11.039999961853027, 10.680000305175781)] C[P(11.039999961853027, 10.680000305175781), P(7.440000057220459, 6.599999904632568), P(7.800000190734863, 6.240000247955322), P(12.84000015258789, 8.760000228881836)] C[P(12.84000015258789, 8.760000228881836), P(13.199999809265137, 7.920000076293945), P(13.319999694824219, 8.039999961853027), P(13.199999809265137, 8.880000114440918)] L[P(13.199999809265137, 8.880000114440918), P(13.079999923706055, 9.600000381469727)] L[P(13.079999923706055, 9.600000381469727), P(11.760000228881836, 9.960000038146973)] L[P(11.760000228881836, 9.960000038146973), P(11.520000457763672, 9.84000015258789)] C[P(11.520000457763672, 9.84000015258789), P(6.599999904632568, 7.079999923706055), P(6.360000133514404, 6.960000038146973), P(11.399999618530273, 8.520000457763672)] L[P(11.399999618530273, 8.520000457763672), P(12.0, 7.440000057220459)])),\n",
       " \tSVGPathGroup(SVGPath(M[P(12.0, 7.440000057220459), P(12.0, 7.559999942779541)] L[P(12.0, 7.559999942779541), P(11.880000114440918, 7.800000190734863)])),\n",
       " \tSVGPathGroup(SVGPath(M[P(11.880000114440918, 7.800000190734863), P(11.880000114440918, 7.680000305175781)] L[P(11.880000114440918, 7.680000305175781), P(11.640000343322754, 7.440000057220459)])),\n",
       " \tSVGPathGroup(SVGPath(M[P(10.319999694824219, 9.239999771118164), P(10.319999694824219, 9.119999885559082)] C[P(10.319999694824219, 9.119999885559082), P(9.119999885559082, 7.920000076293945), P(9.0, 8.039999961853027), P(10.920000076293945, 9.84000015258789)])),\n",
       " \tSVGPathGroup(SVGPath(M[P(14.15999984741211, 7.920000076293945), P(14.279999732971191, 7.800000190734863)] C[P(14.279999732971191, 7.800000190734863), P(14.520000457763672, 6.480000019073486), P(14.15999984741211, 6.240000247955322), P(13.4399995803833, 8.15999984741211)])),\n",
       " \tSVGPathGroup(SVGPath(M[P(13.4399995803833, 8.15999984741211), P(13.559999465942383, 8.15999984741211)] L[P(13.559999465942383, 8.15999984741211), P(12.0, 10.440000534057617)] L[P(12.0, 10.440000534057617), P(11.520000457763672, 9.720000267028809)])),\n",
       " \tSVGPathGroup(SVGPath(M[P(11.520000457763672, 9.720000267028809), P(11.520000457763672, 9.84000015258789)] L[P(11.520000457763672, 9.84000015258789), P(10.680000305175781, 8.399999618530273)] L[P(10.680000305175781, 8.399999618530273), P(10.319999694824219, 8.279999732971191)])),\n",
       " \tSVGPathGroup(SVGPath(M[P(12.479999542236328, 11.640000343322754), P(12.479999542236328, 11.520000457763672)] C[P(12.479999542236328, 11.520000457763672), P(12.239999771118164, 11.880000114440918), P(11.640000343322754, 11.880000114440918), P(11.399999618530273, 12.0)])),\n",
       " \tSVGPathGroup(SVGPath(M[P(11.399999618530273, 12.0), P(11.399999618530273, 11.760000228881836)] L[P(11.399999618530273, 11.760000228881836), P(10.5600004196167, 12.0)])),\n",
       " \tSVGPathGroup(SVGPath(M[P(10.5600004196167, 12.0), P(10.680000305175781, 12.0)] C[P(10.680000305175781, 12.0), P(6.240000247955322, 7.920000076293945), P(5.880000114440918, 7.920000076293945), P(8.880000114440918, 10.680000305175781)])),\n",
       " \tSVGPathGroup(SVGPath(M[P(8.880000114440918, 10.680000305175781), P(8.760000228881836, 10.920000076293945)] C[P(8.760000228881836, 10.920000076293945), P(7.800000190734863, 10.319999694824219), P(8.15999984741211, 13.680000305175781), P(10.5600004196167, 15.239999771118164)])),\n",
       " \tSVGPathGroup(SVGPath(M[P(10.5600004196167, 15.239999771118164), P(10.5600004196167, 15.119999885559082)] L[P(10.5600004196167, 15.119999885559082), P(10.920000076293945, 15.239999771118164)])),\n",
       " \tSVGPathGroup(SVGPath(M[P(10.920000076293945, 15.239999771118164), P(10.920000076293945, 15.119999885559082)] L[P(10.920000076293945, 15.119999885559082), P(13.199999809265137, 14.880000114440918)] L[P(13.199999809265137, 14.880000114440918), P(13.559999465942383, 12.84000015258789)] L[P(13.559999465942383, 12.84000015258789), P(8.039999961853027, 13.079999923706055)] L[P(8.039999961853027, 13.079999923706055), P(4.440000057220459, 15.960000038146973)] L[P(4.440000057220459, 15.960000038146973), P(4.800000190734863, 15.720000267028809)] C[P(4.800000190734863, 15.720000267028809), P(4.920000076293945, 15.239999771118164), P(5.880000114440918, 14.15999984741211), P(8.15999984741211, 13.079999923706055)])),\n",
       " \tSVGPathGroup(SVGPath(M[P(8.15999984741211, 13.079999923706055), P(8.15999984741211, 12.960000038146973)] L[P(8.15999984741211, 12.960000038146973), P(10.199999809265137, 11.520000457763672)] L[P(10.199999809265137, 11.520000457763672), P(10.5600004196167, 11.520000457763672)])),\n",
       " \tSVGPathGroup(SVGPath(M[P(10.5600004196167, 11.520000457763672), P(10.440000534057617, 11.520000457763672)] L[P(10.440000534057617, 11.520000457763672), P(11.880000114440918, 11.640000343322754)])),\n",
       " \tSVGPathGroup(SVGPath(M[P(11.880000114440918, 11.640000343322754), P(11.880000114440918, 11.520000457763672)] L[P(11.880000114440918, 11.520000457763672), P(12.479999542236328, 11.15999984741211)])),\n",
       " \tSVGPathGroup(SVGPath(M[P(12.479999542236328, 11.15999984741211), P(12.359999656677246, 11.15999984741211)] C[P(12.359999656677246, 11.15999984741211), P(11.399999618530273, 9.479999542236328), P(11.399999618530273, 9.0), P(12.720000267028809, 9.720000267028809)] L[P(12.720000267028809, 9.720000267028809), P(12.479999542236328, 8.15999984741211)] C[P(12.479999542236328, 8.15999984741211), P(10.800000190734863, 6.0), P(10.680000305175781, 6.360000133514404), P(12.239999771118164, 8.640000343322754)])),\n",
       " \tSVGPathGroup(SVGPath(M[P(12.239999771118164, 8.640000343322754), P(12.119999885559082, 8.640000343322754)] C[P(12.119999885559082, 8.640000343322754), P(11.640000343322754, 8.880000114440918), P(11.399999618530273, 9.360000610351562), P(11.880000114440918, 10.319999694824219)] C[P(11.880000114440918, 10.319999694824219), P(8.399999618530273, 8.039999961853027), P(8.279999732971191, 7.800000190734863), P(11.279999732971191, 9.84000015258789)] L[P(11.279999732971191, 9.84000015258789), P(11.399999618530273, 9.360000610351562)])),\n",
       " \tSVGPathGroup(SVGPath(M[P(11.399999618530273, 9.360000610351562), P(11.520000457763672, 9.479999542236328)] L[P(11.520000457763672, 9.479999542236328), P(11.399999618530273, 9.119999885559082)] L[P(11.399999618530273, 9.119999885559082), P(10.920000076293945, 8.520000457763672)])),\n",
       " \tSVGPathGroup(SVGPath(M[P(10.920000076293945, 8.520000457763672), P(10.800000190734863, 8.640000343322754)] L[P(10.800000190734863, 8.640000343322754), P(11.279999732971191, 8.880000114440918)])),\n",
       " \tSVGPathGroup(SVGPath(M[P(11.279999732971191, 8.880000114440918), P(11.279999732971191, 8.760000228881836)] L[P(11.279999732971191, 8.760000228881836), P(11.520000457763672, 8.039999961853027)])),\n",
       " \tSVGPathGroup(SVGPath(M[P(13.680000305175781, 7.920000076293945), P(13.680000305175781, 7.800000190734863)] C[P(13.680000305175781, 7.800000190734863), P(10.079999923706055, 3.4800004959106445), P(9.360000610351562, 3.4800004959106445), P(12.239999771118164, 9.360000610351562)])),\n",
       " \tSVGPathGroup(SVGPath(M[P(10.680000305175781, 15.0), P(10.680000305175781, 14.880000114440918)] C[P(10.680000305175781, 14.880000114440918), P(9.239999771118164, 15.720000267028809), P(8.15999984741211, 17.279998779296875), P(8.399999618530273, 18.119998931884766)])),\n",
       " \tSVGPathGroup(SVGPath(M[P(8.399999618530273, 18.119998931884766), P(8.279999732971191, 18.0)] C[P(8.279999732971191, 18.0), P(8.640000343322754, 18.719999313354492), P(8.880000114440918, 19.440000534057617), P(9.239999771118164, 20.15999984741211)] C[P(9.239999771118164, 20.15999984741211), P(10.680000305175781, 21.119998931884766), P(15.84000015258789, 18.719999313354492), P(17.040000915527344, 16.31999969482422)])),\n",
       " \tSVGPathGroup(SVGPath(M[P(17.040000915527344, 16.31999969482422), P(17.040000915527344, 16.200000762939453)] C[P(17.040000915527344, 16.200000762939453), P(16.799999237060547, 14.880000114440918), P(16.200000762939453, 13.800000190734863), P(15.960000038146973, 13.680000305175781)] C[P(15.960000038146973, 13.680000305175781), P(15.359999656677246, 12.720000267028809), P(14.639999389648438, 12.359999656677246), P(13.680000305175781, 12.0)])),\n",
       " \tSVGPathGroup(SVGPath(M[P(13.680000305175781, 12.0), P(13.800000190734863, 11.880000114440918)] L[P(13.800000190734863, 11.880000114440918), P(11.520000457763672, 10.920000076293945)] C[P(11.520000457763672, 10.920000076293945), P(6.720000267028809, 7.200000286102295), P(6.720000267028809, 7.079999923706055), P(11.760000228881836, 10.800000190734863)])),\n",
       " \tSVGPathGroup(SVGPath(M[P(11.760000228881836, 10.800000190734863), P(11.880000114440918, 10.920000076293945)] L[P(11.880000114440918, 10.920000076293945), P(11.520000457763672, 12.239999771118164)])),\n",
       " \tSVGPathGroup(SVGPath(M[P(11.520000457763672, 12.239999771118164), P(11.520000457763672, 12.359999656677246)] L[P(11.520000457763672, 12.359999656677246), P(11.520000457763672, 12.600000381469727)])),\n",
       " \tSVGPathGroup(SVGPath(M[P(11.520000457763672, 12.600000381469727), P(11.520000457763672, 12.720000267028809)] C[P(11.520000457763672, 12.720000267028809), P(9.600000381469727, 9.600000381469727), P(9.360000610351562, 9.600000381469727), P(11.399999618530273, 13.4399995803833)] L[P(11.399999618530273, 13.4399995803833), P(9.84000015258789, 15.600000381469727)])),\n",
       " \tSVGPathGroup(SVGPath(M[P(9.84000015258789, 15.600000381469727), P(9.720000267028809, 15.720000267028809)] C[P(9.720000267028809, 15.720000267028809), P(8.039999961853027, 16.440000534057617), P(7.440000057220459, 17.040000915527344), P(8.520000457763672, 18.0)])),\n",
       " \tSVGPathGroup(SVGPath(M[P(8.520000457763672, 18.0), P(8.399999618530273, 17.8799991607666)] C[P(8.399999618530273, 17.8799991607666), P(7.559999942779541, 16.559999465942383), P(8.399999618530273, 14.15999984741211), P(9.720000267028809, 13.319999694824219)])),\n",
       " \tSVGPathGroup(SVGPath(M[P(9.720000267028809, 13.319999694824219), P(9.720000267028809, 13.199999809265137)] L[P(9.720000267028809, 13.199999809265137), P(10.5600004196167, 11.520000457763672)])),\n",
       " \tSVGPathGroup(SVGPath(M[P(10.5600004196167, 11.520000457763672), P(10.5600004196167, 11.399999618530273)] L[P(10.5600004196167, 11.399999618530273), P(10.680000305175781, 11.520000457763672)])),\n",
       " \tSVGPathGroup(SVGPath(M[P(10.680000305175781, 11.520000457763672), P(10.800000190734863, 11.399999618530273)] L[P(10.800000190734863, 11.399999618530273), P(12.479999542236328, 9.84000015258789)] L[P(12.479999542236328, 9.84000015258789), P(10.800000190734863, 12.479999542236328)] L[P(10.800000190734863, 12.479999542236328), P(11.15999984741211, 13.680000305175781)] C[P(11.15999984741211, 13.680000305175781), P(8.520000457763672, 10.5600004196167), P(9.0, 10.5600004196167), P(12.720000267028809, 13.920000076293945)] C[P(12.720000267028809, 13.920000076293945), P(11.399999618530273, 11.520000457763672), P(11.520000457763672, 10.800000190734863), P(13.920000076293945, 11.520000457763672)] C[P(13.920000076293945, 11.520000457763672), P(9.360000610351562, 7.320000171661377), P(9.119999885559082, 6.960000038146973), P(13.559999465942383, 8.279999732971191)])),\n",
       " \tSVGPathGroup(SVGPath(M[P(13.559999465942383, 8.279999732971191), P(13.559999465942383, 8.399999618530273)] C[P(13.559999465942383, 8.399999618530273), P(12.239999771118164, 5.519999980926514), P(12.119999885559082, 5.28000020980835), P(13.079999923706055, 6.0)] L[P(13.079999923706055, 6.0), P(12.84000015258789, 5.880000114440918)])),\n",
       " \tSVGPathGroup(SVGPath(M[P(12.84000015258789, 5.880000114440918), P(12.720000267028809, 5.760000228881836)] L[P(12.720000267028809, 5.760000228881836), P(13.4399995803833, 7.920000076293945)] L[P(13.4399995803833, 7.920000076293945), P(13.199999809265137, 8.279999732971191)])),\n",
       " \tSVGPathGroup(SVGPath(M[P(18.479999542236328, 11.039999961853027), P(18.479999542236328, 10.920000076293945)] L[P(18.479999542236328, 10.920000076293945), P(18.479999542236328, 12.0)] L[P(18.479999542236328, 12.0), P(9.360000610351562, 11.760000228881836)] L[P(9.360000610351562, 11.760000228881836), P(8.520000457763672, 10.5600004196167)] C[P(8.520000457763672, 10.5600004196167), P(7.800000190734863, 9.360000610351562), P(7.680000305175781, 9.360000610351562), P(8.279999732971191, 10.319999694824219)] C[P(8.279999732971191, 10.319999694824219), P(7.800000190734863, 9.479999542236328), P(8.15999984741211, 9.720000267028809), P(9.84000015258789, 10.5600004196167)] L[P(9.84000015258789, 10.5600004196167), P(11.039999961853027, 11.15999984741211)])),\n",
       " \tSVGPathGroup(SVGPath(M[P(11.039999961853027, 11.15999984741211), P(11.039999961853027, 11.039999961853027)] L[P(11.039999961853027, 11.039999961853027), P(11.520000457763672, 12.239999771118164)])),\n",
       " \tSVGPathGroup(SVGPath(M[P(11.520000457763672, 12.239999771118164), P(11.640000343322754, 12.479999542236328)] C[P(11.640000343322754, 12.479999542236328), P(8.880000114440918, 10.319999694824219), P(8.880000114440918, 10.199999809265137), P(11.520000457763672, 13.199999809265137)] L[P(11.520000457763672, 13.199999809265137), P(11.039999961853027, 12.479999542236328)] L[P(11.039999961853027, 12.479999542236328), P(10.680000305175781, 11.880000114440918)] L[P(10.680000305175781, 11.880000114440918), P(10.319999694824219, 11.760000228881836)] L[P(10.319999694824219, 11.760000228881836), P(11.279999732971191, 11.399999618530273)])),\n",
       " \tSVGPathGroup(SVGPath(M[P(11.279999732971191, 11.399999618530273), P(11.279999732971191, 11.279999732971191)] L[P(11.279999732971191, 11.279999732971191), P(11.399999618530273, 9.720000267028809)])),\n",
       " \tSVGPathGroup(SVGPath(M[P(11.399999618530273, 9.720000267028809), P(11.279999732971191, 9.720000267028809)] L[P(11.279999732971191, 9.720000267028809), P(8.760000228881836, 7.920000076293945)])),\n",
       " \tSVGPathGroup(SVGPath(M[P(8.760000228881836, 7.920000076293945), P(8.760000228881836, 7.800000190734863)] L[P(8.760000228881836, 7.800000190734863), P(5.760000228881836, 8.279999732971191)])),\n",
       " \tSVGPathGroup(SVGPath(M[P(5.760000228881836, 8.279999732971191), P(5.760000228881836, 8.399999618530273)] L[P(5.760000228881836, 8.399999618530273), P(5.519999980926514, 8.399999618530273)])),\n",
       " \tSVGPathGroup(SVGPath(M[P(5.519999980926514, 8.399999618530273), P(9.0, 2.880000114440918)] C[P(9.0, 2.880000114440918), P(9.479999542236328, 3.0), P(10.440000534057617, 3.7200002670288086), P(11.15999984741211, 4.800000190734863)])),\n",
       " \tSVGPathGroup(SVGPath(M[P(11.15999984741211, 4.800000190734863), P(11.15999984741211, 4.920000076293945)] C[P(11.15999984741211, 4.920000076293945), P(11.039999961853027, 5.640000343322754), P(10.680000305175781, 7.680000305175781), P(10.5600004196167, 10.079999923706055)] L[P(10.5600004196167, 10.079999923706055), P(9.720000267028809, 12.119999885559082)] C[P(9.720000267028809, 12.119999885559082), P(5.760000228881836, 9.600000381469727), P(4.559999942779541, 10.199999809265137), P(4.920000076293945, 15.239999771118164)])),\n",
       " \tSVGPathGroup(SVGPath(M[P(4.920000076293945, 15.239999771118164), P(5.039999961853027, 15.239999771118164)] C[P(5.039999961853027, 15.239999771118164), P(3.3600006103515625, 15.84000015258789), P(2.880000114440918, 16.079999923706055), P(3.3600006103515625, 15.84000015258789)])),\n",
       " \tSVGPathGroup(SVGPath(M[P(3.3600006103515625, 15.84000015258789), P(3.3600006103515625, 15.720000267028809)] C[P(3.3600006103515625, 15.720000267028809), P(2.640000343322754, 14.760000228881836), P(3.7200002670288086, 13.079999923706055), P(6.480000019073486, 12.119999885559082)] C[P(6.480000019073486, 12.119999885559082), P(7.920000076293945, 10.800000190734863), P(9.84000015258789, 10.680000305175781), P(12.0, 11.760000228881836)] C[P(12.0, 11.760000228881836), P(13.920000076293945, 12.600000381469727), P(15.479999542236328, 14.399999618530273), P(15.84000015258789, 16.31999969482422)])),\n",
       " \tSVGPathGroup(SVGPath(M[P(15.84000015258789, 16.31999969482422), P(15.720000267028809, 16.31999969482422)] C[P(15.720000267028809, 16.31999969482422), P(15.84000015258789, 16.799999237060547), P(15.84000015258789, 17.15999984741211), P(16.079999923706055, 17.040000915527344)] C[P(16.079999923706055, 17.040000915527344), P(16.079999923706055, 15.960000038146973), P(15.119999885559082, 12.720000267028809), P(14.760000228881836, 11.880000114440918)])),\n",
       " \tSVGPathGroup(SVGPath(M[P(14.760000228881836, 11.880000114440918), P(14.880000114440918, 12.0)] L[P(14.880000114440918, 12.0), P(14.520000457763672, 11.039999961853027)] L[P(14.520000457763672, 11.039999961853027), P(13.559999465942383, 11.760000228881836)])),\n",
       " \tSVGPathGroup(SVGPath(M[P(13.559999465942383, 11.760000228881836), P(13.680000305175781, 11.760000228881836)] L[P(13.680000305175781, 11.760000228881836), P(12.960000038146973, 12.119999885559082)] C[P(12.960000038146973, 12.119999885559082), P(9.119999885559082, 8.520000457763672), P(8.880000114440918, 8.520000457763672), P(11.880000114440918, 12.479999542236328)])),\n",
       " \tSVGPathGroup(SVGPath(M[P(11.880000114440918, 12.479999542236328), P(11.760000228881836, 12.359999656677246)] L[P(11.760000228881836, 12.359999656677246), P(10.920000076293945, 12.720000267028809)] L[P(10.920000076293945, 12.720000267028809), P(6.0, 15.479999542236328)] C[P(6.0, 15.479999542236328), P(3.6000003814697266, 15.960000038146973), P(2.880000114440918, 16.079999923706055), P(3.3600006103515625, 15.960000038146973)])),\n",
       " \tSVGPathGroup(SVGPath(M[P(3.3600006103515625, 15.960000038146973), P(3.3600006103515625, 15.84000015258789)] C[P(3.3600006103515625, 15.84000015258789), P(2.520000457763672, 14.639999389648438), P(3.7200002670288086, 12.84000015258789), P(6.480000019073486, 12.239999771118164)] C[P(6.480000019073486, 12.239999771118164), P(7.800000190734863, 10.920000076293945), P(9.720000267028809, 10.920000076293945), P(12.0, 11.880000114440918)])),\n",
       " \tSVGPathGroup(SVGPath(M[P(12.0, 11.880000114440918), P(12.0, 12.0)] C[P(12.0, 12.0), P(14.039999961853027, 12.600000381469727), P(15.600000381469727, 14.520000457763672), P(15.84000015258789, 16.559999465942383)] C[P(15.84000015258789, 16.559999465942383), P(15.84000015258789, 17.279998779296875), P(15.720000267028809, 17.760000228881836), P(15.600000381469727, 17.279998779296875)])),\n",
       " \tSVGPathGroup(SVGPath(M[P(15.600000381469727, 17.279998779296875), P(15.479999542236328, 17.279998779296875)] C[P(15.479999542236328, 17.279998779296875), P(15.359999656677246, 16.799999237060547), P(14.520000457763672, 15.119999885559082), P(13.559999465942383, 13.680000305175781)])),\n",
       " \tSVGPathGroup(SVGPath(M[P(13.559999465942383, 13.680000305175781), P(13.559999465942383, 13.4399995803833)] L[P(13.559999465942383, 13.4399995803833), P(11.760000228881836, 11.039999961853027)])),\n",
       " \tSVGPathGroup(SVGPath(M[P(11.760000228881836, 11.039999961853027), P(11.15999984741211, 10.920000076293945)] L[P(11.15999984741211, 10.920000076293945), P(11.279999732971191, 11.039999961853027)]))\n",
       " ),\n",
       " 'PC_RES_image': SVG[Bbox(0.0 0.0 24.0 24.0)](\n",
       " \tSVGPathGroup(SVGPath(M[P(0.0, 0.0), P(11.520000457763672, 5.519999980926514)] L[P(11.520000457763672, 5.519999980926514), P(11.760000228881836, 6.480000019073486)])),\n",
       " \tSVGPathGroup(SVGPath(M[P(11.760000228881836, 6.480000019073486), P(9.84000015258789, 10.800000190734863)] L[P(9.84000015258789, 10.800000190734863), P(10.199999809265137, 11.760000228881836)] L[P(10.199999809265137, 11.760000228881836), P(11.399999618530273, 12.479999542236328)] L[P(11.399999618530273, 12.479999542236328), P(11.640000343322754, 13.199999809265137)] L[P(11.640000343322754, 13.199999809265137), P(10.440000534057617, 14.15999984741211)] L[P(10.440000534057617, 14.15999984741211), P(9.84000015258789, 15.960000038146973)] C[P(9.84000015258789, 15.960000038146973), P(7.800000190734863, 16.559999465942383), P(6.599999904632568, 16.920000076293945), P(6.960000038146973, 17.520000457763672)] C[P(6.960000038146973, 17.520000457763672), P(5.880000114440918, 16.079999923706055), P(6.240000247955322, 15.239999771118164), P(8.880000114440918, 13.920000076293945)] L[P(8.880000114440918, 13.920000076293945), P(11.039999961853027, 10.680000305175781)] C[P(11.039999961853027, 10.680000305175781), P(7.440000057220459, 6.599999904632568), P(7.800000190734863, 6.240000247955322), P(12.84000015258789, 8.760000228881836)] C[P(12.84000015258789, 8.760000228881836), P(13.199999809265137, 7.920000076293945), P(13.319999694824219, 8.039999961853027), P(13.199999809265137, 8.880000114440918)] L[P(13.199999809265137, 8.880000114440918), P(13.079999923706055, 9.600000381469727)] L[P(13.079999923706055, 9.600000381469727), P(11.760000228881836, 9.960000038146973)] L[P(11.760000228881836, 9.960000038146973), P(11.520000457763672, 9.84000015258789)] C[P(11.520000457763672, 9.84000015258789), P(6.599999904632568, 7.079999923706055), P(6.360000133514404, 6.960000038146973), P(11.399999618530273, 8.520000457763672)] L[P(11.399999618530273, 8.520000457763672), P(12.0, 7.440000057220459)] L[P(12.0, 7.440000057220459), P(11.880000114440918, 7.800000190734863)] L[P(11.880000114440918, 7.800000190734863), P(11.640000343322754, 7.440000057220459)])),\n",
       " \tSVGPathGroup(SVGPath(M[P(11.640000343322754, 7.440000057220459), P(10.319999694824219, 9.239999771118164)] C[P(10.319999694824219, 9.239999771118164), P(9.119999885559082, 7.920000076293945), P(9.0, 8.039999961853027), P(10.920000076293945, 9.84000015258789)])),\n",
       " \tSVGPathGroup(SVGPath(M[P(10.920000076293945, 9.84000015258789), P(14.15999984741211, 7.920000076293945)] C[P(14.15999984741211, 7.920000076293945), P(14.520000457763672, 6.480000019073486), P(14.15999984741211, 6.240000247955322), P(13.4399995803833, 8.15999984741211)] L[P(13.4399995803833, 8.15999984741211), P(12.0, 10.440000534057617)] L[P(12.0, 10.440000534057617), P(11.520000457763672, 9.720000267028809)] L[P(11.520000457763672, 9.720000267028809), P(10.680000305175781, 8.399999618530273)] L[P(10.680000305175781, 8.399999618530273), P(10.319999694824219, 8.279999732971191)])),\n",
       " \tSVGPathGroup(SVGPath(M[P(10.319999694824219, 8.279999732971191), P(12.479999542236328, 11.640000343322754)] C[P(12.479999542236328, 11.640000343322754), P(12.239999771118164, 11.880000114440918), P(11.640000343322754, 11.880000114440918), P(11.399999618530273, 12.0)] L[P(11.399999618530273, 12.0), P(10.5600004196167, 12.0)] C[P(10.5600004196167, 12.0), P(6.240000247955322, 7.920000076293945), P(5.880000114440918, 7.920000076293945), P(8.880000114440918, 10.680000305175781)] C[P(8.880000114440918, 10.680000305175781), P(7.800000190734863, 10.319999694824219), P(8.15999984741211, 13.680000305175781), P(10.5600004196167, 15.239999771118164)] L[P(10.5600004196167, 15.239999771118164), P(10.920000076293945, 15.239999771118164)] L[P(10.920000076293945, 15.239999771118164), P(13.199999809265137, 14.880000114440918)] L[P(13.199999809265137, 14.880000114440918), P(13.559999465942383, 12.84000015258789)] L[P(13.559999465942383, 12.84000015258789), P(8.039999961853027, 13.079999923706055)] L[P(8.039999961853027, 13.079999923706055), P(4.440000057220459, 15.960000038146973)] L[P(4.440000057220459, 15.960000038146973), P(4.800000190734863, 15.720000267028809)] C[P(4.800000190734863, 15.720000267028809), P(4.920000076293945, 15.239999771118164), P(5.880000114440918, 14.15999984741211), P(8.15999984741211, 13.079999923706055)] L[P(8.15999984741211, 13.079999923706055), P(10.199999809265137, 11.520000457763672)] L[P(10.199999809265137, 11.520000457763672), P(10.5600004196167, 11.520000457763672)] L[P(10.5600004196167, 11.520000457763672), P(11.880000114440918, 11.640000343322754)] L[P(11.880000114440918, 11.640000343322754), P(12.479999542236328, 11.15999984741211)] C[P(12.479999542236328, 11.15999984741211), P(11.399999618530273, 9.479999542236328), P(11.399999618530273, 9.0), P(12.720000267028809, 9.720000267028809)] L[P(12.720000267028809, 9.720000267028809), P(12.479999542236328, 8.15999984741211)] C[P(12.479999542236328, 8.15999984741211), P(10.800000190734863, 6.0), P(10.680000305175781, 6.360000133514404), P(12.239999771118164, 8.640000343322754)] C[P(12.239999771118164, 8.640000343322754), P(11.640000343322754, 8.880000114440918), P(11.399999618530273, 9.360000610351562), P(11.880000114440918, 10.319999694824219)] C[P(11.880000114440918, 10.319999694824219), P(8.399999618530273, 8.039999961853027), P(8.279999732971191, 7.800000190734863), P(11.279999732971191, 9.84000015258789)] L[P(11.279999732971191, 9.84000015258789), P(11.399999618530273, 9.360000610351562)] L[P(11.399999618530273, 9.360000610351562), P(11.399999618530273, 9.119999885559082)] L[P(11.399999618530273, 9.119999885559082), P(10.920000076293945, 8.520000457763672)] L[P(10.920000076293945, 8.520000457763672), P(11.279999732971191, 8.880000114440918)] L[P(11.279999732971191, 8.880000114440918), P(11.520000457763672, 8.039999961853027)])),\n",
       " \tSVGPathGroup(SVGPath(M[P(11.520000457763672, 8.039999961853027), P(13.680000305175781, 7.920000076293945)] C[P(13.680000305175781, 7.920000076293945), P(10.079999923706055, 3.4800004959106445), P(9.360000610351562, 3.4800004959106445), P(12.239999771118164, 9.360000610351562)])),\n",
       " \tSVGPathGroup(SVGPath(M[P(12.239999771118164, 9.360000610351562), P(10.680000305175781, 15.0)] C[P(10.680000305175781, 15.0), P(9.239999771118164, 15.720000267028809), P(8.15999984741211, 17.279998779296875), P(8.399999618530273, 18.119998931884766)] C[P(8.399999618530273, 18.119998931884766), P(8.640000343322754, 18.719999313354492), P(8.880000114440918, 19.440000534057617), P(9.239999771118164, 20.15999984741211)] C[P(9.239999771118164, 20.15999984741211), P(10.680000305175781, 21.119998931884766), P(15.84000015258789, 18.719999313354492), P(17.040000915527344, 16.31999969482422)] C[P(17.040000915527344, 16.31999969482422), P(16.799999237060547, 14.880000114440918), P(16.200000762939453, 13.800000190734863), P(15.960000038146973, 13.680000305175781)] C[P(15.960000038146973, 13.680000305175781), P(15.359999656677246, 12.720000267028809), P(14.639999389648438, 12.359999656677246), P(13.680000305175781, 12.0)] L[P(13.680000305175781, 12.0), P(11.520000457763672, 10.920000076293945)] C[P(11.520000457763672, 10.920000076293945), P(6.720000267028809, 7.200000286102295), P(6.720000267028809, 7.079999923706055), P(11.760000228881836, 10.800000190734863)] L[P(11.760000228881836, 10.800000190734863), P(11.520000457763672, 12.239999771118164)] L[P(11.520000457763672, 12.239999771118164), P(11.520000457763672, 12.600000381469727)] C[P(11.520000457763672, 12.600000381469727), P(9.600000381469727, 9.600000381469727), P(9.360000610351562, 9.600000381469727), P(11.399999618530273, 13.4399995803833)] L[P(11.399999618530273, 13.4399995803833), P(9.84000015258789, 15.600000381469727)] C[P(9.84000015258789, 15.600000381469727), P(8.039999961853027, 16.440000534057617), P(7.440000057220459, 17.040000915527344), P(8.520000457763672, 18.0)] C[P(8.520000457763672, 18.0), P(7.559999942779541, 16.559999465942383), P(8.399999618530273, 14.15999984741211), P(9.720000267028809, 13.319999694824219)] L[P(9.720000267028809, 13.319999694824219), P(10.5600004196167, 11.520000457763672)] L[P(10.5600004196167, 11.520000457763672), P(10.680000305175781, 11.520000457763672)] L[P(10.680000305175781, 11.520000457763672), P(12.479999542236328, 9.84000015258789)] L[P(12.479999542236328, 9.84000015258789), P(10.800000190734863, 12.479999542236328)] L[P(10.800000190734863, 12.479999542236328), P(11.15999984741211, 13.680000305175781)] C[P(11.15999984741211, 13.680000305175781), P(8.520000457763672, 10.5600004196167), P(9.0, 10.5600004196167), P(12.720000267028809, 13.920000076293945)] C[P(12.720000267028809, 13.920000076293945), P(11.399999618530273, 11.520000457763672), P(11.520000457763672, 10.800000190734863), P(13.920000076293945, 11.520000457763672)] C[P(13.920000076293945, 11.520000457763672), P(9.360000610351562, 7.320000171661377), P(9.119999885559082, 6.960000038146973), P(13.559999465942383, 8.279999732971191)] C[P(13.559999465942383, 8.279999732971191), P(12.239999771118164, 5.519999980926514), P(12.119999885559082, 5.28000020980835), P(13.079999923706055, 6.0)] L[P(13.079999923706055, 6.0), P(12.84000015258789, 5.880000114440918)] L[P(12.84000015258789, 5.880000114440918), P(13.4399995803833, 7.920000076293945)] L[P(13.4399995803833, 7.920000076293945), P(13.199999809265137, 8.279999732971191)])),\n",
       " \tSVGPathGroup(SVGPath(M[P(13.199999809265137, 8.279999732971191), P(18.479999542236328, 11.039999961853027)] L[P(18.479999542236328, 11.039999961853027), P(18.479999542236328, 12.0)] L[P(18.479999542236328, 12.0), P(9.360000610351562, 11.760000228881836)] L[P(9.360000610351562, 11.760000228881836), P(8.520000457763672, 10.5600004196167)] C[P(8.520000457763672, 10.5600004196167), P(7.800000190734863, 9.360000610351562), P(7.680000305175781, 9.360000610351562), P(8.279999732971191, 10.319999694824219)] C[P(8.279999732971191, 10.319999694824219), P(7.800000190734863, 9.479999542236328), P(8.15999984741211, 9.720000267028809), P(9.84000015258789, 10.5600004196167)] L[P(9.84000015258789, 10.5600004196167), P(11.039999961853027, 11.15999984741211)] L[P(11.039999961853027, 11.15999984741211), P(11.520000457763672, 12.239999771118164)] C[P(11.520000457763672, 12.239999771118164), P(8.880000114440918, 10.319999694824219), P(8.880000114440918, 10.199999809265137), P(11.520000457763672, 13.199999809265137)] L[P(11.520000457763672, 13.199999809265137), P(11.039999961853027, 12.479999542236328)] L[P(11.039999961853027, 12.479999542236328), P(10.680000305175781, 11.880000114440918)] L[P(10.680000305175781, 11.880000114440918), P(10.319999694824219, 11.760000228881836)] L[P(10.319999694824219, 11.760000228881836), P(11.279999732971191, 11.399999618530273)] L[P(11.279999732971191, 11.399999618530273), P(11.399999618530273, 9.720000267028809)] L[P(11.399999618530273, 9.720000267028809), P(8.760000228881836, 7.920000076293945)] L[P(8.760000228881836, 7.920000076293945), P(5.760000228881836, 8.279999732971191)] L[P(5.760000228881836, 8.279999732971191), P(5.519999980926514, 8.399999618530273)])),\n",
       " \tSVGPathGroup(SVGPath(M[P(5.519999980926514, 8.399999618530273), P(9.0, 2.880000114440918)] C[P(9.0, 2.880000114440918), P(9.479999542236328, 3.0), P(10.440000534057617, 3.7200002670288086), P(11.15999984741211, 4.800000190734863)] C[P(11.15999984741211, 4.800000190734863), P(11.039999961853027, 5.640000343322754), P(10.680000305175781, 7.680000305175781), P(10.5600004196167, 10.079999923706055)] L[P(10.5600004196167, 10.079999923706055), P(9.720000267028809, 12.119999885559082)] C[P(9.720000267028809, 12.119999885559082), P(5.760000228881836, 9.600000381469727), P(4.559999942779541, 10.199999809265137), P(4.920000076293945, 15.239999771118164)] C[P(4.920000076293945, 15.239999771118164), P(3.3600006103515625, 15.84000015258789), P(2.880000114440918, 16.079999923706055), P(3.3600006103515625, 15.84000015258789)] C[P(3.3600006103515625, 15.84000015258789), P(2.640000343322754, 14.760000228881836), P(3.7200002670288086, 13.079999923706055), P(6.480000019073486, 12.119999885559082)] C[P(6.480000019073486, 12.119999885559082), P(7.920000076293945, 10.800000190734863), P(9.84000015258789, 10.680000305175781), P(12.0, 11.760000228881836)] C[P(12.0, 11.760000228881836), P(13.920000076293945, 12.600000381469727), P(15.479999542236328, 14.399999618530273), P(15.84000015258789, 16.31999969482422)] C[P(15.84000015258789, 16.31999969482422), P(15.84000015258789, 16.799999237060547), P(15.84000015258789, 17.15999984741211), P(16.079999923706055, 17.040000915527344)] C[P(16.079999923706055, 17.040000915527344), P(16.079999923706055, 15.960000038146973), P(15.119999885559082, 12.720000267028809), P(14.760000228881836, 11.880000114440918)] L[P(14.760000228881836, 11.880000114440918), P(14.520000457763672, 11.039999961853027)] L[P(14.520000457763672, 11.039999961853027), P(13.559999465942383, 11.760000228881836)] L[P(13.559999465942383, 11.760000228881836), P(12.960000038146973, 12.119999885559082)] C[P(12.960000038146973, 12.119999885559082), P(9.119999885559082, 8.520000457763672), P(8.880000114440918, 8.520000457763672), P(11.880000114440918, 12.479999542236328)] L[P(11.880000114440918, 12.479999542236328), P(10.920000076293945, 12.720000267028809)] L[P(10.920000076293945, 12.720000267028809), P(6.0, 15.479999542236328)] C[P(6.0, 15.479999542236328), P(3.6000003814697266, 15.960000038146973), P(2.880000114440918, 16.079999923706055), P(3.3600006103515625, 15.960000038146973)] C[P(3.3600006103515625, 15.960000038146973), P(2.520000457763672, 14.639999389648438), P(3.7200002670288086, 12.84000015258789), P(6.480000019073486, 12.239999771118164)] C[P(6.480000019073486, 12.239999771118164), P(7.800000190734863, 10.920000076293945), P(9.720000267028809, 10.920000076293945), P(12.0, 11.880000114440918)] C[P(12.0, 11.880000114440918), P(14.039999961853027, 12.600000381469727), P(15.600000381469727, 14.520000457763672), P(15.84000015258789, 16.559999465942383)] C[P(15.84000015258789, 16.559999465942383), P(15.84000015258789, 17.279998779296875), P(15.720000267028809, 17.760000228881836), P(15.600000381469727, 17.279998779296875)] C[P(15.600000381469727, 17.279998779296875), P(15.359999656677246, 16.799999237060547), P(14.520000457763672, 15.119999885559082), P(13.559999465942383, 13.680000305175781)] L[P(13.559999465942383, 13.680000305175781), P(11.760000228881836, 11.039999961853027)] L[P(11.760000228881836, 11.039999961853027), P(11.279999732971191, 11.039999961853027)]))\n",
       " )}"
      ]
     },
     "execution_count": 19,
     "metadata": {},
     "output_type": "execute_result"
    }
   ],
   "source": [
    "vq_test[0]"
   ]
  },
  {
   "cell_type": "code",
   "execution_count": 14,
   "metadata": {},
   "outputs": [
    {
     "data": {
      "text/plain": [
       "torch.Size([189, 9])"
      ]
     },
     "execution_count": 14,
     "metadata": {},
     "output_type": "execute_result"
    }
   ],
   "source": [
    "PI_RES.shape"
   ]
  },
  {
   "cell_type": "code",
   "execution_count": 2,
   "metadata": {},
   "outputs": [
    {
     "data": {
      "text/plain": [
       "{'keys': ['Money', 'note', 'cash', 'bill', 'currency'],\n",
       " 'zs': tensor([  82, 4071, 1379, 2577, 1424, 1791, 2885, 1875, 1875, 1347, 3367, 3230,\n",
       "         1643, 1242, 2886, 1353, 2007, 2448,  602, 3053, 3472, 2881, 3036,  908,\n",
       "          294, 3165, 3494, 3230, 3367, 1337, 2271, 2994,  646, 1794, 1337, 2663,\n",
       "         4066, 2790, 2074, 1393, 4066, 2592, 2419,  666, 1439, 1448, 2441,  933,\n",
       "         3983, 1280,  892, 2812, 3272, 3644,  380,  713, 1527, 2812, 3272, 3644,\n",
       "          380,  436]),\n",
       " 'level': 'short',\n",
       " 'mesh_data': tensor([[  0.,   0.,   0.,   0.,   0.,   0.,   0.,   4.,  37.],\n",
       "         [  2.,   4.,  37.,   4.,  70.,   4.,  70.,   6.,  67.],\n",
       "         [  2.,   6.,  67.,   8.,  63.,  65.,   7.,  68.,   5.],\n",
       "         [  2.,  68.,   5.,  70.,   4.,  62.,   4.,  37.,   4.],\n",
       "         [  1.,  37.,   4.,   0.,   0.,   0.,   0.,   4.,   4.],\n",
       "         [  1.,   4.,   4.,   0.,   0.,   0.,   0.,   4.,  37.],\n",
       "         [  1.,   4.,  37.,   0.,   0.,   0.,   0.,   4.,  37.],\n",
       "         [  0.,   4.,  37.,   0.,   0.,   0.,   0., 109.,  36.],\n",
       "         [  2., 109.,  36., 127.,  54., 156.,  82., 173.,  99.],\n",
       "         [  1., 173.,  99.,   0.,   0.,   0.,   0., 199., 131.],\n",
       "         [  1., 199., 131.,   0.,   0.,   0.,   0., 199.,   4.],\n",
       "         [  1., 199.,   4.,   0.,   0.,   0.,   0.,  77.,   4.],\n",
       "         [  1.,  77.,   4.,   0.,   0.,   0.,   0., 109.,  36.],\n",
       "         [  1., 109.,  36.,   0.,   0.,   0.,   0., 109.,  36.],\n",
       "         [  0., 109.,  36.,   0.,   0.,   0.,   0.,  42.,  42.],\n",
       "         [  2.,  42.,  42.,  26.,  59.,  12.,  73.,  12.,  73.],\n",
       "         [  2.,  12.,  73.,  12.,  74.,  22.,  84.,  34.,  96.],\n",
       "         [  2.,  34.,  96.,  55., 117.,  56., 118.,  55., 114.],\n",
       "         [  2.,  55., 114.,  51.,  98.,  57.,  80.,  70.,  68.],\n",
       "         [  2.,  70.,  68.,  82.,  57.,  99.,  52., 114.,  55.],\n",
       "         [  2., 114.,  55., 118.,  56., 117.,  55.,  96.,  34.],\n",
       "         [  2.,  96.,  34.,  84.,  22.,  74.,  12.,  73.,  12.],\n",
       "         [  2.,  73.,  12.,  73.,  12.,  59.,  26.,  42.,  42.],\n",
       "         [  1.,  42.,  42.,   0.,   0.,   0.,   0.,  42.,  42.],\n",
       "         [  0.,  42.,  42.,   0.,   0.,   0.,   0.,  94.,  63.],\n",
       "         [  2.,  94.,  63.,  88.,  65.,  78.,  71.,  74.,  76.],\n",
       "         [  2.,  74.,  76.,  71.,  78.,  68.,  83.,  66.,  87.],\n",
       "         [  2.,  66.,  87.,  63.,  93.,  63.,  95.,  63., 104.],\n",
       "         [  2.,  63., 104.,  63., 113.,  63., 115.,  66., 121.],\n",
       "         [  2.,  66., 121.,  72., 134.,  83., 142.,  97., 145.],\n",
       "         [  2.,  97., 145., 125., 150., 150., 125., 145.,  97.],\n",
       "         [  2., 145.,  97., 140.,  73., 118.,  58.,  94.,  63.],\n",
       "         [  1.,  94.,  63.,   0.,   0.,   0.,   0.,  94.,  63.],\n",
       "         [  0.,  94.,  63.,   0.,   0.,   0.,   0.,   4., 141.],\n",
       "         [  1.,   4., 141.,   0.,   0.,   0.,   0.,   4., 199.],\n",
       "         [  1.,   4., 199.,   0.,   0.,   0.,   0., 131., 199.],\n",
       "         [  1., 131., 199.,   0.,   0.,   0.,   0.,  99., 173.],\n",
       "         [  2.,  99., 173.,  82., 156.,  54., 127.,  36., 109.],\n",
       "         [  1.,  36., 109.,   0.,   0.,   0.,   0.,   4.,  77.],\n",
       "         [  1.,   4.,  77.,   0.,   0.,   0.,   0.,   4., 141.],\n",
       "         [  1.,   4., 141.,   0.,   0.,   0.,   0.,   4., 141.],\n",
       "         [  0.,   4., 141.,   0.,   0.,   0.,   0., 153.,  94.],\n",
       "         [  2., 153.,  94., 157., 110., 151., 128., 138., 140.],\n",
       "         [  2., 138., 140., 126., 151., 109., 156.,  94., 153.],\n",
       "         [  2.,  94., 153.,  90., 152.,  91., 153., 112., 174.],\n",
       "         [  2., 112., 174., 124., 186., 134., 196., 135., 196.],\n",
       "         [  2., 135., 196., 136., 196., 196., 136., 196., 135.],\n",
       "         [  2., 196., 135., 196., 134., 186., 124., 174., 112.],\n",
       "         [  2., 174., 112., 153.,  91., 152.,  90., 153.,  94.],\n",
       "         [  1., 153.,  94.,   0.,   0.,   0.,   0., 153.,  94.],\n",
       "         [  0., 153.,  94.,   0.,   0.,   0.,   0., 199., 140.],\n",
       "         [  2., 199., 140., 199., 141., 148., 197., 142., 199.],\n",
       "         [  1., 142., 199.,   0.,   0.,   0.,   0., 138., 199.],\n",
       "         [  1., 138., 199.,   0.,   0.,   0.,   0., 199., 199.],\n",
       "         [  1., 199., 199.,   0.,   0.,   0.,   0., 199., 171.],\n",
       "         [  2., 199., 171., 199., 153., 199., 138., 199., 138.],\n",
       "         [  2., 199., 138., 199., 138., 199., 139., 199., 140.],\n",
       "         [  1., 199., 140.,   0.,   0.,   0.,   0., 199., 140.]])}"
      ]
     },
     "execution_count": 2,
     "metadata": {},
     "output_type": "execute_result"
    }
   ],
   "source": [
    "data[0]"
   ]
  }
 ],
 "metadata": {
  "kernelspec": {
   "display_name": "llama",
   "language": "python",
   "name": "python3"
  },
  "language_info": {
   "codemirror_mode": {
    "name": "ipython",
    "version": 3
   },
   "file_extension": ".py",
   "mimetype": "text/x-python",
   "name": "python",
   "nbconvert_exporter": "python",
   "pygments_lexer": "ipython3",
   "version": "3.10.13"
  }
 },
 "nbformat": 4,
 "nbformat_minor": 2
}
