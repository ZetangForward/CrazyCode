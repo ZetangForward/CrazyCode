{
 "cells": [
  {
   "cell_type": "markdown",
   "metadata": {},
   "source": [
    "## 计算压缩率及统计"
   ]
  },
  {
   "cell_type": "code",
   "execution_count": 1,
   "metadata": {},
   "outputs": [
    {
     "name": "stderr",
     "output_type": "stream",
     "text": [
      "/opt/conda/envs/llama/lib/python3.10/site-packages/tqdm/auto.py:21: TqdmWarning: IProgress not found. Please update jupyter and ipywidgets. See https://ipywidgets.readthedocs.io/en/stable/user_install.html\n",
      "  from .autonotebook import tqdm as notebook_tqdm\n"
     ]
    },
    {
     "name": "stdout",
     "output_type": "stream",
     "text": [
      "ModelZipper is ready for launch🚀 | Current Version🦄 >>> 0.2.6 <<< | AOE Time🕒 2024-01-05 15:37:11\n"
     ]
    },
    {
     "name": "stderr",
     "output_type": "stream",
     "text": [
      "100%|██████████| 2000/2000 [00:01<00:00, 1668.19it/s]\n",
      "100%|██████████| 2000/2000 [00:01<00:00, 1270.35it/s]\n"
     ]
    },
    {
     "name": "stdout",
     "output_type": "stream",
     "text": [
      "golden_svg_tokens:  811.4895\n",
      "p_predict_svg_tokens:  4608.0\n"
     ]
    },
    {
     "name": "stderr",
     "output_type": "stream",
     "text": [
      "100%|██████████| 2000/2000 [00:44<00:00, 45.07it/s]\n",
      "100%|██████████| 2000/2000 [00:10<00:00, 183.02it/s]"
     ]
    },
    {
     "name": "stdout",
     "output_type": "stream",
     "text": [
      "p_str_tokens:  22720.927\n",
      "golden_str_tokens:  7261.193\n",
      "compress_codebook_tokens:  256\n",
      "压缩率 (codebook V.S. str): 28.36403515625 倍\n",
      "压缩率 (codebook V.S. numerical matrix): 3.169880859375 倍\n"
     ]
    },
    {
     "name": "stderr",
     "output_type": "stream",
     "text": [
      "\n"
     ]
    }
   ],
   "source": [
    "from modelzipper.tutils import *\n",
    "from tqdm import trange\n",
    "\n",
    "\n",
    "CodeLLaMA_PATH = \"/zecheng2/model_hub/CodeLlama-7b-hf\"\n",
    "FILE_PATH = \"/zecheng2/vqllama/test_vqllama_quantizer/test_1/visualized_compress_level_1/svg_paths.jsonl\"\n",
    "COMPRESSED_PATH = \"/zecheng2/vqllama/test_vqllama_quantizer/test_1/compress_level_1_predictions.pkl\"\n",
    "\n",
    "llama_tokenizer = AutoTokenizer.from_pretrained(CodeLLaMA_PATH)\n",
    "str_cotent = auto_read_data(FILE_PATH)\n",
    "compress_content = auto_read_data(COMPRESSED_PATH)\n",
    "\n",
    "# count compress svg tokens\n",
    "p_predict = compress_content['p_predict']\n",
    "golden = compress_content['golden']\n",
    "\n",
    "def count_non_pad_rows(x):\n",
    "    non_pad_rows = 0\n",
    "    for row in x:\n",
    "        row_list = row.tolist()\n",
    "        if row_list[0] == 0:\n",
    "            if any(row_list[1:]):\n",
    "                non_pad_rows += 1\n",
    "            else:\n",
    "                break\n",
    "        else:\n",
    "            non_pad_rows += 1\n",
    "    \n",
    "    return non_pad_rows\n",
    "\n",
    "\n",
    "def count_svg_tokens(batch_x):\n",
    "    \"\"\"\n",
    "    batch_x: [b, l, 9]\n",
    "    \"\"\"\n",
    "    total_tokens = 0\n",
    "    for i in trange(len(batch_x)):\n",
    "        item = batch_x[i]\n",
    "        non_pad_rows = count_non_pad_rows(item)\n",
    "        total_tokens += non_pad_rows * 9\n",
    "    avg_tokens = total_tokens / len(batch_x) \n",
    "    return avg_tokens\n",
    "\n",
    "golden_svg_tokens = count_svg_tokens(golden)\n",
    "p_predict_svg_tokens = count_svg_tokens(p_predict)\n",
    "\n",
    "print(\"golden_svg_tokens: \", golden_svg_tokens)\n",
    "print(\"p_predict_svg_tokens: \", p_predict_svg_tokens)\n",
    "\n",
    "\n",
    "def count_str_tokens(batch_x, tokenizer: AutoTokenizer):\n",
    "    \"\"\"\n",
    "    batch_x: List[str]\n",
    "    \"\"\"\n",
    "    total_tokens = 0\n",
    "    for i in trange(len(batch_x)):\n",
    "        item = batch_x[i]\n",
    "        tokens = tokenizer(item)['input_ids']\n",
    "        total_tokens += len(tokens)\n",
    "    avg_tokens = total_tokens / len(batch_x) \n",
    "    return avg_tokens\n",
    "\n",
    "\n",
    "p_svg_str = [item['p_svg_str'] for item in str_cotent]\n",
    "g_svg_str = [item['g_svg_str'] for item in str_cotent]\n",
    "\n",
    "p_svg_str_tokens = count_str_tokens(p_svg_str, llama_tokenizer)\n",
    "g_svg_str_tokens = count_str_tokens(g_svg_str, llama_tokenizer)\n",
    "\n",
    "print(\"p_str_tokens: \", p_svg_str_tokens)\n",
    "print(\"golden_str_tokens: \", g_svg_str_tokens)\n",
    "\n",
    "\n",
    "compress_codebook_tokens = compress_content['zs'].shape[-1]\n",
    "print(\"compress_codebook_tokens: \", compress_codebook_tokens)\n",
    "\n",
    "print(f\"压缩率 (codebook V.S. str): {g_svg_str_tokens / compress_codebook_tokens} 倍\")\n",
    "print(f\"压缩率 (codebook V.S. numerical matrix): {golden_svg_tokens / compress_codebook_tokens} 倍\")\n",
    "\n"
   ]
  },
  {
   "cell_type": "markdown",
   "metadata": {},
   "source": [
    "## 打印输出结果"
   ]
  },
  {
   "cell_type": "code",
   "execution_count": 27,
   "metadata": {},
   "outputs": [
    {
     "name": "stdout",
     "output_type": "stream",
     "text": [
      "[0, 0, 0, 0, 0, 0, 0, 4, 105]\n",
      "[1, 4, 105, 0, 0, 0, 0, 4, 200]\n",
      "[1, 4, 200, 0, 0, 0, 0, 199, 199]\n",
      "[1, 199, 199, 0, 0, 0, 0, 200, 4]\n",
      "[1, 200, 4, 0, 0, 0, 0, 5, 4]\n",
      "[1, 5, 4, 0, 0, 0, 0, 4, 101]\n",
      "[1, 4, 101, 0, 0, 0, 0, 1, 103]\n",
      "[0, 1, 103, 0, 0, 0, 0, 148, 89]\n",
      "[1, 148, 89, 0, 0, 0, 0, 152, 161]\n",
      "[1, 152, 161, 0, 0, 0, 0, 52, 170]\n"
     ]
    }
   ],
   "source": [
    "raw = compress_content.get('raw_predict')[0][: 10]\n",
    "golden = compress_content.get('golden')[0][: 10]\n",
    "p_predict = compress_content.get('p_predict')[0][: 10]\n",
    "\n",
    "\n",
    "def q_p(x):\n",
    "    for line in x:\n",
    "        print(line.tolist())\n",
    "\n",
    "\n",
    "q_p(p_predict)"
   ]
  },
  {
   "cell_type": "markdown",
   "metadata": {},
   "source": [
    "## 找到对应的SVG Path"
   ]
  },
  {
   "cell_type": "code",
   "execution_count": 11,
   "metadata": {},
   "outputs": [
    {
     "name": "stdout",
     "output_type": "stream",
     "text": [
      "txt file saved successfully!\n",
      "Save file to /zecheng2/vqllama/test_vqllama_quantizer/test_0/analysis/analysis_36_raw_predict.txt | len: 1\n",
      "txt file saved successfully!\n",
      "Save file to /zecheng2/vqllama/test_vqllama_quantizer/test_0/analysis/analysis_36_p_predict.txt | len: 1\n",
      "txt file saved successfully!\n",
      "Save file to /zecheng2/vqllama/test_vqllama_quantizer/test_0/analysis/analysis_36_golden.txt | len: 1\n",
      "txt file saved successfully!\n",
      "Save file to /zecheng2/vqllama/test_vqllama_quantizer/test_0/analysis/analysis_66_raw_predict.txt | len: 1\n",
      "txt file saved successfully!\n",
      "Save file to /zecheng2/vqllama/test_vqllama_quantizer/test_0/analysis/analysis_66_p_predict.txt | len: 1\n",
      "txt file saved successfully!\n",
      "Save file to /zecheng2/vqllama/test_vqllama_quantizer/test_0/analysis/analysis_66_golden.txt | len: 1\n",
      "txt file saved successfully!\n",
      "Save file to /zecheng2/vqllama/test_vqllama_quantizer/test_0/analysis/analysis_72_raw_predict.txt | len: 1\n",
      "txt file saved successfully!\n",
      "Save file to /zecheng2/vqllama/test_vqllama_quantizer/test_0/analysis/analysis_72_p_predict.txt | len: 1\n",
      "txt file saved successfully!\n",
      "Save file to /zecheng2/vqllama/test_vqllama_quantizer/test_0/analysis/analysis_72_golden.txt | len: 1\n",
      "txt file saved successfully!\n",
      "Save file to /zecheng2/vqllama/test_vqllama_quantizer/test_0/analysis/analysis_80_raw_predict.txt | len: 1\n",
      "txt file saved successfully!\n",
      "Save file to /zecheng2/vqllama/test_vqllama_quantizer/test_0/analysis/analysis_80_p_predict.txt | len: 1\n",
      "txt file saved successfully!\n",
      "Save file to /zecheng2/vqllama/test_vqllama_quantizer/test_0/analysis/analysis_80_golden.txt | len: 1\n"
     ]
    }
   ],
   "source": [
    "from modelzipper.tutils import *\n",
    "from tqdm import trange\n",
    "\n",
    "ANALYSIS_DIR = \"/zecheng2/vqllama/test_vqllama_quantizer/test_0/analysis\"\n",
    "\n",
    "CodeLLaMA_PATH = \"/zecheng2/model_hub/CodeLlama-7b-hf\"\n",
    "FILE_PATH = \"/zecheng2/vqllama/test_vqllama_quantizer/test_0/visualized_compress_level_1/svg_paths.jsonl\"\n",
    "COMPRESSED_PATH = \"/zecheng2/vqllama/test_vqllama_quantizer/test_0/compress_level_1_predictions.pkl\"\n",
    "\n",
    "llama_tokenizer = AutoTokenizer.from_pretrained(CodeLLaMA_PATH)\n",
    "str_content = auto_read_data(FILE_PATH)\n",
    "compress_content = auto_read_data(COMPRESSED_PATH)\n",
    "\n",
    "raw_predict = compress_content['raw_predict']\n",
    "p_predict = compress_content['p_predict']\n",
    "golden = compress_content['golden']\n",
    "\n",
    "FILE_ID = [36, 66, 72, 80]\n",
    "\n",
    "\n",
    "def convert_tensor_to_str(x):\n",
    "    res = \"\"\n",
    "    for i in range(len(x)):\n",
    "        item = \"[\" + \",\".join([format(j, '5d') for j in x[i].tolist()]) + \"]\"\n",
    "        res += item + \"\\n\"\n",
    "    return res\n",
    "\n",
    "\n",
    "\n",
    "# TEMPLATE = \"raw predict:\\n{raw_predict}\\n\\np predict:\\n{p_predict}\\n\\ngolden:\\n{golden}\\n\\n\"\n",
    "\n",
    "for i in FILE_ID:\n",
    "    s_raw_predict = convert_tensor_to_str(raw_predict[i])\n",
    "    s_p_predict = convert_tensor_to_str(p_predict[i])\n",
    "    s_golden = convert_tensor_to_str(golden[i])\n",
    "    auto_save_data([s_raw_predict], os.path.join(ANALYSIS_DIR, f\"analysis_{i}_raw_predict.txt\"))\n",
    "    auto_save_data([s_raw_predict], os.path.join(ANALYSIS_DIR, f\"analysis_{i}_p_predict.txt\"))\n",
    "    auto_save_data([s_raw_predict], os.path.join(ANALYSIS_DIR, f\"analysis_{i}_golden.txt\"))\n",
    "    # s = TEMPLATE.format(raw_predict=s_raw_predict, p_predict=s_p_predict, golden=s_golden)\n",
    "    # auto_save_data([s], os.path.join(ANALYSIS_DIR, f\"analysis_{i}.txt\"))"
   ]
  },
  {
   "cell_type": "markdown",
   "metadata": {},
   "source": [
    "## 统计数据集平均长度，最长长度和最短长度"
   ]
  },
  {
   "cell_type": "code",
   "execution_count": 3,
   "metadata": {},
   "outputs": [
    {
     "name": "stderr",
     "output_type": "stream",
     "text": [
      "100%|██████████| 347000/347000 [00:00<00:00, 438812.38it/s]"
     ]
    },
    {
     "name": "stdout",
     "output_type": "stream",
     "text": [
      "avg_length: 98.70044380403458\n",
      "max_length: 750\n",
      "min_length: 7\n",
      "区间 0 到 99 的条数: 228294\n",
      "区间 100 到 199 的条数: 92352\n",
      "区间 200 到 299 的条数: 17245\n",
      "区间 300 到 399 的条数: 5117\n",
      "区间 400 到 499 的条数: 2114\n",
      "区间 500 到 599 的条数: 1054\n",
      "区间 600 到 699 的条数: 608\n",
      "区间 700 到 799 的条数: 216\n"
     ]
    },
    {
     "name": "stderr",
     "output_type": "stream",
     "text": [
      "\n"
     ]
    }
   ],
   "source": [
    "from modelzipper.tutils import *\n",
    "from tqdm import trange\n",
    "\n",
    "FILE_PATH = \"/zecheng2/svg/icon-shop/mesh_data_svg_convert_p.pkl\"\n",
    "\n",
    "content = auto_read_data(FILE_PATH)\n",
    "\n",
    "\n",
    "total_length, max_length, min_length = 0, 0, 1000\n",
    "interval_counts = {}  # 新增一个字典来存储区间计数\n",
    "\n",
    "for i in trange(len(content)):\n",
    "    svg_data = content[i]['mesh_data']\n",
    "    length = len(svg_data)\n",
    "    total_length += length\n",
    "    max_length = max(max_length, length)\n",
    "    min_length = min(min_length, length)\n",
    "    \n",
    "    # 计算当前长度所在的区间，并更新对应区间的计数\n",
    "    interval = (length // 100) * 100\n",
    "    if interval not in interval_counts:\n",
    "        interval_counts[interval] = 0\n",
    "    interval_counts[interval] += 1\n",
    "\n",
    "avg_length = total_length / len(content)\n",
    "\n",
    "print(f\"avg_length: {avg_length}\")\n",
    "print(f\"max_length: {max_length}\")\n",
    "print(f\"min_length: {min_length}\")\n",
    "\n",
    "# 打印出每个区间的条数\n",
    "for k in sorted(interval_counts):\n",
    "    print(f\"区间 {k} 到 {k+99} 的条数: {interval_counts[k]}\")"
   ]
  },
  {
   "cell_type": "code",
   "execution_count": 21,
   "metadata": {},
   "outputs": [
    {
     "data": {
      "text/plain": [
       "tensor([[  0.,   0.,   0.,   0.,   0.,   0.,   0.,   4., 104.],\n",
       "        [  1.,   4., 104.,   0.,   0.,   0.,   0.,   4., 199.],\n",
       "        [  1.,   4., 199.,   0.,   0.,   0.,   0., 199., 199.],\n",
       "        [  1., 199., 199.,   0.,   0.,   0.,   0., 199.,   4.],\n",
       "        [  1., 199.,   4.,   0.,   0.,   0.,   0.,   4.,   4.],\n",
       "        [  1.,   4.,   4.,   0.,   0.,   0.,   0.,   4., 104.],\n",
       "        [  1.,   4., 104.,   0.,   0.,   0.,   0.,   4., 104.],\n",
       "        [  0.,   4., 104.,   0.,   0.,   0.,   0., 156., 104.],\n",
       "        [  1., 156., 104.,   0.,   0.,   0.,   0., 156., 193.],\n",
       "        [  1., 156., 193.,   0.,   0.,   0.,   0.,  52., 193.],\n",
       "        [  1.,  52., 193.,   0.,   0.,   0.,   0.,  52.,  15.],\n",
       "        [  1.,  52.,  15.,   0.,   0.,   0.,   0., 156.,  15.],\n",
       "        [  1., 156.,  15.,   0.,   0.,   0.,   0., 156., 104.],\n",
       "        [  1., 156., 104.,   0.,   0.,   0.,   0., 156., 104.],\n",
       "        [  0., 156., 104.,   0.,   0.,   0.,   0.,  96.,  23.],\n",
       "        [  2.,  96.,  23.,  93.,  25.,  88.,  29.,  86.,  33.],\n",
       "        [  2.,  86.,  33.,  77.,  50.,  95.,  69., 112.,  62.],\n",
       "        [  2., 112.,  62., 129.,  55., 129.,  30., 112.,  23.],\n",
       "        [  2., 112.,  23., 107.,  21., 100.,  21.,  96.,  23.],\n",
       "        [  1.,  96.,  23.,   0.,   0.,   0.,   0.,  96.,  23.],\n",
       "        [  0.,  96.,  23.,   0.,   0.,   0.,   0., 115.,  26.],\n",
       "        [  2., 115.,  26., 123.,  32., 125.,  44., 120.,  52.],\n",
       "        [  2., 120.,  52., 117.,  58., 114.,  60., 108.,  61.],\n",
       "        [  2., 108.,  61.,  94.,  65.,  81.,  49.,  87.,  35.],\n",
       "        [  2.,  87.,  35.,  92.,  24., 105.,  20., 115.,  27.],\n",
       "        [  1., 115.,  27.,   0.,   0.,   0.,   0., 115.,  26.],\n",
       "        [  0., 115.,  26.,   0.,   0.,   0.,   0.,  98.,  36.],\n",
       "        [  2.,  98.,  36.,  96.,  38.,  95.,  40.,  95.,  43.],\n",
       "        [  2.,  95.,  43.,  95.,  47., 100.,  52., 103.,  52.],\n",
       "        [  2., 103.,  52., 108.,  52., 112.,  49., 113.,  46.]])"
      ]
     },
     "execution_count": 21,
     "metadata": {},
     "output_type": "execute_result"
    }
   ],
   "source": [
    "content[0]['mesh_data'][:30]"
   ]
  }
 ],
 "metadata": {
  "kernelspec": {
   "display_name": "llama",
   "language": "python",
   "name": "python3"
  },
  "language_info": {
   "codemirror_mode": {
    "name": "ipython",
    "version": 3
   },
   "file_extension": ".py",
   "mimetype": "text/x-python",
   "name": "python",
   "nbconvert_exporter": "python",
   "pygments_lexer": "ipython3",
   "version": "3.10.13"
  }
 },
 "nbformat": 4,
 "nbformat_minor": 2
}
