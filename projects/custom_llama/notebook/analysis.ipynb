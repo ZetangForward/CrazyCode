{
 "cells": [
  {
   "cell_type": "code",
   "execution_count": 15,
   "metadata": {},
   "outputs": [],
   "source": [
    "from modelzipper.tutils import *\n",
    "from tqdm import trange\n",
    "\n",
    "\n",
    "CodeLLaMA_PATH = \"/zecheng2/model_hub/CodeLlama-7b-hf\"\n",
    "FILE_PATH = \"/zecheng2/vqllama/test_vqllama_quantizer/test_0/visualized_compress_level_2/svg_paths.jsonl\"\n",
    "COMPRESSED_PATH = \"/zecheng2/vqllama/test_vqllama_quantizer/test_0/compress_level_2_predictions.pkl\"\n",
    "\n",
    "llama_tokenizer = AutoTokenizer.from_pretrained(CodeLLaMA_PATH)\n",
    "str_cotent = auto_read_data(FILE_PATH)\n",
    "compress_content = auto_read_data(COMPRESSED_PATH)\n",
    "\n",
    "# count compress svg tokens\n",
    "p_predict = compress_content['p_predict']\n",
    "golden = compress_content['golden']\n",
    "\n",
    "def count_non_pad_rows(x):\n",
    "    non_pad_rows = 0\n",
    "    for row in x:\n",
    "        row_list = row.tolist()\n",
    "        if row_list[0] == 0:\n",
    "            if any(row_list[1:]):\n",
    "                non_pad_rows += 1\n",
    "            else:\n",
    "                break\n",
    "        else:\n",
    "            non_pad_rows += 1\n",
    "    \n",
    "    return non_pad_rows\n",
    "\n",
    "\n",
    "def count_svg_tokens(batch_x):\n",
    "    \"\"\"\n",
    "    batch_x: [b, l, 9]\n",
    "    \"\"\"\n",
    "    total_tokens = 0\n",
    "    for i in trange(len(batch_x)):\n",
    "        item = batch_x[i]\n",
    "        non_pad_rows = count_non_pad_rows(item)\n",
    "        total_tokens += non_pad_rows * 9\n",
    "    avg_tokens = total_tokens / len(batch_x) \n",
    "    return avg_tokens\n",
    "\n",
    "golden_svg_tokens = count_svg_tokens(golden)\n",
    "p_predict_svg_tokens = count_svg_tokens(p_predict)\n",
    "\n",
    "print(\"golden_svg_tokens: \", golden_svg_tokens)\n",
    "print(\"p_predict_svg_tokens: \", p_predict_svg_tokens)\n",
    "\n",
    "\n",
    "def count_str_tokens(batch_x, tokenizer: AutoTokenizer):\n",
    "    \"\"\"\n",
    "    batch_x: List[str]\n",
    "    \"\"\"\n",
    "    total_tokens = 0\n",
    "    for i in trange(len(batch_x)):\n",
    "        item = batch_x[i]\n",
    "        tokens = tokenizer(item)['input_ids']\n",
    "        total_tokens += len(tokens)\n",
    "    avg_tokens = total_tokens / len(batch_x) \n",
    "    return avg_tokens\n",
    "\n",
    "\n",
    "p_svg_str = [item['p_svg_str'] for item in str_cotent]\n",
    "g_svg_str = [item['g_svg_str'] for item in str_cotent]\n",
    "\n",
    "p_svg_str_tokens = count_str_tokens(p_svg_str, llama_tokenizer)\n",
    "g_svg_str_tokens = count_str_tokens(g_svg_str, llama_tokenizer)\n",
    "\n",
    "print(\"p_str_tokens: \", p_svg_str_tokens)\n",
    "print(\"golden_str_tokens: \", g_svg_str_tokens)\n",
    "\n",
    "\n",
    "compress_codebook_tokens = compress_content['zs'].shape[-1]\n",
    "print(\"compress_codebook_tokens: \", compress_codebook_tokens)\n",
    "\n",
    "print(f\"压缩率 (codebook V.S. str): {g_svg_str_tokens / compress_codebook_tokens} 倍\")\n",
    "print(f\"压缩率 (codebook V.S. numerical matrix): {golden_svg_tokens / compress_codebook_tokens} 倍\")\n",
    "\n"
   ]
  },
  {
   "cell_type": "code",
   "execution_count": 14,
   "metadata": {},
   "outputs": [
    {
     "name": "stderr",
     "output_type": "stream",
     "text": [
      "100%|██████████| 2000/2000 [00:01<00:00, 1483.64it/s]\n",
      "100%|██████████| 2000/2000 [00:01<00:00, 1643.32it/s]\n"
     ]
    },
    {
     "name": "stdout",
     "output_type": "stream",
     "text": [
      "golden_svg_tokens:  862.551\n",
      "p_predict_svg_tokens:  889.416\n"
     ]
    },
    {
     "name": "stderr",
     "output_type": "stream",
     "text": [
      "100%|██████████| 2000/2000 [00:03<00:00, 518.49it/s]\n",
      "100%|██████████| 2000/2000 [00:04<00:00, 494.83it/s]"
     ]
    },
    {
     "name": "stdout",
     "output_type": "stream",
     "text": [
      "p_str_tokens:  2486.429\n",
      "golden_str_tokens:  2552.1795\n",
      "compress_codebook_tokens:  256\n",
      "压缩率 (codebook V.S. str): 9.969451171875 倍\n",
      "压缩率 (codebook V.S. numerical matrix): 3.36933984375 倍\n"
     ]
    },
    {
     "name": "stderr",
     "output_type": "stream",
     "text": [
      "\n"
     ]
    }
   ],
   "source": []
  }
 ],
 "metadata": {
  "kernelspec": {
   "display_name": "llama",
   "language": "python",
   "name": "python3"
  },
  "language_info": {
   "codemirror_mode": {
    "name": "ipython",
    "version": 3
   },
   "file_extension": ".py",
   "mimetype": "text/x-python",
   "name": "python",
   "nbconvert_exporter": "python",
   "pygments_lexer": "ipython3",
   "version": "3.10.13"
  }
 },
 "nbformat": 4,
 "nbformat_minor": 2
}
