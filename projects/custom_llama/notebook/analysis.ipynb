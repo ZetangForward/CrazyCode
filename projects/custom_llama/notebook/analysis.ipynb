{
 "cells": [
  {
   "cell_type": "markdown",
   "metadata": {},
   "source": [
    "## 计算压缩率及统计"
   ]
  },
  {
   "cell_type": "code",
   "execution_count": 16,
   "metadata": {},
   "outputs": [
    {
     "name": "stderr",
     "output_type": "stream",
     "text": [
      "100%|██████████| 2000/2000 [00:01<00:00, 1608.13it/s]\n",
      "100%|██████████| 2000/2000 [00:01<00:00, 1155.87it/s]\n"
     ]
    },
    {
     "name": "stdout",
     "output_type": "stream",
     "text": [
      "golden_svg_tokens:  862.551\n",
      "p_predict_svg_tokens:  4541.094\n"
     ]
    },
    {
     "name": "stderr",
     "output_type": "stream",
     "text": [
      "100%|██████████| 2000/2000 [00:04<00:00, 403.78it/s]\n",
      "100%|██████████| 2000/2000 [00:05<00:00, 399.71it/s]"
     ]
    },
    {
     "name": "stdout",
     "output_type": "stream",
     "text": [
      "p_str_tokens:  2551.7985\n",
      "golden_str_tokens:  2552.1795\n",
      "compress_codebook_tokens:  64\n",
      "压缩率 (codebook V.S. str): 39.8778046875 倍\n",
      "压缩率 (codebook V.S. numerical matrix): 13.477359375 倍\n"
     ]
    },
    {
     "name": "stderr",
     "output_type": "stream",
     "text": [
      "\n"
     ]
    }
   ],
   "source": [
    "from modelzipper.tutils import *\n",
    "from tqdm import trange\n",
    "\n",
    "\n",
    "CodeLLaMA_PATH = \"/zecheng2/model_hub/CodeLlama-7b-hf\"\n",
    "FILE_PATH = \"/zecheng2/vqllama/test_vqllama_quantizer/test_0/visualized_compress_level_3/svg_paths.jsonl\"\n",
    "COMPRESSED_PATH = \"/zecheng2/vqllama/test_vqllama_quantizer/test_0/compress_level_3_predictions.pkl\"\n",
    "\n",
    "llama_tokenizer = AutoTokenizer.from_pretrained(CodeLLaMA_PATH)\n",
    "str_cotent = auto_read_data(FILE_PATH)\n",
    "compress_content = auto_read_data(COMPRESSED_PATH)\n",
    "\n",
    "# count compress svg tokens\n",
    "p_predict = compress_content['p_predict']\n",
    "golden = compress_content['golden']\n",
    "\n",
    "def count_non_pad_rows(x):\n",
    "    non_pad_rows = 0\n",
    "    for row in x:\n",
    "        row_list = row.tolist()\n",
    "        if row_list[0] == 0:\n",
    "            if any(row_list[1:]):\n",
    "                non_pad_rows += 1\n",
    "            else:\n",
    "                break\n",
    "        else:\n",
    "            non_pad_rows += 1\n",
    "    \n",
    "    return non_pad_rows\n",
    "\n",
    "\n",
    "def count_svg_tokens(batch_x):\n",
    "    \"\"\"\n",
    "    batch_x: [b, l, 9]\n",
    "    \"\"\"\n",
    "    total_tokens = 0\n",
    "    for i in trange(len(batch_x)):\n",
    "        item = batch_x[i]\n",
    "        non_pad_rows = count_non_pad_rows(item)\n",
    "        total_tokens += non_pad_rows * 9\n",
    "    avg_tokens = total_tokens / len(batch_x) \n",
    "    return avg_tokens\n",
    "\n",
    "golden_svg_tokens = count_svg_tokens(golden)\n",
    "p_predict_svg_tokens = count_svg_tokens(p_predict)\n",
    "\n",
    "print(\"golden_svg_tokens: \", golden_svg_tokens)\n",
    "print(\"p_predict_svg_tokens: \", p_predict_svg_tokens)\n",
    "\n",
    "\n",
    "def count_str_tokens(batch_x, tokenizer: AutoTokenizer):\n",
    "    \"\"\"\n",
    "    batch_x: List[str]\n",
    "    \"\"\"\n",
    "    total_tokens = 0\n",
    "    for i in trange(len(batch_x)):\n",
    "        item = batch_x[i]\n",
    "        tokens = tokenizer(item)['input_ids']\n",
    "        total_tokens += len(tokens)\n",
    "    avg_tokens = total_tokens / len(batch_x) \n",
    "    return avg_tokens\n",
    "\n",
    "\n",
    "p_svg_str = [item['p_svg_str'] for item in str_cotent]\n",
    "g_svg_str = [item['g_svg_str'] for item in str_cotent]\n",
    "\n",
    "p_svg_str_tokens = count_str_tokens(p_svg_str, llama_tokenizer)\n",
    "g_svg_str_tokens = count_str_tokens(g_svg_str, llama_tokenizer)\n",
    "\n",
    "print(\"p_str_tokens: \", p_svg_str_tokens)\n",
    "print(\"golden_str_tokens: \", g_svg_str_tokens)\n",
    "\n",
    "\n",
    "compress_codebook_tokens = compress_content['zs'].shape[-1]\n",
    "print(\"compress_codebook_tokens: \", compress_codebook_tokens)\n",
    "\n",
    "print(f\"压缩率 (codebook V.S. str): {g_svg_str_tokens / compress_codebook_tokens} 倍\")\n",
    "print(f\"压缩率 (codebook V.S. numerical matrix): {golden_svg_tokens / compress_codebook_tokens} 倍\")\n",
    "\n"
   ]
  },
  {
   "cell_type": "markdown",
   "metadata": {},
   "source": [
    "## 打印输出结果"
   ]
  },
  {
   "cell_type": "code",
   "execution_count": 27,
   "metadata": {},
   "outputs": [
    {
     "name": "stdout",
     "output_type": "stream",
     "text": [
      "[0, 0, 0, 0, 0, 0, 0, 4, 105]\n",
      "[1, 4, 105, 0, 0, 0, 0, 4, 200]\n",
      "[1, 4, 200, 0, 0, 0, 0, 199, 199]\n",
      "[1, 199, 199, 0, 0, 0, 0, 200, 4]\n",
      "[1, 200, 4, 0, 0, 0, 0, 5, 4]\n",
      "[1, 5, 4, 0, 0, 0, 0, 4, 101]\n",
      "[1, 4, 101, 0, 0, 0, 0, 1, 103]\n",
      "[0, 1, 103, 0, 0, 0, 0, 148, 89]\n",
      "[1, 148, 89, 0, 0, 0, 0, 152, 161]\n",
      "[1, 152, 161, 0, 0, 0, 0, 52, 170]\n"
     ]
    }
   ],
   "source": [
    "raw = compress_content.get('raw_predict')[0][: 10]\n",
    "golden = compress_content.get('golden')[0][: 10]\n",
    "p_predict = compress_content.get('p_predict')[0][: 10]\n",
    "\n",
    "\n",
    "def q_p(x):\n",
    "    for line in x:\n",
    "        print(line.tolist())\n",
    "\n",
    "\n",
    "q_p(p_predict)"
   ]
  },
  {
   "cell_type": "markdown",
   "metadata": {},
   "source": [
    "## 找到对应的SVG Path"
   ]
  },
  {
   "cell_type": "code",
   "execution_count": 11,
   "metadata": {},
   "outputs": [
    {
     "name": "stdout",
     "output_type": "stream",
     "text": [
      "txt file saved successfully!\n",
      "Save file to /zecheng2/vqllama/test_vqllama_quantizer/test_0/analysis/analysis_36_raw_predict.txt | len: 1\n",
      "txt file saved successfully!\n",
      "Save file to /zecheng2/vqllama/test_vqllama_quantizer/test_0/analysis/analysis_36_p_predict.txt | len: 1\n",
      "txt file saved successfully!\n",
      "Save file to /zecheng2/vqllama/test_vqllama_quantizer/test_0/analysis/analysis_36_golden.txt | len: 1\n",
      "txt file saved successfully!\n",
      "Save file to /zecheng2/vqllama/test_vqllama_quantizer/test_0/analysis/analysis_66_raw_predict.txt | len: 1\n",
      "txt file saved successfully!\n",
      "Save file to /zecheng2/vqllama/test_vqllama_quantizer/test_0/analysis/analysis_66_p_predict.txt | len: 1\n",
      "txt file saved successfully!\n",
      "Save file to /zecheng2/vqllama/test_vqllama_quantizer/test_0/analysis/analysis_66_golden.txt | len: 1\n",
      "txt file saved successfully!\n",
      "Save file to /zecheng2/vqllama/test_vqllama_quantizer/test_0/analysis/analysis_72_raw_predict.txt | len: 1\n",
      "txt file saved successfully!\n",
      "Save file to /zecheng2/vqllama/test_vqllama_quantizer/test_0/analysis/analysis_72_p_predict.txt | len: 1\n",
      "txt file saved successfully!\n",
      "Save file to /zecheng2/vqllama/test_vqllama_quantizer/test_0/analysis/analysis_72_golden.txt | len: 1\n",
      "txt file saved successfully!\n",
      "Save file to /zecheng2/vqllama/test_vqllama_quantizer/test_0/analysis/analysis_80_raw_predict.txt | len: 1\n",
      "txt file saved successfully!\n",
      "Save file to /zecheng2/vqllama/test_vqllama_quantizer/test_0/analysis/analysis_80_p_predict.txt | len: 1\n",
      "txt file saved successfully!\n",
      "Save file to /zecheng2/vqllama/test_vqllama_quantizer/test_0/analysis/analysis_80_golden.txt | len: 1\n"
     ]
    }
   ],
   "source": [
    "from modelzipper.tutils import *\n",
    "from tqdm import trange\n",
    "\n",
    "ANALYSIS_DIR = \"/zecheng2/vqllama/test_vqllama_quantizer/test_0/analysis\"\n",
    "\n",
    "CodeLLaMA_PATH = \"/zecheng2/model_hub/CodeLlama-7b-hf\"\n",
    "FILE_PATH = \"/zecheng2/vqllama/test_vqllama_quantizer/test_0/visualized_compress_level_1/svg_paths.jsonl\"\n",
    "COMPRESSED_PATH = \"/zecheng2/vqllama/test_vqllama_quantizer/test_0/compress_level_1_predictions.pkl\"\n",
    "\n",
    "llama_tokenizer = AutoTokenizer.from_pretrained(CodeLLaMA_PATH)\n",
    "str_content = auto_read_data(FILE_PATH)\n",
    "compress_content = auto_read_data(COMPRESSED_PATH)\n",
    "\n",
    "raw_predict = compress_content['raw_predict']\n",
    "p_predict = compress_content['p_predict']\n",
    "golden = compress_content['golden']\n",
    "\n",
    "FILE_ID = [36, 66, 72, 80]\n",
    "\n",
    "\n",
    "def convert_tensor_to_str(x):\n",
    "    res = \"\"\n",
    "    for i in range(len(x)):\n",
    "        item = \"[\" + \",\\t\".join([format(j, '1d') for j in x[i].tolist()]) + \"]\"\n",
    "        res += item + \"\\n\"\n",
    "    return res\n",
    "\n",
    "\n",
    "# TEMPLATE = \"raw predict:\\n{raw_predict}\\n\\np predict:\\n{p_predict}\\n\\ngolden:\\n{golden}\\n\\n\"\n",
    "\n",
    "for i in FILE_ID:\n",
    "    s_raw_predict = convert_tensor_to_str(raw_predict[i])\n",
    "    s_p_predict = convert_tensor_to_str(p_predict[i])\n",
    "    s_golden = convert_tensor_to_str(golden[i])\n",
    "    auto_save_data([s_raw_predict], os.path.join(ANALYSIS_DIR, f\"analysis_{i}_raw_predict.txt\"))\n",
    "    auto_save_data([s_raw_predict], os.path.join(ANALYSIS_DIR, f\"analysis_{i}_p_predict.txt\"))\n",
    "    auto_save_data([s_raw_predict], os.path.join(ANALYSIS_DIR, f\"analysis_{i}_golden.txt\"))\n",
    "    # s = TEMPLATE.format(raw_predict=s_raw_predict, p_predict=s_p_predict, golden=s_golden)\n",
    "    # auto_save_data([s], os.path.join(ANALYSIS_DIR, f\"analysis_{i}.txt\"))"
   ]
  },
  {
   "cell_type": "code",
   "execution_count": 16,
   "metadata": {},
   "outputs": [
    {
     "name": "stdout",
     "output_type": "stream",
     "text": [
      "txt file saved successfully!\n",
      "Save file to /zecheng2/vqllama/test_vqllama_quantizer/test_0/analysis/analysis_36_raw_predict.txt | len: 1\n",
      "txt file saved successfully!\n",
      "Save file to /zecheng2/vqllama/test_vqllama_quantizer/test_0/analysis/analysis_36_p_predict.txt | len: 1\n",
      "txt file saved successfully!\n",
      "Save file to /zecheng2/vqllama/test_vqllama_quantizer/test_0/analysis/analysis_36_golden.txt | len: 1\n",
      "txt file saved successfully!\n",
      "Save file to /zecheng2/vqllama/test_vqllama_quantizer/test_0/analysis/analysis_66_raw_predict.txt | len: 1\n",
      "txt file saved successfully!\n",
      "Save file to /zecheng2/vqllama/test_vqllama_quantizer/test_0/analysis/analysis_66_p_predict.txt | len: 1\n",
      "txt file saved successfully!\n",
      "Save file to /zecheng2/vqllama/test_vqllama_quantizer/test_0/analysis/analysis_66_golden.txt | len: 1\n",
      "txt file saved successfully!\n",
      "Save file to /zecheng2/vqllama/test_vqllama_quantizer/test_0/analysis/analysis_72_raw_predict.txt | len: 1\n"
     ]
    },
    {
     "name": "stdout",
     "output_type": "stream",
     "text": [
      "txt file saved successfully!\n",
      "Save file to /zecheng2/vqllama/test_vqllama_quantizer/test_0/analysis/analysis_72_p_predict.txt | len: 1\n",
      "txt file saved successfully!\n",
      "Save file to /zecheng2/vqllama/test_vqllama_quantizer/test_0/analysis/analysis_72_golden.txt | len: 1\n",
      "txt file saved successfully!\n",
      "Save file to /zecheng2/vqllama/test_vqllama_quantizer/test_0/analysis/analysis_80_raw_predict.txt | len: 1\n",
      "txt file saved successfully!\n",
      "Save file to /zecheng2/vqllama/test_vqllama_quantizer/test_0/analysis/analysis_80_p_predict.txt | len: 1\n",
      "txt file saved successfully!\n",
      "Save file to /zecheng2/vqllama/test_vqllama_quantizer/test_0/analysis/analysis_80_golden.txt | len: 1\n"
     ]
    }
   ],
   "source": [
    "def convert_tensor_to_str(x):\n",
    "    res = \"\"\n",
    "    for i in range(len(x)):\n",
    "        item = \"[\" + \",\".join([format(j, '5d') for j in x[i].tolist()]) + \"]\"\n",
    "        res += item + \"\\n\"\n",
    "    return res\n",
    "\n",
    "\n",
    "# TEMPLATE = \"raw predict:\\n{raw_predict}\\n\\np predict:\\n{p_predict}\\n\\ngolden:\\n{golden}\\n\\n\"\n",
    "\n",
    "for i in FILE_ID:\n",
    "    s_raw_predict = convert_tensor_to_str(raw_predict[i])\n",
    "    s_p_predict = convert_tensor_to_str(p_predict[i])\n",
    "    s_golden = convert_tensor_to_str(golden[i])\n",
    "    auto_save_data([s_raw_predict], os.path.join(ANALYSIS_DIR, f\"analysis_{i}_raw_predict.txt\"))\n",
    "    auto_save_data([s_p_predict], os.path.join(ANALYSIS_DIR, f\"analysis_{i}_p_predict.txt\"))\n",
    "    auto_save_data([s_golden], os.path.join(ANALYSIS_DIR, f\"analysis_{i}_golden.txt\"))\n",
    "    # s = TEMPLATE.format(raw_predict=s_raw_predict, p_predict=s_p_predict, golden=s_golden)\n",
    "    # auto_save_data([s], os.path.join(ANALYSIS_DIR, f\"analysis_{i}.txt\"))"
   ]
  }
 ],
 "metadata": {
  "kernelspec": {
   "display_name": "llama",
   "language": "python",
   "name": "python3"
  },
  "language_info": {
   "codemirror_mode": {
    "name": "ipython",
    "version": 3
   },
   "file_extension": ".py",
   "mimetype": "text/x-python",
   "name": "python",
   "nbconvert_exporter": "python",
   "pygments_lexer": "ipython3",
   "version": "3.10.13"
  }
 },
 "nbformat": 4,
 "nbformat_minor": 2
}
