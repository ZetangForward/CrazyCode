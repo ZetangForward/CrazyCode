{
 "cells": [
  {
   "cell_type": "code",
   "execution_count": 37,
   "metadata": {},
   "outputs": [],
   "source": [
    "import numpy as np\n",
    "import os\n",
    "import glob\n",
    "import logging\n",
    "import json\n",
    "import sys\n",
    "sys.path.append(\"/workspace/zecheng/modelzipper/projects\")\n",
    "from tqdm import tqdm\n",
    "from concurrent import futures\n",
    "from argparse import ArgumentParser\n",
    "from change_deepsvg.svglib.svg import SVG\n",
    "from change_deepsvg.svglib.geom import Bbox, Angle, Point\n",
    "from change_deepsvg.difflib.tensor import SVGTensor\n",
    "from modelzipper.tutils import *\n",
    "import torch\n",
    "from tqdm import trange\n",
    "from PIL import Image\n",
    "\n",
    "# content = auto_read_data(\"/zecheng2/vqllama/test_vqllama_quantizer/test_8/epoch_84/compress_level_1_predictions.pkl\")\n",
    "\n",
    "def sanint_check_svg_tensor(x):\n",
    "    \"\"\"\n",
    "    x: batch_size x seq_len x (7, 9)\n",
    "    \"\"\"\n",
    "    if x.ndim == 2:\n",
    "        x = x.unsqueeze(0)\n",
    "    if x.size(-1) == 9:\n",
    "        x[:, :, 0][x[:, :, 0] == 100] = 1\n",
    "        x[:, :, 0][x[:, :, 0] == 200] = 2\n",
    "    elif x.size(-1) == 7:\n",
    "        # add two columns\n",
    "        x_0_y_0 = torch.zeros((x.size(0), x.size(1), 2), dtype=x.dtype, device=x.device)\n",
    "        x_0_y_0[:, 1:, 0] = x[:, :-1, -2]  # x_3 of the previous row\n",
    "        x_0_y_0[:, 1:, 1] = x[:, :-1, -1]  # y_3 of the previous row\n",
    "        x = torch.cat((x[:, :, :1], x_0_y_0, x[:, :, 1:]), dim=2)\n",
    "    return x\n",
    "\n",
    "def convert_svg(t, colored=False):\n",
    "    svg = SVGTensor.from_data(t)\n",
    "    svg = SVG.from_tensor(svg.data, viewbox=Bbox(200))\n",
    "    svg.numericalize(n=200)\n",
    "    if colored:\n",
    "        svg = svg.normalize().split_paths().set_color(\"random\")\n",
    "    str_svg = svg.to_str()\n",
    "    return svg, str_svg\n",
    "\n",
    "\n",
    "def merge_images(\n",
    "        image_path_lst, raw_image_size_w=None, raw_image_size_h=None, image_row=10, image_col=10,\n",
    "    ):\n",
    "    image_list = []\n",
    "    for image_path in image_path_lst:\n",
    "        image = Image.open(image_path)\n",
    "        image_list.append(image)\n",
    "\n",
    "    sub_image_w = raw_image_size_w if raw_image_size_w is not None else image_list[0].size[0]\n",
    "    sub_image_h = raw_image_size_h if raw_image_size_h is not None else image_list[0].size[1]\n",
    "\n",
    "    big_image_size = (sub_image_w * image_row, sub_image_h * image_col)\n",
    "    big_image = Image.new('RGB', big_image_size)\n",
    "    big_images = []\n",
    "\n",
    "    for i, image in enumerate(image_list):\n",
    "        i = i % (image_row * image_col)\n",
    "        row = i // image_row\n",
    "        col = i % image_col\n",
    "        big_image.paste(image, (col * image.size[0], row * image.size[1]))\n",
    "        \n",
    "        if (i + 1) % (image_row * image_col) == 0:\n",
    "            big_images.append(big_image)\n",
    "            big_image = Image.new('RGB', big_image_size)\n",
    "\n",
    "    return big_images\n",
    "\n",
    "\n",
    "def open_image_with_gray_background(image_path, background_color=(255, 255, 255)):  \n",
    "    # 打开图片并转换为RGBA模式以处理透明度  \n",
    "    image = Image.open(image_path).convert('RGBA')  \n",
    "      \n",
    "    # 创建一个与原图大小相同的灰色背景图像  \n",
    "    gray_background = Image.new('RGBA', image.size, background_color + (255,))  \n",
    "      \n",
    "    # 将原始图像粘贴到灰色背景图像上，透明部分将显示为灰色  \n",
    "    combined_image = Image.alpha_composite(gray_background, image)  \n",
    "      \n",
    "    # 将合成图像转换回RGB模式，以便用于其他不支持透明度的操作  \n",
    "    combined_image = combined_image.convert('RGB')  \n",
    "      \n",
    "    return combined_image \n",
    "\n",
    "\n",
    "def merge_images2(\n",
    "    image_path_lst, raw_image_size_w=None, raw_image_size_h=None, image_row=10, image_col=10, gap_size=10, grid_color=(255, 255, 255), scale_factor=2.0, \n",
    "):\n",
    "    image_list = []\n",
    "    for image_path in image_path_lst:\n",
    "        image = open_image_with_gray_background(image_path)\n",
    "        # image = Image.open(image_path).convert('RGB')\n",
    "        image = image.resize((int(image.size[0] * scale_factor), int(image.size[1] * scale_factor)))  \n",
    "        image_list.append(image) \n",
    "\n",
    "    \n",
    "    sub_image_w = raw_image_size_w if raw_image_size_w is not None else image_list[0].size[0]\n",
    "    sub_image_h = raw_image_size_h if raw_image_size_h is not None else image_list[0].size[1]\n",
    "\n",
    "    # 计算包括网格线和空隙在内的大图尺寸\n",
    "    total_gap_w = (image_col - 1) * gap_size + gap_size * 2\n",
    "    total_gap_h = (image_row - 1) * gap_size + gap_size * 2\n",
    "    # print(sub_image_w, image_col, total_gap_w)\n",
    "    big_image_size = (sub_image_w * image_col + total_gap_w, sub_image_h * image_row + total_gap_h)\n",
    "\n",
    "    # 创建带有网格线和空隙的大图背景\n",
    "    big_image = Image.new('RGB', big_image_size, color=grid_color)\n",
    "    big_images = []\n",
    "\n",
    "    for i, image in enumerate(image_list):\n",
    "        i = i % (image_row * image_col)\n",
    "        row = i // image_col\n",
    "        col = i % image_col\n",
    "\n",
    "        x_pos = col * (sub_image_w + gap_size) + gap_size\n",
    "        y_pos = row * (sub_image_h + gap_size) + gap_size\n",
    "\n",
    "        big_image.paste(image, (x_pos, y_pos))\n",
    "        \n",
    "        # 每满一张大图，就将其添加到big_images列表中，并创建新的大图\n",
    "        if (i + 1) % (image_row * image_col) == 0 or (i + 1) == len(image_list):\n",
    "            big_images.append(big_image)\n",
    "            big_image = Image.new('RGB', big_image_size, color=grid_color)\n",
    "\n",
    "    # # 如果提供了保存目录，则将大图保存为PDF\n",
    "    # if save_dir:\n",
    "    #     for index, big_image in enumerate(big_images):\n",
    "    #         save_path = f\"{save_dir}/big_image_{index}.{image_suffix}\"\n",
    "    #         big_image.save(save_path)\n",
    "\n",
    "    #     # 将所有大图合并为单个PDF文件\n",
    "    #     big_images[0].save(f\"{save_dir}/merged_images.pdf\", save_all=True, append_images=big_images[1:])\n",
    "\n",
    "    return big_images\n",
    "\n",
    "\n"
   ]
  },
  {
   "cell_type": "code",
   "execution_count": 2,
   "metadata": {},
   "outputs": [
    {
     "name": "stdout",
     "output_type": "stream",
     "text": [
      "begin to read data from /zecheng2/vqllama/test_vqllama_quantizer/test_8/epoch_84/normal/compress_level_1_predictions.pkl ...\n"
     ]
    }
   ],
   "source": [
    "content_1 = auto_read_data(\"/zecheng2/vqllama/test_vqllama_quantizer/test_8/epoch_84/normal/compress_level_1_predictions.pkl\")"
   ]
  },
  {
   "cell_type": "code",
   "execution_count": 6,
   "metadata": {},
   "outputs": [
    {
     "data": {
      "text/plain": [
       "dict_keys(['raw_predict', 'p_predict1', 'p_predict2', 'golden'])"
      ]
     },
     "execution_count": 6,
     "metadata": {},
     "output_type": "execute_result"
    }
   ],
   "source": [
    "content_1.keys()"
   ]
  },
  {
   "cell_type": "markdown",
   "metadata": {},
   "source": [
    "## Analysis"
   ]
  },
  {
   "cell_type": "code",
   "execution_count": null,
   "metadata": {},
   "outputs": [],
   "source": [
    "\n",
    "anaylsis_id = [250, 271, 329, 295]\n",
    "\n",
    "COMPRESS_1 = \"/zecheng2/vqllama/test_vqllama_quantizer/test_8/epoch_84/normal/visualized_compress_level_1/single_image\"\n",
    "COMPRESS_2 = \"/zecheng2/vqllama/test_vqllama_quantizer/test_8/epoch_84/normal/visualized_compress_level_2/single_image\"\n",
    "\n",
    "\n",
    "SUFFIX_P1, SUFFIX_P2, GOLDEN = \"{id}_p_svg1.png\", \"{id}_p_svg2.png\", \"{id}_g_svg.png\"\n",
    "\n",
    "compress1_p1 = [os.path.join(COMPRESS_1, SUFFIX_P1.format(id=i)) for i in anaylsis_id]\n",
    "compress1_p2 = [os.path.join(COMPRESS_1, SUFFIX_P2.format(id=i)) for i in anaylsis_id]\n",
    "compress2_p1 = [os.path.join(COMPRESS_2, SUFFIX_P1.format(id=i)) for i in anaylsis_id]\n",
    "compress1_g = [os.path.join(COMPRESS_1, GOLDEN.format(id=i)) for i in anaylsis_id]\n",
    "\n",
    "all_images_0 = [compress1_p2[0]] + [compress1_p1[0]] + [compress2_p1[0]] + [compress1_g[0]]\n",
    "all_images_1 = [compress1_p2[1]] + [compress1_p1[1]] + [compress2_p1[1]] + [compress1_g[1]]\n",
    "all_images_2 = [compress1_p2[2]] + [compress1_p1[2]] + [compress2_p1[2]] + [compress1_g[2]]\n",
    "all_images_3 = [compress1_p2[3]] + [compress1_p1[3]] + [compress2_p1[3]] + [compress1_g[3]]\n",
    "\n",
    "all_images = all_images_0 + all_images_1 + all_images_2 + all_images_3\n",
    "\n",
    "\n",
    "big_map1 = merge_images2(image_path_lst=all_images, image_row=4, image_col=4, gap_size=5, grid_color = (0, 0, 0))[0]\n",
    "big_map1.save(\"/workspace/zecheng/modelzipper/projects/custom_llama/notebook/analysis_white.pdf\")\n"
   ]
  },
  {
   "cell_type": "markdown",
   "metadata": {},
   "source": [
    "## Merge Big Figures "
   ]
  },
  {
   "cell_type": "code",
   "execution_count": 3,
   "metadata": {},
   "outputs": [],
   "source": [
    "ID = [0, 5, 52, 117, 147, 246, 378, 490, 447, 486, 590, 526, 661, 610, 631, 736, 879, 856, 836, 972, 960, 979, 1038, 1081, 1250, 1284, 1293, 1326, 1407, 1534, 1594, 1740, 1780]  #35"
   ]
  },
  {
   "cell_type": "code",
   "execution_count": 39,
   "metadata": {},
   "outputs": [
    {
     "name": "stdout",
     "output_type": "stream",
     "text": [
      "[36, 196, 200, 1202, 815]\n"
     ]
    }
   ],
   "source": [
    "# ID = [972, 147, 486, 526, 979]  #35\n",
    "ID = [36, 196, 200, 463, 494, 1202, 977, 815]\n",
    "sampled_ID = [36, 196, 200, 1202,815]\n",
    "num_rows = 5\n",
    "\n",
    "# sampled_ID = ID\n",
    "# sampled_ID = random.sample(ID, num_rows)\n",
    "\n",
    "print(sampled_ID)\n",
    "\n",
    "# COMPRESS_1 = \"/zecheng2/vqllama/test_vqllama_quantizer/test_8/epoch_84/normal/visualized_compress_level_1/single_image\"\n",
    "\n",
    "# COMPRESS_2 = \"/zecheng2/vqllama/test_vqllama_quantizer/test_8/epoch_84/normal/visualized_compress_level_2/single_image\"\n",
    "\n",
    "# COMPRESS_1 = \"/zecheng2/vqllama/test_vqllama_quantizer/test_14/epoch_75/all/visualized_compress_level_1/single_image\"\n",
    "# COMPRESS_2 = \"/zecheng2/vqllama/test_vqllama_quantizer/test_14/epoch_75/all/visualized_compress_level_2/single_image\"\n",
    "\n",
    "COMPRESS_1 = \"/workspace/zecheng/modelzipper/projects/custom_llama/tmp_save_png/reconstruction/CL1\"\n",
    "COMPRESS_2 = \"/workspace/zecheng/modelzipper/projects/custom_llama/tmp_save_png/reconstruction/CL2\"\n",
    "\n",
    "SUFFIX_P1, SUFFIX_P2, GOLDEN = \"{id}_p_svg1.png\", \"{id}_p_svg2.png\", \"{id}_g_svg.png\"\n",
    "\n",
    "\n",
    "compress1_p1 = [os.path.join(COMPRESS_1, SUFFIX_P1.format(id=i)) for i in sampled_ID]\n",
    "compress1_p2 = [os.path.join(COMPRESS_1, SUFFIX_P2.format(id=i)) for i in sampled_ID]\n",
    "compress1_g = [os.path.join(COMPRESS_1, GOLDEN.format(id=i)) for i in sampled_ID]\n",
    "compress2_p1 = [os.path.join(COMPRESS_2, SUFFIX_P1.format(id=i)) for i in sampled_ID]\n",
    "compress2_p2 = [os.path.join(COMPRESS_2, SUFFIX_P2.format(id=i)) for i in sampled_ID]\n",
    "compress2_g = [os.path.join(COMPRESS_2, GOLDEN.format(id=i)) for i in sampled_ID]\n",
    "\n",
    "\n",
    "\n",
    "merge_sample_lst1 = compress1_p1[:num_rows] + compress1_p2[:num_rows] + compress2_p1 + compress1_g[:num_rows]\n",
    "\n",
    "# merge_sample_lst2 = compress1_p1[num_rows:num_rows*2] + compress1_p2[num_rows:num_rows*2] + compress1_g[num_rows:num_rows*2]\n",
    "\n",
    "big_map1 = merge_images2(image_path_lst=merge_sample_lst1, image_row=4, image_col=num_rows, gap_size=5, grid_color = (0, 0, 0))[0]\n",
    "# big_map2 = merge_images2(image_path_lst=merge_sample_lst2, image_row=3, image_col=num_rows, gap_size=5, grid_color = (0, 0, 0))[0]\n",
    "\n",
    "big_map1.save(\"/workspace/zecheng/modelzipper/projects/custom_llama/notebook/recon_c1_sample_1_white.png\")\n",
    "# big_map2.save(\"/workspace/zecheng/modelzipper/projects/custom_llama/notebook/recon_c1_sample_2_white.pdf\")"
   ]
  },
  {
   "cell_type": "code",
   "execution_count": 27,
   "metadata": {},
   "outputs": [],
   "source": [
    "merge_sample_lst3 = merge_sample_lst1 + merge_sample_lst2\n",
    "\n",
    "big_map1 = merge_images2(image_path_lst=merge_sample_lst3, image_row=6, image_col=12, gap_size=5)[0]\n",
    "# big_map2 = merge_images2(image_path_lst=merge_sample_lst2, image_row=3, image_col=12, gap_size=5)[0]\n",
    "\n",
    "big_map1.save(\"/workspace/zecheng/modelzipper/projects/custom_llama/notebook/recon_c1_sample_3.pdf\")\n",
    "# big_map2.save(\"/workspace/zecheng/modelzipper/projects/custom_llama/notebook/recon_c1_sample_2.pdf\")"
   ]
  },
  {
   "cell_type": "markdown",
   "metadata": {},
   "source": [
    "## Analysis single image"
   ]
  },
  {
   "cell_type": "code",
   "execution_count": 9,
   "metadata": {},
   "outputs": [
    {
     "name": "stdout",
     "output_type": "stream",
     "text": [
      "torch.Size([278, 9])\n",
      "torch.Size([200, 9])\n",
      "torch.Size([200, 9])\n"
     ]
    }
   ],
   "source": [
    "p_predict = content['p_predict']\n",
    "raw_predict = content['raw_predict']\n",
    "golden = content['golden']\n",
    "\n",
    "sample_p_0 = p_predict[0]\n",
    "sample_r_0 = raw_predict[0]\n",
    "sample_g_0 = golden[0] \n",
    "\n",
    "sample_p_0 = sanint_check_svg_tensor(sample_p_0).squeeze(0)\n",
    "sample_r_0 = sanint_check_svg_tensor(sample_r_0).squeeze(0)\n",
    "sample_g_0 = sanint_check_svg_tensor(sample_g_0).squeeze(0)\n",
    "\n",
    "print(sample_p_0.shape)\n",
    "print(sample_r_0.shape)\n",
    "print(sample_g_0.shape)"
   ]
  },
  {
   "cell_type": "code",
   "execution_count": 10,
   "metadata": {},
   "outputs": [
    {
     "data": {
      "image/svg+xml": [
       "<svg xmlns=\"http://www.w3.org/2000/svg\" viewBox=\"0.0 0.0 24.0 24.0\" height=\"200px\" width=\"200px\"><path fill=\"none\" stroke=\"deepskyblue\" stroke-width=\".3\" stroke-opacity=\"1.0\" filling=\"0\" d=\"M18.719999313354492 12.359999656677246 L18.959999084472656 23.399999618530273 L5.880000114440918 23.399999618530273\"/>\n",
       "<path fill=\"none\" stroke=\"lime\" stroke-width=\".3\" stroke-opacity=\"1.0\" filling=\"0\" d=\"M6.0 23.279998779296875 L5.760000228881836 1.8000001907348633\"/>\n",
       "<path fill=\"none\" stroke=\"deeppink\" stroke-width=\".3\" stroke-opacity=\"1.0\" filling=\"0\" d=\"M5.760000228881836 1.6800003051757812 L18.600000381469727 1.6800003051757812 L18.84000015258789 12.479999542236328 L18.959999084472656 12.479999542236328\"/>\n",
       "<path fill=\"none\" stroke=\"gold\" stroke-width=\".3\" stroke-opacity=\"1.0\" filling=\"0\" d=\"M11.640000343322754 2.40000057220459 C11.039999961853027 2.640000343322754 10.5600004196167 3.7200002670288086 10.5600004196167 4.559999942779541\"/>\n",
       "<path fill=\"none\" stroke=\"coral\" stroke-width=\".3\" stroke-opacity=\"1.0\" filling=\"0\" d=\"M10.5600004196167 4.680000305175781 C10.440000534057617 6.12000036239624 12.119999885559082 7.440000057220459 13.559999465942383 6.960000038146973 C15.119999885559082 6.360000133514404 15.600000381469727 3.7200002670288086 13.920000076293945 2.520000457763672 C13.079999923706055 2.0399999618530273 12.239999771118164 1.6800003051757812 11.760000228881836 2.0399999618530273\"/>\n",
       "<path fill=\"none\" stroke=\"darkviolet\" stroke-width=\".3\" stroke-opacity=\"1.0\" filling=\"0\" d=\"M11.880000114440918 2.0399999618530273 L11.640000343322754 2.0399999618530273\"/>\n",
       "<path fill=\"none\" stroke=\"royalblue\" stroke-width=\".3\" stroke-opacity=\"1.0\" filling=\"0\" d=\"M13.680000305175781 3.3600006103515625 C15.0 4.080000400543213 15.239999771118164 5.28000020980835 14.639999389648438 6.480000019073486 C14.520000457763672 7.440000057220459 13.559999465942383 8.039999961853027 12.600000381469727 7.920000076293945\"/>\n",
       "<path fill=\"none\" stroke=\"darkmagenta\" stroke-width=\".3\" stroke-opacity=\"1.0\" filling=\"0\" d=\"M12.600000381469727 7.800000190734863 C10.920000076293945 7.800000190734863 9.84000015258789 6.360000133514404 10.199999809265137 4.920000076293945 C10.319999694824219 3.3600006103515625 12.119999885559082 2.520000457763672 13.800000190734863 3.239999771118164 L13.920000076293945 3.239999771118164\"/>\n",
       "<path fill=\"none\" stroke=\"teal\" stroke-width=\".3\" stroke-opacity=\"1.0\" filling=\"0\" d=\"M11.279999732971191 4.320000171661377 C11.039999961853027 4.440000057220459 11.039999961853027 4.920000076293945 11.15999984741211 5.640000343322754 C11.279999732971191 6.0 11.520000457763672 6.360000133514404 12.0 6.360000133514404\"/>\n",
       "<path fill=\"none\" stroke=\"gold\" stroke-width=\".3\" stroke-opacity=\"1.0\" filling=\"0\" d=\"M12.0 6.240000247955322 C12.600000381469727 6.480000019073486 13.319999694824219 6.12000036239624 13.199999809265137 5.28000020980835 C13.079999923706055 4.320000171661377 12.119999885559082 3.7200002670288086 11.279999732971191 4.200000286102295 L11.279999732971191 3.9600000381469727\"/>\n",
       "<path fill=\"none\" stroke=\"green\" stroke-width=\".3\" stroke-opacity=\"1.0\" filling=\"0\" d=\"M12.600000381469727 4.320000171661377 C12.960000038146973 4.800000190734863 12.960000038146973 5.28000020980835 12.720000267028809 5.640000343322754 C12.720000267028809 5.880000114440918 12.479999542236328 5.880000114440918 12.119999885559082 5.880000114440918 C11.880000114440918 5.880000114440918 11.640000343322754 5.640000343322754 11.520000457763672 5.400000095367432 C11.399999618530273 5.039999961853027 11.399999618530273 4.680000305175781 11.520000457763672 4.320000171661377\"/>\n",
       "<path fill=\"none\" stroke=\"maroon\" stroke-width=\".3\" stroke-opacity=\"1.0\" filling=\"0\" d=\"M11.520000457763672 4.440000057220459 C11.760000228881836 3.9600000381469727 12.0 3.8400001525878906 12.119999885559082 3.8400001525878906 C12.359999656677246 3.8400001525878906 12.479999542236328 4.080000400543213 12.600000381469727 4.320000171661377 L12.479999542236328 4.320000171661377\"/>\n",
       "<path fill=\"none\" stroke=\"aqua\" stroke-width=\".3\" stroke-opacity=\"1.0\" filling=\"0\" d=\"M9.119999885559082 8.279999732971191 C8.399999618530273 8.760000228881836 7.680000305175781 9.479999542236328 7.200000286102295 10.199999809265137\"/>\n",
       "<path fill=\"none\" stroke=\"grey\" stroke-width=\".3\" stroke-opacity=\"1.0\" filling=\"0\" d=\"M7.200000286102295 10.319999694824219 L6.720000267028809 11.039999961853027\"/>\n",
       "<path fill=\"none\" stroke=\"steelblue\" stroke-width=\".3\" stroke-opacity=\"1.0\" filling=\"0\" d=\"M6.840000152587891 11.039999961853027 L6.840000152587891 13.559999465942383 C6.960000038146973 15.359999656677246 7.200000286102295 16.200000762939453 7.440000057220459 17.040000915527344\"/>\n",
       "<path fill=\"none\" stroke=\"lime\" stroke-width=\".3\" stroke-opacity=\"1.0\" filling=\"0\" d=\"M7.559999942779541 17.040000915527344 C7.920000076293945 17.8799991607666 8.399999618530273 18.600000381469727 8.880000114440918 18.959999084472656\"/>\n",
       "<path fill=\"none\" stroke=\"orange\" stroke-width=\".3\" stroke-opacity=\"1.0\" filling=\"0\" d=\"M9.0 18.959999084472656 L9.479999542236328 19.440000534057617\"/>\n",
       "<path fill=\"none\" stroke=\"deepskyblue\" stroke-width=\".3\" stroke-opacity=\"1.0\" filling=\"0\" d=\"M9.360000610351562 19.440000534057617 L14.639999389648438 19.559999465942383 L15.600000381469727 19.079999923706055\"/>\n",
       "<path fill=\"none\" stroke=\"lime\" stroke-width=\".3\" stroke-opacity=\"1.0\" filling=\"0\" d=\"M15.479999542236328 19.079999923706055 C16.440000534057617 18.479999542236328 17.279998779296875 17.760000228881836 17.8799991607666 17.040000915527344 C18.479999542236328 16.31999969482422 18.719999313354492 15.359999656677246 18.719999313354492 13.319999694824219\"/>\n",
       "<path fill=\"none\" stroke=\"deeppink\" stroke-width=\".3\" stroke-opacity=\"1.0\" filling=\"0\" d=\"M18.719999313354492 13.199999809265137 C18.600000381469727 11.520000457763672 18.479999542236328 10.800000190734863 18.239999771118164 10.079999923706055 C17.8799991607666 9.720000267028809 17.15999984741211 9.0 16.200000762939453 8.279999732971191\"/>\n",
       "<path fill=\"none\" stroke=\"gold\" stroke-width=\".3\" stroke-opacity=\"1.0\" filling=\"0\" d=\"M16.31999969482422 8.279999732971191 L15.359999656677246 7.559999942779541 L9.720000267028809 7.559999942779541\"/>\n",
       "<path fill=\"none\" stroke=\"coral\" stroke-width=\".3\" stroke-opacity=\"1.0\" filling=\"0\" d=\"M9.600000381469727 7.559999942779541 L9.360000610351562 8.039999961853027\"/>\n",
       "<path fill=\"none\" stroke=\"darkviolet\" stroke-width=\".3\" stroke-opacity=\"1.0\" filling=\"0\" d=\"M9.479999542236328 8.039999961853027 L9.360000610351562 8.15999984741211\"/>\n",
       "<path fill=\"none\" stroke=\"royalblue\" stroke-width=\".3\" stroke-opacity=\"1.0\" filling=\"0\" d=\"M16.079999923706055 8.399999618530273 C16.799999237060547 8.640000343322754 17.279998779296875 9.239999771118164 17.520000457763672 9.84000015258789 C18.0 10.440000534057617 18.119998931884766 11.279999732971191 18.0 13.680000305175781\"/>\n",
       "<path fill=\"none\" stroke=\"darkmagenta\" stroke-width=\".3\" stroke-opacity=\"1.0\" filling=\"0\" d=\"M18.0 13.559999465942383 L18.119998931884766 16.799999237060547\"/>\n",
       "<path fill=\"none\" stroke=\"teal\" stroke-width=\".3\" stroke-opacity=\"1.0\" filling=\"0\" d=\"M18.0 16.799999237060547 L17.639999389648438 17.520000457763672\"/>\n",
       "<path fill=\"none\" stroke=\"gold\" stroke-width=\".3\" stroke-opacity=\"1.0\" filling=\"0\" d=\"M17.520000457763672 17.520000457763672 C17.040000915527344 18.239999771118164 16.31999969482422 18.600000381469727 15.359999656677246 18.84000015258789 L14.520000457763672 19.079999923706055 L11.640000343322754 18.959999084472656\"/>\n",
       "<path fill=\"none\" stroke=\"green\" stroke-width=\".3\" stroke-opacity=\"1.0\" filling=\"0\" d=\"M11.520000457763672 18.959999084472656 C9.360000610351562 18.84000015258789 8.640000343322754 18.600000381469727 8.399999618530273 18.119998931884766 C8.039999961853027 18.0 7.680000305175781 17.639999389648438 7.440000057220459 17.040000915527344 L7.200000286102295 16.559999465942383 L7.079999923706055 10.920000076293945\"/>\n",
       "<path fill=\"none\" stroke=\"maroon\" stroke-width=\".3\" stroke-opacity=\"1.0\" filling=\"0\" d=\"M7.079999923706055 10.800000190734863 L7.320000171661377 10.199999809265137 C7.559999942779541 9.600000381469727 8.039999961853027 9.119999885559082 8.520000457763672 8.880000114440918\"/>\n",
       "<path fill=\"none\" stroke=\"aqua\" stroke-width=\".3\" stroke-opacity=\"1.0\" filling=\"0\" d=\"M8.520000457763672 8.760000228881836 C8.880000114440918 8.399999618530273 9.84000015258789 8.15999984741211 11.880000114440918 8.15999984741211\"/>\n",
       "<path fill=\"none\" stroke=\"grey\" stroke-width=\".3\" stroke-opacity=\"1.0\" filling=\"0\" d=\"M12.0 8.15999984741211 L15.0 7.920000076293945\"/>\n",
       "<path fill=\"none\" stroke=\"steelblue\" stroke-width=\".3\" stroke-opacity=\"1.0\" filling=\"0\" d=\"M15.0 8.039999961853027 L15.239999771118164 8.520000457763672\"/>\n",
       "<path fill=\"none\" stroke=\"lime\" stroke-width=\".3\" stroke-opacity=\"1.0\" filling=\"0\" d=\"M15.239999771118164 8.399999618530273 L15.239999771118164 8.520000457763672\"/>\n",
       "<path fill=\"none\" stroke=\"orange\" stroke-width=\".3\" stroke-opacity=\"1.0\" filling=\"0\" d=\"M12.119999885559082 8.399999618530273 C10.680000305175781 8.760000228881836 9.119999885559082 10.079999923706055 8.399999618530273 11.399999618530273\"/>\n",
       "<path fill=\"none\" stroke=\"deepskyblue\" stroke-width=\".3\" stroke-opacity=\"1.0\" filling=\"0\" d=\"M8.279999732971191 11.399999618530273 C7.920000076293945 12.119999885559082 7.680000305175781 12.600000381469727 7.800000190734863 13.079999923706055 C7.800000190734863 13.800000190734863 7.920000076293945 14.15999984741211 8.15999984741211 14.760000228881836\"/>\n",
       "<path fill=\"none\" stroke=\"lime\" stroke-width=\".3\" stroke-opacity=\"1.0\" filling=\"0\" d=\"M8.15999984741211 14.880000114440918 C8.279999732971191 15.600000381469727 8.399999618530273 16.079999923706055 8.880000114440918 16.559999465942383\"/>\n",
       "<path fill=\"none\" stroke=\"deeppink\" stroke-width=\".3\" stroke-opacity=\"1.0\" filling=\"0\" d=\"M8.880000114440918 16.440000534057617 C9.360000610351562 17.040000915527344 9.600000381469727 17.15999984741211 9.84000015258789 17.15999984741211 C10.079999923706055 17.279998779296875 10.079999923706055 17.15999984741211 9.600000381469727 16.920000076293945 C9.239999771118164 16.440000534057617 8.760000228881836 15.84000015258789 8.279999732971191 14.760000228881836 C7.800000190734863 13.680000305175781 7.680000305175781 12.600000381469727 8.15999984741211 11.640000343322754 C8.520000457763672 10.5600004196167 9.239999771118164 9.84000015258789 10.680000305175781 9.479999542236328 C11.880000114440918 9.0 12.960000038146973 9.119999885559082 14.039999961853027 9.720000267028809 C15.359999656677246 10.079999923706055 16.31999969482422 11.15999984741211 16.559999465942383 12.720000267028809 C16.799999237060547 13.680000305175781 16.799999237060547 14.399999618530273 16.68000030517578 15.119999885559082\"/>\n",
       "<path fill=\"none\" stroke=\"gold\" stroke-width=\".3\" stroke-opacity=\"1.0\" filling=\"0\" d=\"M16.559999465942383 15.119999885559082 C16.440000534057617 16.079999923706055 15.600000381469727 16.799999237060547 14.760000228881836 17.15999984741211\"/>\n",
       "<path fill=\"none\" stroke=\"coral\" stroke-width=\".3\" stroke-opacity=\"1.0\" filling=\"0\" d=\"M14.760000228881836 17.279998779296875 C13.680000305175781 17.760000228881836 12.119999885559082 17.639999389648438 11.15999984741211 17.279998779296875 C10.680000305175781 17.279998779296875 10.5600004196167 17.279998779296875 10.680000305175781 17.399999618530273\"/>\n",
       "<path fill=\"none\" stroke=\"darkviolet\" stroke-width=\".3\" stroke-opacity=\"1.0\" filling=\"0\" d=\"M10.680000305175781 17.520000457763672 C11.039999961853027 17.760000228881836 11.399999618530273 18.0 12.119999885559082 18.0\"/>\n",
       "<path fill=\"none\" stroke=\"royalblue\" stroke-width=\".3\" stroke-opacity=\"1.0\" filling=\"0\" d=\"M12.0 18.0 C12.720000267028809 18.360000610351562 13.4399995803833 18.239999771118164 14.399999618530273 17.8799991607666 C15.960000038146973 17.279998779296875 16.799999237060547 15.84000015258789 16.799999237060547 14.039999961853027\"/>\n",
       "<path fill=\"none\" stroke=\"darkmagenta\" stroke-width=\".3\" stroke-opacity=\"1.0\" filling=\"0\" d=\"M16.799999237060547 13.920000076293945 C17.279998779296875 10.440000534057617 14.760000228881836 8.039999961853027 11.640000343322754 8.399999618530273\"/>\n",
       "<path fill=\"none\" stroke=\"teal\" stroke-width=\".3\" stroke-opacity=\"1.0\" filling=\"0\" d=\"M11.760000228881836 8.279999732971191 L11.880000114440918 8.520000457763672\"/>\n",
       "<path fill=\"none\" stroke=\"gold\" stroke-width=\".3\" stroke-opacity=\"1.0\" filling=\"0\" d=\"M12.960000038146973 9.84000015258789 C13.079999923706055 9.960000038146973 13.319999694824219 9.960000038146973 13.4399995803833 9.960000038146973 C13.559999465942383 9.84000015258789 13.559999465942383 9.84000015258789 13.680000305175781 9.960000038146973\"/>\n",
       "<path fill=\"none\" stroke=\"green\" stroke-width=\".3\" stroke-opacity=\"1.0\" filling=\"0\" d=\"M13.559999465942383 9.960000038146973 C13.559999465942383 9.84000015258789 13.319999694824219 9.84000015258789 12.960000038146973 9.600000381469727 L12.479999542236328 9.360000610351562\"/>\n",
       "<path fill=\"none\" stroke=\"maroon\" stroke-width=\".3\" stroke-opacity=\"1.0\" filling=\"0\" d=\"M12.479999542236328 9.479999542236328 L12.359999656677246 9.84000015258789 L12.359999656677246 9.960000038146973\"/>\n",
       "<path fill=\"none\" stroke=\"aqua\" stroke-width=\".3\" stroke-opacity=\"1.0\" filling=\"0\" d=\"M11.760000228881836 10.079999923706055 C11.760000228881836 10.199999809265137 11.760000228881836 10.319999694824219 11.880000114440918 10.199999809265137\"/>\n",
       "<path fill=\"none\" stroke=\"grey\" stroke-width=\".3\" stroke-opacity=\"1.0\" filling=\"0\" d=\"M11.760000228881836 10.199999809265137 C12.0 10.199999809265137 11.880000114440918 9.960000038146973 11.760000228881836 10.079999923706055\"/>\n",
       "<path fill=\"none\" stroke=\"steelblue\" stroke-width=\".3\" stroke-opacity=\"1.0\" filling=\"0\" d=\"M11.880000114440918 9.960000038146973 C11.760000228881836 9.960000038146973 11.760000228881836 10.079999923706055 11.880000114440918 10.199999809265137 L11.760000228881836 10.079999923706055\"/>\n",
       "<path fill=\"none\" stroke=\"lime\" stroke-width=\".3\" stroke-opacity=\"1.0\" filling=\"0\" d=\"M11.399999618530273 10.199999809265137 C11.399999618530273 10.319999694824219 11.279999732971191 10.319999694824219 11.15999984741211 10.199999809265137 C11.15999984741211 10.079999923706055 11.279999732971191 9.960000038146973 11.279999732971191 9.960000038146973 C11.520000457763672 9.84000015258789 11.520000457763672 9.84000015258789 11.399999618530273 10.079999923706055 L11.520000457763672 9.960000038146973\"/>\n",
       "<path fill=\"none\" stroke=\"orange\" stroke-width=\".3\" stroke-opacity=\"1.0\" filling=\"0\" d=\"M14.760000228881836 10.5600004196167 C15.119999885559082 10.800000190734863 15.239999771118164 10.920000076293945 15.239999771118164 11.039999961853027\"/>\n",
       "<path fill=\"none\" stroke=\"deepskyblue\" stroke-width=\".3\" stroke-opacity=\"1.0\" filling=\"0\" d=\"M15.119999885559082 11.039999961853027 C15.239999771118164 11.039999961853027 14.279999732971191 10.5600004196167 14.279999732971191 10.440000534057617\"/>\n",
       "<path fill=\"none\" stroke=\"lime\" stroke-width=\".3\" stroke-opacity=\"1.0\" filling=\"0\" d=\"M14.279999732971191 10.319999694824219 C14.279999732971191 10.199999809265137 14.520000457763672 10.319999694824219 14.639999389648438 10.5600004196167 L14.639999389648438 10.5600004196167\"/>\n",
       "<path fill=\"none\" stroke=\"deeppink\" stroke-width=\".3\" stroke-opacity=\"1.0\" filling=\"0\" d=\"M9.720000267028809 10.680000305175781 C9.479999542236328 11.039999961853027 9.600000381469727 11.15999984741211 10.199999809265137 10.920000076293945\"/>\n",
       "<path fill=\"none\" stroke=\"gold\" stroke-width=\".3\" stroke-opacity=\"1.0\" filling=\"0\" d=\"M10.199999809265137 11.039999961853027 C10.5600004196167 10.800000190734863 10.680000305175781 10.319999694824219 10.5600004196167 10.199999809265137 C10.319999694824219 10.079999923706055 9.960000038146973 10.319999694824219 9.84000015258789 10.440000534057617 L9.84000015258789 10.440000534057617\"/>\n",
       "<path fill=\"none\" stroke=\"coral\" stroke-width=\".3\" stroke-opacity=\"1.0\" filling=\"0\" d=\"M15.239999771118164 11.279999732971191 C15.479999542236328 12.0 15.600000381469727 12.960000038146973 15.720000267028809 13.4399995803833 C15.960000038146973 13.680000305175781 16.079999923706055 13.800000190734863 16.200000762939453 13.680000305175781 C16.440000534057617 13.4399995803833 15.84000015258789 11.399999618530273 15.600000381469727 11.039999961853027\"/>\n",
       "<path fill=\"none\" stroke=\"darkviolet\" stroke-width=\".3\" stroke-opacity=\"1.0\" filling=\"0\" d=\"M15.600000381469727 11.15999984741211 C15.359999656677246 10.800000190734863 15.479999542236328 10.800000190734863 15.600000381469727 11.15999984741211 L15.720000267028809 11.039999961853027\"/>\n",
       "<path fill=\"none\" stroke=\"royalblue\" stroke-width=\".3\" stroke-opacity=\"1.0\" filling=\"0\" d=\"M9.239999771118164 11.880000114440918 C9.0 12.119999885559082 8.880000114440918 12.600000381469727 9.0 13.079999923706055\"/>\n",
       "<path fill=\"none\" stroke=\"darkmagenta\" stroke-width=\".3\" stroke-opacity=\"1.0\" filling=\"0\" d=\"M9.0 12.960000038146973 L9.0 13.800000190734863\"/>\n",
       "<path fill=\"none\" stroke=\"teal\" stroke-width=\".3\" stroke-opacity=\"1.0\" filling=\"0\" d=\"M9.0 13.680000305175781 L9.119999885559082 13.199999809265137 C9.239999771118164 12.600000381469727 9.239999771118164 12.239999771118164 9.239999771118164 12.0 C9.239999771118164 11.760000228881836 9.360000610351562 11.520000457763672 9.360000610351562 11.520000457763672 C9.360000610351562 11.520000457763672 9.360000610351562 11.640000343322754 9.239999771118164 11.760000228881836 L9.360000610351562 11.640000343322754\"/>\n",
       "<path fill=\"none\" stroke=\"gold\" stroke-width=\".3\" stroke-opacity=\"1.0\" filling=\"0\" d=\"M12.239999771118164 11.760000228881836 C12.359999656677246 12.0 12.479999542236328 12.119999885559082 12.720000267028809 12.119999885559082 C12.960000038146973 12.239999771118164 13.079999923706055 12.119999885559082 12.84000015258789 12.0 C12.720000267028809 11.880000114440918 12.359999656677246 11.760000228881836 12.239999771118164 11.880000114440918 L12.359999656677246 11.880000114440918\"/>\n",
       "<path fill=\"none\" stroke=\"green\" stroke-width=\".3\" stroke-opacity=\"1.0\" filling=\"0\" d=\"M12.0 12.359999656677246 C12.0 12.359999656677246 11.880000114440918 12.479999542236328 11.880000114440918 12.479999542236328 C11.880000114440918 12.479999542236328 11.880000114440918 12.359999656677246 12.0 12.359999656677246\"/>\n",
       "<path fill=\"none\" stroke=\"maroon\" stroke-width=\".3\" stroke-opacity=\"1.0\" filling=\"0\" d=\"M11.880000114440918 12.359999656677246 C12.0 12.119999885559082 12.0 12.119999885559082 12.0 12.239999771118164 L12.0 12.239999771118164\"/>\n",
       "<path fill=\"none\" stroke=\"aqua\" stroke-width=\".3\" stroke-opacity=\"1.0\" filling=\"0\" d=\"M13.199999809265137 12.84000015258789 C13.4399995803833 12.960000038146973 13.4399995803833 13.079999923706055 13.559999465942383 13.079999923706055 C13.680000305175781 13.079999923706055 13.4399995803833 12.960000038146973 13.199999809265137 12.84000015258789\"/>\n",
       "<path fill=\"none\" stroke=\"grey\" stroke-width=\".3\" stroke-opacity=\"1.0\" filling=\"0\" d=\"M13.319999694824219 12.84000015258789 C13.199999809265137 12.720000267028809 13.079999923706055 12.720000267028809 13.079999923706055 12.600000381469727 C13.079999923706055 12.600000381469727 13.199999809265137 12.720000267028809 13.319999694824219 12.84000015258789\"/>\n",
       "<path fill=\"none\" stroke=\"steelblue\" stroke-width=\".3\" stroke-opacity=\"1.0\" filling=\"0\" d=\"M13.319999694824219 12.720000267028809 L13.319999694824219 12.720000267028809\"/>\n",
       "<path fill=\"none\" stroke=\"lime\" stroke-width=\".3\" stroke-opacity=\"1.0\" filling=\"0\" d=\"M11.15999984741211 13.079999923706055 C11.15999984741211 13.319999694824219 11.15999984741211 13.319999694824219 11.15999984741211 13.319999694824219 C11.15999984741211 13.319999694824219 11.15999984741211 13.079999923706055 11.15999984741211 12.960000038146973 C11.15999984741211 12.84000015258789 11.15999984741211 12.720000267028809 11.15999984741211 12.720000267028809 C11.15999984741211 12.84000015258789 11.15999984741211 12.960000038146973 11.15999984741211 12.960000038146973 L11.279999732971191 12.960000038146973\"/>\n",
       "<path fill=\"none\" stroke=\"orange\" stroke-width=\".3\" stroke-opacity=\"1.0\" filling=\"0\" d=\"M13.4399995803833 13.199999809265137 C13.559999465942383 13.559999465942383 13.680000305175781 13.800000190734863 13.800000190734863 13.800000190734863\"/>\n",
       "<path fill=\"none\" stroke=\"deepskyblue\" stroke-width=\".3\" stroke-opacity=\"1.0\" filling=\"0\" d=\"M13.800000190734863 13.680000305175781 C13.920000076293945 13.680000305175781 13.920000076293945 13.4399995803833 13.800000190734863 13.319999694824219\"/>\n",
       "<path fill=\"none\" stroke=\"lime\" stroke-width=\".3\" stroke-opacity=\"1.0\" filling=\"0\" d=\"M13.800000190734863 13.199999809265137 C13.680000305175781 12.960000038146973 13.559999465942383 12.960000038146973 13.559999465942383 13.199999809265137 L13.559999465942383 13.199999809265137\"/>\n",
       "<path fill=\"none\" stroke=\"deeppink\" stroke-width=\".3\" stroke-opacity=\"1.0\" filling=\"0\" d=\"M11.15999984741211 13.4399995803833 C11.15999984741211 13.680000305175781 11.15999984741211 14.039999961853027 11.279999732971191 14.15999984741211 C11.640000343322754 14.279999732971191 11.880000114440918 14.399999618530273 12.359999656677246 14.399999618530273\"/>\n",
       "<path fill=\"none\" stroke=\"gold\" stroke-width=\".3\" stroke-opacity=\"1.0\" filling=\"0\" d=\"M12.359999656677246 14.279999732971191 L13.079999923706055 14.399999618530273 L12.479999542236328 14.15999984741211\"/>\n",
       "<path fill=\"none\" stroke=\"coral\" stroke-width=\".3\" stroke-opacity=\"1.0\" filling=\"0\" d=\"M12.359999656677246 14.15999984741211 C11.880000114440918 14.039999961853027 11.520000457763672 13.920000076293945 11.279999732971191 13.680000305175781 C11.15999984741211 13.319999694824219 11.039999961853027 13.199999809265137 10.920000076293945 13.079999923706055 C10.920000076293945 12.960000038146973 10.920000076293945 13.079999923706055 11.039999961853027 13.319999694824219 L11.039999961853027 13.319999694824219\"/>\n",
       "<path fill=\"none\" stroke=\"darkviolet\" stroke-width=\".3\" stroke-opacity=\"1.0\" filling=\"0\" d=\"M9.0 14.880000114440918 C9.119999885559082 15.239999771118164 9.720000267028809 15.960000038146973 10.5600004196167 16.440000534057617\"/>\n",
       "<path fill=\"none\" stroke=\"royalblue\" stroke-width=\".3\" stroke-opacity=\"1.0\" filling=\"0\" d=\"M10.440000534057617 16.440000534057617 C11.15999984741211 16.68000030517578 11.520000457763672 16.920000076293945 11.760000228881836 16.920000076293945\"/>\n",
       "<path fill=\"none\" stroke=\"darkmagenta\" stroke-width=\".3\" stroke-opacity=\"1.0\" filling=\"0\" d=\"M11.760000228881836 16.799999237060547 C12.0 16.920000076293945 12.119999885559082 16.920000076293945 12.0 16.920000076293945 C11.880000114440918 16.920000076293945 11.640000343322754 17.040000915527344 11.279999732971191 16.920000076293945 C10.5600004196167 16.920000076293945 9.720000267028809 16.200000762939453 9.360000610351562 15.359999656677246 C9.0 14.760000228881836 9.119999885559082 14.399999618530273 9.360000610351562 14.760000228881836 L9.239999771118164 14.760000228881836\"/>\n",
       "<path fill=\"none\" stroke=\"teal\" stroke-width=\".3\" stroke-opacity=\"1.0\" filling=\"0\" d=\"M13.199999809265137 14.760000228881836 C13.079999923706055 14.880000114440918 13.079999923706055 15.0 13.319999694824219 15.0\"/>\n",
       "<path fill=\"none\" stroke=\"gold\" stroke-width=\".3\" stroke-opacity=\"1.0\" filling=\"0\" d=\"M13.199999809265137 15.0 C13.4399995803833 14.760000228881836 13.559999465942383 14.520000457763672 13.4399995803833 14.639999389648438 C13.4399995803833 14.520000457763672 13.319999694824219 14.639999389648438 13.319999694824219 14.760000228881836 L13.319999694824219 14.760000228881836\"/>\n",
       "<path fill=\"none\" stroke=\"green\" stroke-width=\".3\" stroke-opacity=\"1.0\" filling=\"0\" d=\"M16.200000762939453 14.880000114440918 C16.079999923706055 15.0 15.960000038146973 15.119999885559082 15.960000038146973 15.0\"/>\n",
       "<path fill=\"none\" stroke=\"maroon\" stroke-width=\".3\" stroke-opacity=\"1.0\" filling=\"0\" d=\"M15.960000038146973 15.119999885559082 C15.960000038146973 14.880000114440918 15.960000038146973 14.760000228881836 16.079999923706055 14.639999389648438 C16.079999923706055 14.520000457763672 16.079999923706055 14.520000457763672 16.079999923706055 14.760000228881836 L16.079999923706055 14.639999389648438\"/>\n",
       "<path fill=\"none\" stroke=\"aqua\" stroke-width=\".3\" stroke-opacity=\"1.0\" filling=\"0\" d=\"M14.880000114440918 15.960000038146973 C14.399999618530273 16.559999465942383 14.399999618530273 16.799999237060547 14.639999389648438 16.68000030517578\"/>\n",
       "<path fill=\"none\" stroke=\"grey\" stroke-width=\".3\" stroke-opacity=\"1.0\" filling=\"0\" d=\"M14.639999389648438 16.559999465942383 C14.880000114440918 16.440000534057617 16.079999923706055 15.119999885559082 15.84000015258789 15.239999771118164 C15.600000381469727 15.239999771118164 15.359999656677246 15.479999542236328 15.0 15.720000267028809 L15.0 15.720000267028809\"/>\n",
       "<path fill=\"none\" stroke=\"steelblue\" stroke-width=\".3\" stroke-opacity=\"1.0\" filling=\"0\" d=\"M14.15999984741211 16.440000534057617 C13.920000076293945 16.68000030517578 13.800000190734863 16.799999237060547 13.800000190734863 16.68000030517578\"/>\n",
       "<path fill=\"none\" stroke=\"lime\" stroke-width=\".3\" stroke-opacity=\"1.0\" filling=\"0\" d=\"M13.800000190734863 16.799999237060547 C13.920000076293945 16.799999237060547 14.15999984741211 16.68000030517578 14.399999618530273 16.559999465942383\"/>\n",
       "<path fill=\"none\" stroke=\"orange\" stroke-width=\".3\" stroke-opacity=\"1.0\" filling=\"0\" d=\"M14.279999732971191 16.559999465942383 C14.520000457763672 16.31999969482422 14.279999732971191 16.440000534057617 14.15999984741211 16.559999465942383\"/>\n",
       "<path fill=\"none\" stroke=\"deepskyblue\" stroke-width=\".3\" stroke-opacity=\"1.0\" filling=\"0\" d=\"M14.039999961853027 16.440000534057617 L14.039999961853027 16.31999969482422\"/>\n",
       "<path fill=\"none\" stroke=\"lime\" stroke-width=\".3\" stroke-opacity=\"1.0\" filling=\"0\" d=\"M11.760000228881836 16.440000534057617 C11.880000114440918 16.559999465942383 12.119999885559082 16.799999237060547 12.600000381469727 16.799999237060547 C12.84000015258789 16.68000030517578 13.079999923706055 16.68000030517578 13.319999694824219 16.559999465942383\"/>\n",
       "<path fill=\"none\" stroke=\"deeppink\" stroke-width=\".3\" stroke-opacity=\"1.0\" filling=\"0\" d=\"M13.319999694824219 16.440000534057617 C13.4399995803833 16.440000534057617 13.319999694824219 16.31999969482422 13.199999809265137 16.200000762939453\"/>\n",
       "<path fill=\"none\" stroke=\"gold\" stroke-width=\".3\" stroke-opacity=\"1.0\" filling=\"0\" d=\"M13.079999923706055 16.079999923706055 C12.960000038146973 16.079999923706055 12.84000015258789 16.200000762939453 12.720000267028809 16.559999465942383\"/>\n",
       "<path fill=\"none\" stroke=\"coral\" stroke-width=\".3\" stroke-opacity=\"1.0\" filling=\"0\" d=\"M12.720000267028809 16.440000534057617 L12.84000015258789 16.440000534057617\"/></svg>"
      ],
      "text/plain": [
       "<IPython.core.display.SVG object>"
      ]
     },
     "metadata": {},
     "output_type": "display_data"
    }
   ],
   "source": [
    "\n",
    "svg = SVGTensor.from_data(sample_p_0)\n",
    "svg = SVG.from_tensor(svg.data, viewbox=Bbox(200))\n",
    "svg.numericalize(n=200)\n",
    "\n",
    "# svg.normalize().split_paths().set_color(\"random\")\n",
    "svg.draw_colored(fill=True, color_firstlast=True)\n",
    "# svg.animate(frame_duration=0.1)"
   ]
  },
  {
   "cell_type": "code",
   "execution_count": 13,
   "metadata": {},
   "outputs": [
    {
     "data": {
      "image/svg+xml": [
       "<svg xmlns=\"http://www.w3.org/2000/svg\" viewBox=\"0.0 0.0 24.0 24.0\" height=\"200px\" width=\"200px\"><path fill=\"none\" stroke=\"deepskyblue\" stroke-width=\".3\" stroke-opacity=\"1.0\" filling=\"0\" d=\"M18.719999313354492 12.479999542236328 L18.719999313354492 23.15999984741211 L6.240000247955322 23.15999984741211 L6.240000247955322 1.8000001907348633 L18.719999313354492 1.8000001907348633 L18.719999313354492 12.479999542236328 L18.719999313354492 12.479999542236328\"/>\n",
       "<path fill=\"none\" stroke=\"lime\" stroke-width=\".3\" stroke-opacity=\"1.0\" filling=\"0\" d=\"M11.520000457763672 2.760000228881836 C11.15999984741211 3.0 10.5600004196167 3.4800004959106445 10.319999694824219 3.9600000381469727 C9.239999771118164 6.0 11.399999618530273 8.279999732971191 13.4399995803833 7.440000057220459 C15.479999542236328 6.599999904632568 15.479999542236328 3.6000003814697266 13.4399995803833 2.760000228881836 C12.84000015258789 2.520000457763672 12.0 2.520000457763672 11.520000457763672 2.760000228881836 L11.520000457763672 2.760000228881836\"/>\n",
       "<path fill=\"none\" stroke=\"deeppink\" stroke-width=\".3\" stroke-opacity=\"1.0\" filling=\"0\" d=\"M13.800000190734863 3.119999885559082 C14.760000228881836 3.8400001525878906 15.0 5.28000020980835 14.399999618530273 6.240000247955322 C14.039999961853027 6.960000038146973 13.680000305175781 7.200000286102295 12.960000038146973 7.320000171661377 C11.279999732971191 7.800000190734863 9.720000267028809 5.880000114440918 10.440000534057617 4.200000286102295 C11.039999961853027 2.880000114440918 12.600000381469727 2.40000057220459 13.800000190734863 3.239999771118164 L13.800000190734863 3.119999885559082\"/>\n",
       "<path fill=\"none\" stroke=\"gold\" stroke-width=\".3\" stroke-opacity=\"1.0\" filling=\"0\" d=\"M11.760000228881836 4.320000171661377 C11.520000457763672 4.559999942779541 11.399999618530273 4.800000190734863 11.399999618530273 5.160000324249268 C11.399999618530273 5.640000343322754 12.0 6.240000247955322 12.359999656677246 6.240000247955322 C12.960000038146973 6.240000247955322 13.4399995803833 5.880000114440918 13.559999465942383 5.519999980926514 C13.920000076293945 4.320000171661377 12.600000381469727 3.4800004959106445 11.760000228881836 4.320000171661377 L11.760000228881836 4.320000171661377\"/>\n",
       "<path fill=\"none\" stroke=\"coral\" stroke-width=\".3\" stroke-opacity=\"1.0\" filling=\"0\" d=\"M12.960000038146973 4.320000171661377 C13.680000305175781 4.680000305175781 13.680000305175781 5.640000343322754 12.960000038146973 5.880000114440918 C12.600000381469727 6.12000036239624 12.479999542236328 6.12000036239624 12.119999885559082 6.0 C12.0 5.880000114440918 11.760000228881836 5.640000343322754 11.640000343322754 5.400000095367432 C11.399999618530273 5.160000324249268 11.399999618530273 5.039999961853027 11.640000343322754 4.800000190734863 C11.760000228881836 4.440000057220459 12.239999771118164 4.080000400543213 12.479999542236328 4.080000400543213 C12.600000381469727 4.080000400543213 12.720000267028809 4.200000286102295 12.960000038146973 4.320000171661377 L12.960000038146973 4.320000171661377\"/>\n",
       "<path fill=\"none\" stroke=\"darkviolet\" stroke-width=\".3\" stroke-opacity=\"1.0\" filling=\"0\" d=\"M9.239999771118164 8.039999961853027 C8.640000343322754 8.520000457763672 7.800000190734863 9.360000610351562 7.200000286102295 10.199999809265137 L6.840000152587891 10.800000190734863 L6.840000152587891 13.4399995803833 C6.840000152587891 15.720000267028809 6.840000152587891 16.079999923706055 7.079999923706055 16.440000534057617 C7.440000057220459 17.15999984741211 8.279999732971191 18.0 9.119999885559082 18.600000381469727 L9.84000015258789 19.079999923706055 L15.119999885559082 19.079999923706055 L15.720000267028809 18.719999313354492 C16.440000534057617 18.239999771118164 17.639999389648438 17.040000915527344 17.8799991607666 16.559999465942383 C18.0 16.200000762939453 18.119998931884766 15.600000381469727 18.119998931884766 13.4399995803833 C18.119998931884766 11.520000457763672 18.119998931884766 10.680000305175781 18.0 10.440000534057617 C17.639999389648438 9.720000267028809 16.68000030517578 8.640000343322754 15.960000038146973 8.279999732971191 L15.239999771118164 7.680000305175781 L9.960000038146973 7.680000305175781 L9.239999771118164 8.039999961853027 L9.239999771118164 8.039999961853027\"/>\n",
       "<path fill=\"none\" stroke=\"royalblue\" stroke-width=\".3\" stroke-opacity=\"1.0\" filling=\"0\" d=\"M15.84000015258789 8.399999618530273 C16.200000762939453 8.520000457763672 16.68000030517578 9.0 17.040000915527344 9.479999542236328 C18.0 10.800000190734863 18.0 10.5600004196167 18.0 13.4399995803833 L18.0 16.079999923706055 L17.639999389648438 16.559999465942383 C17.15999984741211 17.279998779296875 16.440000534057617 18.0 15.720000267028809 18.479999542236328 L15.239999771118164 18.84000015258789 L12.479999542236328 18.84000015258789 C9.600000381469727 18.84000015258789 9.720000267028809 18.84000015258789 8.520000457763672 17.8799991607666 C8.279999732971191 17.639999389648438 7.800000190734863 17.15999984741211 7.559999942779541 16.799999237060547 L7.079999923706055 16.200000762939453 L7.079999923706055 10.680000305175781 L7.559999942779541 9.960000038146973 C7.800000190734863 9.600000381469727 8.279999732971191 9.119999885559082 8.520000457763672 8.880000114440918 C9.479999542236328 8.039999961853027 9.479999542236328 8.039999961853027 12.600000381469727 8.039999961853027 L15.359999656677246 8.039999961853027 L15.84000015258789 8.399999618530273 L15.84000015258789 8.399999618530273\"/>\n",
       "<path fill=\"none\" stroke=\"darkmagenta\" stroke-width=\".3\" stroke-opacity=\"1.0\" filling=\"0\" d=\"M11.760000228881836 8.880000114440918 C10.319999694824219 9.119999885559082 9.0 10.199999809265137 8.279999732971191 11.520000457763672 C7.920000076293945 12.239999771118164 7.920000076293945 12.479999542236328 7.920000076293945 13.4399995803833 C7.920000076293945 14.399999618530273 7.920000076293945 14.639999389648438 8.279999732971191 15.239999771118164 C8.399999618530273 15.600000381469727 8.760000228881836 16.200000762939453 9.0 16.440000534057617 C9.479999542236328 16.920000076293945 10.319999694824219 17.520000457763672 10.440000534057617 17.399999618530273 C10.440000534057617 17.399999618530273 10.199999809265137 17.15999984741211 9.84000015258789 17.040000915527344 C9.239999771118164 16.559999465942383 8.640000343322754 15.84000015258789 8.279999732971191 15.119999885559082 C8.15999984741211 14.639999389648438 8.15999984741211 12.600000381469727 8.279999732971191 12.0 C8.520000457763672 11.039999961853027 9.600000381469727 9.84000015258789 10.800000190734863 9.239999771118164 C11.880000114440918 8.760000228881836 13.199999809265137 8.760000228881836 14.279999732971191 9.360000610351562 C15.720000267028809 9.960000038146973 16.559999465942383 11.039999961853027 16.799999237060547 12.600000381469727 C17.040000915527344 13.319999694824219 16.920000076293945 13.920000076293945 16.68000030517578 15.119999885559082 C16.559999465942383 15.84000015258789 15.600000381469727 16.920000076293945 14.399999618530273 17.399999618530273 C13.4399995803833 17.8799991607666 12.0 18.0 10.800000190734863 17.520000457763672 C10.680000305175781 17.520000457763672 10.680000305175781 17.520000457763672 10.920000076293945 17.639999389648438 C11.15999984741211 17.8799991607666 11.520000457763672 17.8799991607666 12.479999542236328 17.8799991607666 C13.559999465942383 17.8799991607666 13.800000190734863 17.8799991607666 14.520000457763672 17.520000457763672 C15.960000038146973 16.799999237060547 16.799999237060547 15.600000381469727 17.15999984741211 14.039999961853027 C17.520000457763672 11.15999984741211 14.760000228881836 8.279999732971191 11.760000228881836 8.880000114440918 L11.760000228881836 8.880000114440918\"/>\n",
       "<path fill=\"none\" stroke=\"teal\" stroke-width=\".3\" stroke-opacity=\"1.0\" filling=\"0\" d=\"M12.720000267028809 9.84000015258789 C12.960000038146973 9.960000038146973 13.4399995803833 9.960000038146973 13.559999465942383 10.079999923706055 C13.800000190734863 10.079999923706055 13.920000076293945 10.079999923706055 13.680000305175781 9.960000038146973 C13.559999465942383 9.960000038146973 13.199999809265137 9.84000015258789 12.720000267028809 9.84000015258789 L12.0 9.720000267028809 L12.720000267028809 9.84000015258789 L12.720000267028809 9.84000015258789\"/>\n",
       "<path fill=\"none\" stroke=\"gold\" stroke-width=\".3\" stroke-opacity=\"1.0\" filling=\"0\" d=\"M11.520000457763672 9.960000038146973 C11.640000343322754 9.960000038146973 11.760000228881836 9.960000038146973 11.880000114440918 9.960000038146973 C12.0 9.960000038146973 11.880000114440918 9.84000015258789 11.760000228881836 9.84000015258789 C11.520000457763672 9.84000015258789 11.520000457763672 9.960000038146973 11.520000457763672 9.960000038146973 L11.520000457763672 9.960000038146973\"/>\n",
       "<path fill=\"none\" stroke=\"green\" stroke-width=\".3\" stroke-opacity=\"1.0\" filling=\"0\" d=\"M11.039999961853027 10.079999923706055 C11.039999961853027 10.199999809265137 11.039999961853027 10.199999809265137 11.15999984741211 10.199999809265137 C11.399999618530273 10.079999923706055 11.399999618530273 9.960000038146973 11.279999732971191 9.960000038146973 C11.15999984741211 9.960000038146973 11.039999961853027 10.079999923706055 11.039999961853027 10.079999923706055 L11.039999961853027 10.079999923706055\"/>\n",
       "<path fill=\"none\" stroke=\"maroon\" stroke-width=\".3\" stroke-opacity=\"1.0\" filling=\"0\" d=\"M14.639999389648438 10.5600004196167 C15.0 10.920000076293945 15.239999771118164 11.039999961853027 15.359999656677246 11.039999961853027 C15.359999656677246 11.039999961853027 14.279999732971191 10.079999923706055 14.039999961853027 10.079999923706055 C14.039999961853027 10.079999923706055 14.279999732971191 10.319999694824219 14.639999389648438 10.5600004196167 L14.639999389648438 10.5600004196167\"/>\n",
       "<path fill=\"none\" stroke=\"aqua\" stroke-width=\".3\" stroke-opacity=\"1.0\" filling=\"0\" d=\"M9.960000038146973 10.800000190734863 C9.360000610351562 11.399999618530273 9.600000381469727 11.279999732971191 10.440000534057617 10.680000305175781 C10.680000305175781 10.440000534057617 10.800000190734863 10.199999809265137 10.680000305175781 10.199999809265137 C10.680000305175781 10.199999809265137 10.319999694824219 10.440000534057617 9.960000038146973 10.800000190734863 L9.960000038146973 10.800000190734863\"/>\n",
       "<path fill=\"none\" stroke=\"grey\" stroke-width=\".3\" stroke-opacity=\"1.0\" filling=\"0\" d=\"M15.720000267028809 11.880000114440918 C15.960000038146973 12.359999656677246 16.079999923706055 12.720000267028809 16.079999923706055 13.4399995803833 C16.079999923706055 14.15999984741211 16.079999923706055 14.279999732971191 16.200000762939453 14.039999961853027 C16.31999969482422 13.319999694824219 15.960000038146973 11.520000457763672 15.479999542236328 11.279999732971191 C15.479999542236328 11.279999732971191 15.600000381469727 11.520000457763672 15.720000267028809 11.880000114440918 L15.720000267028809 11.880000114440918\"/>\n",
       "<path fill=\"none\" stroke=\"steelblue\" stroke-width=\".3\" stroke-opacity=\"1.0\" filling=\"0\" d=\"M9.119999885559082 12.0 C9.0 12.239999771118164 8.880000114440918 12.84000015258789 8.880000114440918 13.319999694824219 L8.880000114440918 14.15999984741211 L9.0 13.319999694824219 C9.0 12.84000015258789 9.119999885559082 12.239999771118164 9.239999771118164 12.0 C9.360000610351562 11.640000343322754 9.479999542236328 11.520000457763672 9.360000610351562 11.520000457763672 C9.360000610351562 11.520000457763672 9.239999771118164 11.640000343322754 9.119999885559082 12.0 L9.119999885559082 12.0\"/>\n",
       "<path fill=\"none\" stroke=\"lime\" stroke-width=\".3\" stroke-opacity=\"1.0\" filling=\"0\" d=\"M12.239999771118164 12.0 C12.239999771118164 12.0 12.479999542236328 12.119999885559082 12.720000267028809 12.119999885559082 C13.079999923706055 12.239999771118164 13.079999923706055 12.239999771118164 12.960000038146973 12.119999885559082 C12.84000015258789 12.0 12.119999885559082 11.880000114440918 12.239999771118164 12.0 L12.239999771118164 12.0\"/>\n",
       "<path fill=\"none\" stroke=\"orange\" stroke-width=\".3\" stroke-opacity=\"1.0\" filling=\"0\" d=\"M11.760000228881836 12.239999771118164 C11.760000228881836 12.359999656677246 11.760000228881836 12.359999656677246 11.880000114440918 12.239999771118164 C12.119999885559082 12.239999771118164 12.119999885559082 12.119999885559082 12.0 12.119999885559082 C11.880000114440918 12.119999885559082 11.880000114440918 12.119999885559082 11.760000228881836 12.239999771118164 L11.760000228881836 12.239999771118164\"/>\n",
       "<path fill=\"none\" stroke=\"deepskyblue\" stroke-width=\".3\" stroke-opacity=\"1.0\" filling=\"0\" d=\"M13.4399995803833 12.479999542236328 C13.559999465942383 12.600000381469727 13.680000305175781 12.720000267028809 13.680000305175781 12.720000267028809 C13.800000190734863 12.720000267028809 13.680000305175781 12.600000381469727 13.559999465942383 12.479999542236328 C13.4399995803833 12.359999656677246 13.319999694824219 12.239999771118164 13.199999809265137 12.239999771118164 C13.199999809265137 12.239999771118164 13.319999694824219 12.359999656677246 13.4399995803833 12.479999542236328 L13.4399995803833 12.479999542236328\"/>\n",
       "<path fill=\"none\" stroke=\"lime\" stroke-width=\".3\" stroke-opacity=\"1.0\" filling=\"0\" d=\"M11.399999618530273 12.600000381469727 C11.279999732971191 12.720000267028809 11.279999732971191 12.84000015258789 11.279999732971191 12.84000015258789 C11.279999732971191 12.84000015258789 11.399999618530273 12.720000267028809 11.520000457763672 12.600000381469727 C11.520000457763672 12.479999542236328 11.520000457763672 12.359999656677246 11.520000457763672 12.359999656677246 C11.520000457763672 12.359999656677246 11.399999618530273 12.479999542236328 11.399999618530273 12.600000381469727 L11.399999618530273 12.600000381469727\"/>\n",
       "<path fill=\"none\" stroke=\"deeppink\" stroke-width=\".3\" stroke-opacity=\"1.0\" filling=\"0\" d=\"M13.680000305175781 13.199999809265137 C13.680000305175781 13.4399995803833 13.800000190734863 13.559999465942383 13.920000076293945 13.559999465942383 C14.039999961853027 13.559999465942383 14.039999961853027 13.319999694824219 13.920000076293945 13.079999923706055 C13.800000190734863 12.720000267028809 13.680000305175781 12.84000015258789 13.680000305175781 13.199999809265137 L13.680000305175781 13.199999809265137\"/>\n",
       "<path fill=\"none\" stroke=\"gold\" stroke-width=\".3\" stroke-opacity=\"1.0\" filling=\"0\" d=\"M11.15999984741211 13.4399995803833 C11.15999984741211 13.800000190734863 11.15999984741211 13.920000076293945 11.520000457763672 14.279999732971191 C11.880000114440918 14.639999389648438 12.0 14.760000228881836 12.479999542236328 14.760000228881836 L13.079999923706055 14.639999389648438 L12.479999542236328 14.639999389648438 C11.640000343322754 14.520000457763672 11.15999984741211 14.039999961853027 11.279999732971191 13.4399995803833 C11.279999732971191 13.199999809265137 11.279999732971191 12.960000038146973 11.15999984741211 12.960000038146973 C11.15999984741211 12.960000038146973 11.15999984741211 13.199999809265137 11.15999984741211 13.4399995803833 L11.15999984741211 13.4399995803833\"/>\n",
       "<path fill=\"none\" stroke=\"coral\" stroke-width=\".3\" stroke-opacity=\"1.0\" filling=\"0\" d=\"M9.0 14.399999618530273 C9.0 14.639999389648438 9.720000267028809 15.84000015258789 10.079999923706055 16.200000762939453 C10.440000534057617 16.440000534057617 11.399999618530273 17.040000915527344 11.520000457763672 17.040000915527344 C11.520000457763672 17.040000915527344 11.640000343322754 16.920000076293945 11.640000343322754 16.920000076293945 C11.640000343322754 16.799999237060547 11.399999618530273 16.68000030517578 11.279999732971191 16.68000030517578 C10.5600004196167 16.559999465942383 9.84000015258789 15.84000015258789 9.360000610351562 15.0 C9.119999885559082 14.520000457763672 9.0 14.279999732971191 9.0 14.399999618530273 L9.0 14.399999618530273\"/>\n",
       "<path fill=\"none\" stroke=\"darkviolet\" stroke-width=\".3\" stroke-opacity=\"1.0\" filling=\"0\" d=\"M13.319999694824219 14.399999618530273 C13.079999923706055 14.639999389648438 13.079999923706055 14.639999389648438 13.319999694824219 14.520000457763672 C13.4399995803833 14.399999618530273 13.559999465942383 14.279999732971191 13.559999465942383 14.279999732971191 C13.559999465942383 14.15999984741211 13.559999465942383 14.15999984741211 13.319999694824219 14.399999618530273 L13.319999694824219 14.399999618530273\"/>\n",
       "<path fill=\"none\" stroke=\"royalblue\" stroke-width=\".3\" stroke-opacity=\"1.0\" filling=\"0\" d=\"M15.84000015258789 14.639999389648438 C15.720000267028809 15.0 15.720000267028809 15.119999885559082 15.84000015258789 14.760000228881836 C15.960000038146973 14.639999389648438 15.960000038146973 14.520000457763672 15.960000038146973 14.520000457763672 C15.960000038146973 14.520000457763672 15.84000015258789 14.520000457763672 15.84000015258789 14.639999389648438 L15.84000015258789 14.639999389648438\"/>\n",
       "<path fill=\"none\" stroke=\"darkmagenta\" stroke-width=\".3\" stroke-opacity=\"1.0\" filling=\"0\" d=\"M15.0 15.84000015258789 C14.399999618530273 16.559999465942383 14.399999618530273 16.559999465942383 15.0 16.079999923706055 C15.359999656677246 15.600000381469727 15.84000015258789 15.119999885559082 15.720000267028809 15.119999885559082 C15.720000267028809 15.119999885559082 15.359999656677246 15.479999542236328 15.0 15.84000015258789 L15.0 15.84000015258789\"/>\n",
       "<path fill=\"none\" stroke=\"teal\" stroke-width=\".3\" stroke-opacity=\"1.0\" filling=\"0\" d=\"M13.920000076293945 16.68000030517578 C13.800000190734863 16.799999237060547 13.680000305175781 16.799999237060547 13.800000190734863 16.799999237060547 C13.920000076293945 16.799999237060547 14.039999961853027 16.799999237060547 14.15999984741211 16.68000030517578 C14.520000457763672 16.440000534057617 14.399999618530273 16.440000534057617 13.920000076293945 16.68000030517578 L13.920000076293945 16.68000030517578\"/>\n",
       "<path fill=\"none\" stroke=\"gold\" stroke-width=\".3\" stroke-opacity=\"1.0\" filling=\"0\" d=\"M12.600000381469727 16.799999237060547 C11.760000228881836 16.920000076293945 11.520000457763672 17.15999984741211 12.479999542236328 17.15999984741211 C13.199999809265137 17.15999984741211 13.559999465942383 17.040000915527344 13.559999465942383 16.799999237060547 C13.559999465942383 16.799999237060547 13.559999465942383 16.799999237060547 13.559999465942383 16.799999237060547 C13.4399995803833 16.799999237060547 13.079999923706055 16.799999237060547 12.600000381469727 16.799999237060547 L12.600000381469727 16.799999237060547\"/></svg>"
      ],
      "text/plain": [
       "<IPython.core.display.SVG object>"
      ]
     },
     "metadata": {},
     "output_type": "display_data"
    }
   ],
   "source": [
    "\n",
    "svg = SVGTensor.from_data(sample_g_0)\n",
    "svg = SVG.from_tensor(svg.data, viewbox=Bbox(200))\n",
    "svg.numericalize(n=200)\n",
    "\n",
    "# svg.normalize().split_paths().set_color(\"random\")\n",
    "svg.draw_colored(fill=True, color_firstlast=True)\n",
    "# svg.animate(frame_duration=0.1)"
   ]
  },
  {
   "cell_type": "code",
   "execution_count": 19,
   "metadata": {},
   "outputs": [
    {
     "name": "stdout",
     "output_type": "stream",
     "text": [
      "begin to read data from /zecheng2/vqllama/test_vq_seq2seq/test_flat_t5/snap_0_results.pkl ...\n"
     ]
    }
   ],
   "source": [
    "tmp = auto_read_data(\"/zecheng2/vqllama/test_vq_seq2seq/test_flat_t5/snap_0_results.pkl\")"
   ]
  },
  {
   "cell_type": "code",
   "execution_count": 18,
   "metadata": {},
   "outputs": [
    {
     "data": {
      "text/plain": [
       "{'keywords': ['speaker'],\n",
       " 'mesh_data': tensor([[  0.,   0.,   0.,  ...,   0.,   4., 104.],\n",
       "         [  1.,   4., 104.,  ...,   0.,   4., 199.],\n",
       "         [  1.,   4., 199.,  ...,   0., 199., 199.],\n",
       "         ...,\n",
       "         [  2., 113., 140.,  ..., 140., 113., 140.],\n",
       "         [  2., 113., 140.,  ..., 140., 105., 140.],\n",
       "         [  1., 105., 140.,  ...,   0., 105., 140.]])}"
      ]
     },
     "execution_count": 18,
     "metadata": {},
     "output_type": "execute_result"
    }
   ],
   "source": [
    "len(tmp)"
   ]
  },
  {
   "cell_type": "code",
   "execution_count": 16,
   "metadata": {},
   "outputs": [],
   "source": [
    "def remove_padding(x, padding_mask):\n",
    "    \"\"\"\n",
    "    x: (batch_size x) seq_len num_bins\n",
    "    padding: seq_len x num_bins\n",
    "\n",
    "    if batch, return List[Tensor]\n",
    "    if tensor, return Tensor\n",
    "    \"\"\"\n",
    "    if x.ndim == 2:  # seq_len x num_bins\n",
    "        return x[:padding_mask.sum(), :]\n",
    "    elif x.ndim == 3:  # batch_size x seq_len x num_bins\n",
    "        res = []\n",
    "        for i in range(x.size(0)):\n",
    "            res.append(x[i, :padding_mask[i].sum(), :])\n",
    "        return res\n",
    "\n",
    "def postprocess(x, padding_mask=None, path_interpolation=True):\n",
    "    \"\"\"\n",
    "    postprocess the generated results\n",
    "\n",
    "    x: batch_size x seq_len x 9\n",
    "    padding_mask: batch_size x seq_len\n",
    "    path_interpolation: whether to interpolate the path\n",
    "    \"\"\"\n",
    "    dtype = x.dtype\n",
    "    if x.ndim == 2:\n",
    "        x = x.unsqueeze(0)\n",
    "    if padding_mask.ndim == 1:\n",
    "        padding_mask = padding_mask.unsqueeze(0)\n",
    "\n",
    "    if path_interpolation:  \n",
    "        # conduct path interpolation\n",
    "        # return List[Tensor]\n",
    "        batch_size = x.size(0)\n",
    "        x = remove_padding(x, padding_mask)  # remove the padding\n",
    "        full_x = []\n",
    "        for i in range(batch_size):\n",
    "            current_path = []\n",
    "            last_x3, last_y3 = None, None\n",
    "            seq_len = x[i].size(0)\n",
    "            for j in range(seq_len):\n",
    "                row = x[i][j]\n",
    "                cmd = 100 * torch.round(row[0] / 100).item()\n",
    "                cmd = 1 if cmd == 100 else 2 if cmd == 200 else 0\n",
    "                x0, y0, x1, y1, x2, y2, x3, y3 = map(lambda coord: min(max(coord, 0), 200), row[1:].tolist())\n",
    "                if last_x3 is not None and (last_x3 != x0 or last_y3 != y0):\n",
    "                    # if the current row's start point is not the same as the previous row's end point\n",
    "                    current_path.append([0, last_x3, last_y3, 0, 0, 0, 0, x0, y0])\n",
    "                if cmd in [0, 100]:\n",
    "                    # if the current row is M or L, set control point to 0\n",
    "                    x1, y1, x2, y2 = 0, 0, 0, 0\n",
    "                current_path.append([cmd, x0, y0, x1, y1, x2, y2, x3, y3])\n",
    "                last_x3, last_y3 = x3, y3  # update the last end point\n",
    "            full_x.append(torch.tensor(current_path, dtype=dtype))\n",
    "    \n",
    "    else:  # no path interpolation\n",
    "        if x.size(-1) == 9:\n",
    "            # first remove the 1, 2 columns\n",
    "            m_x = torch.cat((x[:, :, :1], x[:, :, 3:]), dim=2)\n",
    "        else:\n",
    "            m_x = x\n",
    "        # find the right command value\n",
    "        m_x[:, :, 0] = torch.round(m_x[:, :, 0] / 100) * 100\n",
    "        # clip all the value to max bins \n",
    "        m_x = torch.clamp(m_x, 0, 200)\n",
    "        # process the M and L path                                                              \n",
    "        m_x[:, :, 1:5][m_x[:, :, 0] != 200] = 0\n",
    "        # add to extra column to satisfy the 9 columns\n",
    "        x_0_y_0 = torch.zeros((m_x.size(0), m_x.size(1), 2), dtype=m_x.dtype, device=m_x.device)\n",
    "        x_0_y_0[:, 1:, 0] = m_x[:, :-1, -2]  # x_3 of the previous row\n",
    "        x_0_y_0[:, 1:, 1] = m_x[:, :-1, -1]  # y_3 of the previous row\n",
    "        full_x = torch.cat((m_x[:, :, :1], x_0_y_0, m_x[:, :, 1:]), dim=2)\n",
    "        # replace the command value to 0, 1, 2\n",
    "        full_x[:, :, 0][full_x[:, :, 0] == 100] = 1\n",
    "        full_x[:, :, 0][full_x[:, :, 0] == 200] = 2\n",
    "        # remove the padding\n",
    "        full_x = remove_padding(full_x, padding_mask)\n",
    "\n",
    "    return full_x"
   ]
  },
  {
   "cell_type": "code",
   "execution_count": 15,
   "metadata": {},
   "outputs": [
    {
     "ename": "ValueError",
     "evalue": "'SOS' is not a valid SVGCmdEnum",
     "output_type": "error",
     "traceback": [
      "\u001b[0;31m---------------------------------------------------------------------------\u001b[0m",
      "\u001b[0;31mValueError\u001b[0m                                Traceback (most recent call last)",
      "Cell \u001b[0;32mIn[15], line 2\u001b[0m\n\u001b[1;32m      1\u001b[0m svg \u001b[38;5;241m=\u001b[39m SVGTensor\u001b[38;5;241m.\u001b[39mfrom_data(sample_r_0)\n\u001b[0;32m----> 2\u001b[0m svg \u001b[38;5;241m=\u001b[39m \u001b[43mSVG\u001b[49m\u001b[38;5;241;43m.\u001b[39;49m\u001b[43mfrom_tensor\u001b[49m\u001b[43m(\u001b[49m\u001b[43msvg\u001b[49m\u001b[38;5;241;43m.\u001b[39;49m\u001b[43mdata\u001b[49m\u001b[43m,\u001b[49m\u001b[43m \u001b[49m\u001b[43mviewbox\u001b[49m\u001b[38;5;241;43m=\u001b[39;49m\u001b[43mBbox\u001b[49m\u001b[43m(\u001b[49m\u001b[38;5;241;43m200\u001b[39;49m\u001b[43m)\u001b[49m\u001b[43m)\u001b[49m\n\u001b[1;32m      3\u001b[0m svg\u001b[38;5;241m.\u001b[39mnumericalize(n\u001b[38;5;241m=\u001b[39m\u001b[38;5;241m200\u001b[39m)\n\u001b[1;32m      5\u001b[0m \u001b[38;5;66;03m# svg.normalize().split_paths().set_color(\"random\")\u001b[39;00m\n",
      "File \u001b[0;32m/workspace/zecheng/modelzipper/projects/change_deepsvg/svglib/svg.py:166\u001b[0m, in \u001b[0;36mSVG.from_tensor\u001b[0;34m(tensor, viewbox, allow_empty)\u001b[0m\n\u001b[1;32m    163\u001b[0m \u001b[38;5;28;01mif\u001b[39;00m viewbox \u001b[38;5;129;01mis\u001b[39;00m \u001b[38;5;28;01mNone\u001b[39;00m:\n\u001b[1;32m    164\u001b[0m     viewbox \u001b[38;5;241m=\u001b[39m Bbox(\u001b[38;5;241m24\u001b[39m)\n\u001b[0;32m--> 166\u001b[0m svg \u001b[38;5;241m=\u001b[39m SVG([\u001b[43mSVGPath\u001b[49m\u001b[38;5;241;43m.\u001b[39;49m\u001b[43mfrom_tensor\u001b[49m\u001b[43m(\u001b[49m\u001b[43mtensor\u001b[49m\u001b[43m,\u001b[49m\u001b[43m \u001b[49m\u001b[43mallow_empty\u001b[49m\u001b[38;5;241;43m=\u001b[39;49m\u001b[43mallow_empty\u001b[49m\u001b[43m)\u001b[49m], viewbox\u001b[38;5;241m=\u001b[39mviewbox)\n\u001b[1;32m    167\u001b[0m \u001b[38;5;28;01mreturn\u001b[39;00m svg\n",
      "File \u001b[0;32m/workspace/zecheng/modelzipper/projects/change_deepsvg/svglib/svg_path.py:115\u001b[0m, in \u001b[0;36mSVGPath.from_tensor\u001b[0;34m(tensor, allow_empty)\u001b[0m\n\u001b[1;32m    113\u001b[0m \u001b[38;5;129m@staticmethod\u001b[39m\n\u001b[1;32m    114\u001b[0m \u001b[38;5;28;01mdef\u001b[39;00m \u001b[38;5;21mfrom_tensor\u001b[39m(tensor: torch\u001b[38;5;241m.\u001b[39mTensor, allow_empty\u001b[38;5;241m=\u001b[39m\u001b[38;5;28;01mFalse\u001b[39;00m):\n\u001b[0;32m--> 115\u001b[0m     \u001b[38;5;28;01mreturn\u001b[39;00m SVGPath\u001b[38;5;241m.\u001b[39mfrom_commands([SVGCommand\u001b[38;5;241m.\u001b[39mfrom_tensor(row) \u001b[38;5;28;01mfor\u001b[39;00m row \u001b[38;5;129;01min\u001b[39;00m tensor], allow_empty\u001b[38;5;241m=\u001b[39mallow_empty)\n",
      "File \u001b[0;32m/workspace/zecheng/modelzipper/projects/change_deepsvg/svglib/svg_path.py:115\u001b[0m, in \u001b[0;36m<listcomp>\u001b[0;34m(.0)\u001b[0m\n\u001b[1;32m    113\u001b[0m \u001b[38;5;129m@staticmethod\u001b[39m\n\u001b[1;32m    114\u001b[0m \u001b[38;5;28;01mdef\u001b[39;00m \u001b[38;5;21mfrom_tensor\u001b[39m(tensor: torch\u001b[38;5;241m.\u001b[39mTensor, allow_empty\u001b[38;5;241m=\u001b[39m\u001b[38;5;28;01mFalse\u001b[39;00m):\n\u001b[0;32m--> 115\u001b[0m     \u001b[38;5;28;01mreturn\u001b[39;00m SVGPath\u001b[38;5;241m.\u001b[39mfrom_commands([\u001b[43mSVGCommand\u001b[49m\u001b[38;5;241;43m.\u001b[39;49m\u001b[43mfrom_tensor\u001b[49m\u001b[43m(\u001b[49m\u001b[43mrow\u001b[49m\u001b[43m)\u001b[49m \u001b[38;5;28;01mfor\u001b[39;00m row \u001b[38;5;129;01min\u001b[39;00m tensor], allow_empty\u001b[38;5;241m=\u001b[39mallow_empty)\n",
      "File \u001b[0;32m/workspace/zecheng/modelzipper/projects/change_deepsvg/svglib/svg_command.py:137\u001b[0m, in \u001b[0;36mSVGCommand.from_tensor\u001b[0;34m(vector)\u001b[0m\n\u001b[1;32m    133\u001b[0m \u001b[38;5;129m@staticmethod\u001b[39m\n\u001b[1;32m    134\u001b[0m \u001b[38;5;28;01mdef\u001b[39;00m \u001b[38;5;21mfrom_tensor\u001b[39m(vector: torch\u001b[38;5;241m.\u001b[39mTensor):\n\u001b[1;32m    135\u001b[0m     cmd_index, args \u001b[38;5;241m=\u001b[39m \u001b[38;5;28mint\u001b[39m(vector[\u001b[38;5;241m0\u001b[39m]), vector[\u001b[38;5;241m1\u001b[39m:]\n\u001b[0;32m--> 137\u001b[0m     cmd \u001b[38;5;241m=\u001b[39m \u001b[43mSVGCmdEnum\u001b[49m\u001b[43m(\u001b[49m\u001b[43mSVGTensor\u001b[49m\u001b[38;5;241;43m.\u001b[39;49m\u001b[43mCOMMANDS_SIMPLIFIED\u001b[49m\u001b[43m[\u001b[49m\u001b[43mcmd_index\u001b[49m\u001b[43m]\u001b[49m\u001b[43m)\u001b[49m\n\u001b[1;32m    138\u001b[0m     \u001b[38;5;66;03m# radius = Radius(*args[:2].tolist())\u001b[39;00m\n\u001b[1;32m    139\u001b[0m     \u001b[38;5;66;03m# x_axis_rotation = Angle(*args[2:3].tolist())\u001b[39;00m\n\u001b[1;32m    140\u001b[0m     \u001b[38;5;66;03m# large_arc_flag = Flag(args[3].item())\u001b[39;00m\n\u001b[0;32m   (...)\u001b[0m\n\u001b[1;32m    144\u001b[0m     \u001b[38;5;66;03m# control2 = Point(*args[9:11].tolist())\u001b[39;00m\n\u001b[1;32m    145\u001b[0m     \u001b[38;5;66;03m# end_pos = Point(*args[11:].tolist())\u001b[39;00m\n\u001b[1;32m    146\u001b[0m     radius \u001b[38;5;241m=\u001b[39m \u001b[38;5;28;01mNone\u001b[39;00m\n",
      "File \u001b[0;32m/opt/conda/envs/llama/lib/python3.10/enum.py:385\u001b[0m, in \u001b[0;36mEnumMeta.__call__\u001b[0;34m(cls, value, names, module, qualname, type, start)\u001b[0m\n\u001b[1;32m    360\u001b[0m \u001b[38;5;250m\u001b[39m\u001b[38;5;124;03m\"\"\"\u001b[39;00m\n\u001b[1;32m    361\u001b[0m \u001b[38;5;124;03mEither returns an existing member, or creates a new enum class.\u001b[39;00m\n\u001b[1;32m    362\u001b[0m \n\u001b[0;32m   (...)\u001b[0m\n\u001b[1;32m    382\u001b[0m \u001b[38;5;124;03m`type`, if set, will be mixed in as the first base class.\u001b[39;00m\n\u001b[1;32m    383\u001b[0m \u001b[38;5;124;03m\"\"\"\u001b[39;00m\n\u001b[1;32m    384\u001b[0m \u001b[38;5;28;01mif\u001b[39;00m names \u001b[38;5;129;01mis\u001b[39;00m \u001b[38;5;28;01mNone\u001b[39;00m:  \u001b[38;5;66;03m# simple value lookup\u001b[39;00m\n\u001b[0;32m--> 385\u001b[0m     \u001b[38;5;28;01mreturn\u001b[39;00m \u001b[38;5;28;43mcls\u001b[39;49m\u001b[38;5;241;43m.\u001b[39;49m\u001b[38;5;21;43m__new__\u001b[39;49m\u001b[43m(\u001b[49m\u001b[38;5;28;43mcls\u001b[39;49m\u001b[43m,\u001b[49m\u001b[43m \u001b[49m\u001b[43mvalue\u001b[49m\u001b[43m)\u001b[49m\n\u001b[1;32m    386\u001b[0m \u001b[38;5;66;03m# otherwise, functional API: we're creating a new Enum type\u001b[39;00m\n\u001b[1;32m    387\u001b[0m \u001b[38;5;28;01mreturn\u001b[39;00m \u001b[38;5;28mcls\u001b[39m\u001b[38;5;241m.\u001b[39m_create_(\n\u001b[1;32m    388\u001b[0m         value,\n\u001b[1;32m    389\u001b[0m         names,\n\u001b[0;32m   (...)\u001b[0m\n\u001b[1;32m    393\u001b[0m         start\u001b[38;5;241m=\u001b[39mstart,\n\u001b[1;32m    394\u001b[0m         )\n",
      "File \u001b[0;32m/opt/conda/envs/llama/lib/python3.10/enum.py:710\u001b[0m, in \u001b[0;36mEnum.__new__\u001b[0;34m(cls, value)\u001b[0m\n\u001b[1;32m    708\u001b[0m ve_exc \u001b[38;5;241m=\u001b[39m \u001b[38;5;167;01mValueError\u001b[39;00m(\u001b[38;5;124m\"\u001b[39m\u001b[38;5;132;01m%r\u001b[39;00m\u001b[38;5;124m is not a valid \u001b[39m\u001b[38;5;132;01m%s\u001b[39;00m\u001b[38;5;124m\"\u001b[39m \u001b[38;5;241m%\u001b[39m (value, \u001b[38;5;28mcls\u001b[39m\u001b[38;5;241m.\u001b[39m\u001b[38;5;18m__qualname__\u001b[39m))\n\u001b[1;32m    709\u001b[0m \u001b[38;5;28;01mif\u001b[39;00m result \u001b[38;5;129;01mis\u001b[39;00m \u001b[38;5;28;01mNone\u001b[39;00m \u001b[38;5;129;01mand\u001b[39;00m exc \u001b[38;5;129;01mis\u001b[39;00m \u001b[38;5;28;01mNone\u001b[39;00m:\n\u001b[0;32m--> 710\u001b[0m     \u001b[38;5;28;01mraise\u001b[39;00m ve_exc\n\u001b[1;32m    711\u001b[0m \u001b[38;5;28;01melif\u001b[39;00m exc \u001b[38;5;129;01mis\u001b[39;00m \u001b[38;5;28;01mNone\u001b[39;00m:\n\u001b[1;32m    712\u001b[0m     exc \u001b[38;5;241m=\u001b[39m \u001b[38;5;167;01mTypeError\u001b[39;00m(\n\u001b[1;32m    713\u001b[0m             \u001b[38;5;124m'\u001b[39m\u001b[38;5;124merror in \u001b[39m\u001b[38;5;132;01m%s\u001b[39;00m\u001b[38;5;124m._missing_: returned \u001b[39m\u001b[38;5;132;01m%r\u001b[39;00m\u001b[38;5;124m instead of None or a valid member\u001b[39m\u001b[38;5;124m'\u001b[39m\n\u001b[1;32m    714\u001b[0m             \u001b[38;5;241m%\u001b[39m (\u001b[38;5;28mcls\u001b[39m\u001b[38;5;241m.\u001b[39m\u001b[38;5;18m__name__\u001b[39m, result)\n\u001b[1;32m    715\u001b[0m             )\n",
      "\u001b[0;31mValueError\u001b[0m: 'SOS' is not a valid SVGCmdEnum"
     ]
    }
   ],
   "source": [
    "\n",
    "svg = SVGTensor.from_data(sample_r_0)\n",
    "svg = SVG.from_tensor(svg.data, viewbox=Bbox(200))\n",
    "svg.numericalize(n=200)\n",
    "\n",
    "# svg.normalize().split_paths().set_color(\"random\")\n",
    "svg.draw_colored(fill=True, color_firstlast=True)\n",
    "svg.animate(frame_duration=0.1)"
   ]
  }
 ],
 "metadata": {
  "kernelspec": {
   "display_name": "llama",
   "language": "python",
   "name": "python3"
  },
  "language_info": {
   "codemirror_mode": {
    "name": "ipython",
    "version": 3
   },
   "file_extension": ".py",
   "mimetype": "text/x-python",
   "name": "python",
   "nbconvert_exporter": "python",
   "pygments_lexer": "ipython3",
   "version": "3.10.13"
  }
 },
 "nbformat": 4,
 "nbformat_minor": 2
}
