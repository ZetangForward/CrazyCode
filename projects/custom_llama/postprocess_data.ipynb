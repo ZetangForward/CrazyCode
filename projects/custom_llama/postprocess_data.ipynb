{
 "cells": [
  {
   "cell_type": "code",
   "execution_count": 1,
   "metadata": {},
   "outputs": [
    {
     "name": "stderr",
     "output_type": "stream",
     "text": [
      "/opt/conda/envs/llama/lib/python3.10/site-packages/tqdm/auto.py:21: TqdmWarning: IProgress not found. Please update jupyter and ipywidgets. See https://ipywidgets.readthedocs.io/en/stable/user_install.html\n",
      "  from .autonotebook import tqdm as notebook_tqdm\n"
     ]
    },
    {
     "name": "stdout",
     "output_type": "stream",
     "text": [
      "ModelZipper is ready for launch🚀 | Current Version🦄 >>> 0.2.6 <<< | AOE Time🕒 2024-01-03 19:53:44\n"
     ]
    },
    {
     "ename": "",
     "evalue": "",
     "output_type": "error",
     "traceback": [
      "\u001b[1;31m在当前单元格或上一个单元格中执行代码时 Kernel 崩溃。请查看单元格中的代码，以确定故障的可能原因。有关详细信息，请单击 <a href='https://aka.ms/vscodeJupyterKernelCrash'>此处</a>。有关更多详细信息，请查看 Jupyter <a href='command:jupyter.viewOutput'>log</a>。"
     ]
    }
   ],
   "source": [
    "from modelzipper.tutils import *\n",
    "import numpy as np\n",
    "\n",
    "FILE = \"/zecheng2/vqllama/test_vqllama_quantizer/test_0/predictions.pkl\"\n",
    "\n",
    "results = auto_read_data(FILE)\n",
    "\n",
    "\n",
    "def find_closest(x, y):\n",
    "    \"\"\"\n",
    "    x: seq_len x 9\n",
    "    y: seq_len x 9\n",
    "    \"\"\"\n",
    "    dist = np.sum((x - y) ** 2, axis=1)\n",
    "    return np.argmin(dist)\n",
    "\n",
    "def postprocess(x):\n",
    "    \"\"\"\n",
    "    x: seq_len x 9\n",
    "    \"\"\"\n",
    "    # first remove the 1, 2 columns\n",
    "    modified_tensor = torch.cat((x[:, :1], x[:, 3:]), dim=1)\n",
    "\n",
    "    return modified_tensor\n",
    "\n",
    "for batch in results:\n",
    "    for i in range(len(batch['predict'])):\n",
    "        predict, golden = batch['predict'][i], batch['input'][i]\n",
    "        res = postprocess(predict[:30])\n",
    "        print(res)\n",
    "        break\n",
    "    break\n"
   ]
  },
  {
   "cell_type": "code",
   "execution_count": 14,
   "metadata": {},
   "outputs": [
    {
     "data": {
      "text/plain": [
       "torch.Size([512, 9])"
      ]
     },
     "execution_count": 14,
     "metadata": {},
     "output_type": "execute_result"
    }
   ],
   "source": [
    "results[0]['predict'][0].shape\n"
   ]
  },
  {
   "cell_type": "code",
   "execution_count": 16,
   "metadata": {},
   "outputs": [
    {
     "data": {
      "text/plain": [
       "dict_keys(['predict', 'input', 'metrics'])"
      ]
     },
     "execution_count": 16,
     "metadata": {},
     "output_type": "execute_result"
    }
   ],
   "source": [
    "results[0].keys()"
   ]
  }
 ],
 "metadata": {
  "kernelspec": {
   "display_name": "llama",
   "language": "python",
   "name": "python3"
  },
  "language_info": {
   "codemirror_mode": {
    "name": "ipython",
    "version": 3
   },
   "file_extension": ".py",
   "mimetype": "text/x-python",
   "name": "python",
   "nbconvert_exporter": "python",
   "pygments_lexer": "ipython3",
   "version": "3.10.13"
  }
 },
 "nbformat": 4,
 "nbformat_minor": 2
}
