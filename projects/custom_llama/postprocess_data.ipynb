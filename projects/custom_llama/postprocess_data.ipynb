{
 "cells": [
  {
   "cell_type": "code",
   "execution_count": 2,
   "metadata": {},
   "outputs": [],
   "source": [
    "from modelzipper.tutils import *\n",
    "\n",
    "FILE = \"/zecheng2/vqllama/test_vqllama_quantizer/test_0/predictions.pkl\"\n",
    "\n",
    "results = auto_read_data(FILE)\n",
    "\n",
    "for item in results:\n",
    "    res = postprocess(item['predict'])\n",
    "\n",
    "def postprocess(x):\n",
    "    \n",
    "\n",
    "\n"
   ]
  },
  {
   "cell_type": "code",
   "execution_count": 8,
   "metadata": {},
   "outputs": [
    {
     "data": {
      "text/plain": [
       "tensor([[  1,  -1,   1,   2,   0,   1,   0,   4, 105],\n",
       "        [ 99,   3, 105,   3,   0,   3,   0,   5, 199],\n",
       "        [101,   7, 200,   1,   1,   1,   1, 200, 200],\n",
       "        [ 98, 201, 201,   0,   1,   0,   0, 200,   6],\n",
       "        [105, 200,   3,   3,   0,   1,  -1,   7,   7],\n",
       "        [ 98,   7,   5,   2,   0,   1,   0,   8, 104],\n",
       "        [ 99,   7, 107,   0,  -1,   2,   0,   8, 106],\n",
       "        [ -5,   8, 108,  -1,  -1,  -1,   1, 179, 105],\n",
       "        [103, 183, 102,   1,  -2,   5,   1, 181, 197],\n",
       "        [ 93, 183, 195,   1,   5,   3,   2,  51, 197],\n",
       "        [ 95,  49, 193,   3,   4,   0,  -2,  63,  24],\n",
       "        [ 97,  62,  21,   4,  -7,   3,  -3, 155,  21],\n",
       "        [ 98, 157,  19,  -2,  -3,  -1,  -1, 169, 104],\n",
       "        [ 98, 172, 104,   0,   0,   0,   2, 170, 109],\n",
       "        [  4, 170, 106,  -2,  -1,  -3,  -3, 100,  16],\n",
       "        [195, 100,  16,  92,  27,  88,  36,  93,  44],\n",
       "        [202,  96,  42,  98,  52, 105,  58, 111,  55],\n",
       "        [197, 112,  55, 116,  48, 117,  34, 112,  30],\n",
       "        [201, 113,  30, 104,  20,  95,  13,  92,  16],\n",
       "        [ 98,  94,  18,  -1,  -1,  -2,   0,  92,  18],\n",
       "        [  3,  92,  19,   1,   1,   0,   0, 116,  39],\n",
       "        [198, 113,  37, 118,  41, 118,  49, 119,  56],\n",
       "        [203, 118,  54, 121,  58, 115,  62, 105,  62],\n",
       "        [196, 106,  62,  97,  58,  90,  47,  94,  42],\n",
       "        [201,  98,  42,  91,  31, 104,  24, 123,  27],\n",
       "        [103, 123,  29,   0,   0,  -1,   0, 123,  27],\n",
       "        [  1, 123,  27,  -2,   0,  -3,   0, 100,  30],\n",
       "        [196,  99,  29,  93,  31,  89,  36,  96,  41],\n",
       "        [202,  94,  39,  96,  43, 101,  48, 103,  48],\n",
       "        [198, 105,  48, 110,  44, 115,  38, 113,  35]])"
      ]
     },
     "execution_count": 8,
     "metadata": {},
     "output_type": "execute_result"
    }
   ],
   "source": [
    "results[0]['predict'][0][:30]"
   ]
  }
 ],
 "metadata": {
  "kernelspec": {
   "display_name": "llama",
   "language": "python",
   "name": "python3"
  },
  "language_info": {
   "codemirror_mode": {
    "name": "ipython",
    "version": 3
   },
   "file_extension": ".py",
   "mimetype": "text/x-python",
   "name": "python",
   "nbconvert_exporter": "python",
   "pygments_lexer": "ipython3",
   "version": "3.10.13"
  }
 },
 "nbformat": 4,
 "nbformat_minor": 2
}
